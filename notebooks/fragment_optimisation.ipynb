{
 "cells": [
  {
   "cell_type": "code",
   "execution_count": 1,
   "id": "66829fb5",
   "metadata": {},
   "outputs": [
    {
     "name": "stderr",
     "output_type": "stream",
     "text": [
      "/Users/fmaclean/miniconda3/envs/murd/lib/python3.8/site-packages/tqdm/auto.py:22: TqdmWarning: IProgress not found. Please update jupyter and ipywidgets. See https://ipywidgets.readthedocs.io/en/stable/user_install.html\n",
      "  from .autonotebook import tqdm as notebook_tqdm\n",
      "/Users/fmaclean/miniconda3/envs/murd/lib/python3.8/site-packages/MDAnalysis/coordinates/chemfiles.py:108: DeprecationWarning: distutils Version classes are deprecated. Use packaging.version instead.\n",
      "  MIN_CHEMFILES_VERSION = LooseVersion(\"0.9\")\n",
      "/Users/fmaclean/miniconda3/envs/murd/lib/python3.8/site-packages/MDAnalysis/coordinates/TRJ.py:1112: DeprecationWarning: Please use `netcdf_file` from the `scipy.io` namespace, the `scipy.io.netcdf` namespace is deprecated.\n",
      "  class NCDFPicklable(scipy.io.netcdf.netcdf_file):\n"
     ]
    }
   ],
   "source": [
    "%load_ext autoreload\n",
    "%autoreload 2\n",
    "from pathlib import Path\n",
    "import logging\n",
    "from src.docking import Dock, visualise_complex, fix_protein, visualise_interactions\n",
    "from rdkit import Chem\n",
    "from rdkit.Chem import rdFMCS\n",
    "from rdkit.Chem import PandasTools\n",
    "import pandas as pd\n",
    "import rdkit\n",
    "import seaborn as sns\n"
   ]
  },
  {
   "cell_type": "markdown",
   "id": "e650cf89",
   "metadata": {},
   "source": [
    "In this notebook, let's use the database from Takeuchi's paper to iterate through all possble R-groups and replace them with the top 500 most common substitions in medicinal chemistry."
   ]
  },
  {
   "cell_type": "markdown",
   "id": "213bb92a",
   "metadata": {},
   "source": [
    "Load all OSA molecules"
   ]
  },
  {
   "cell_type": "code",
   "execution_count": 2,
   "id": "235b6533",
   "metadata": {},
   "outputs": [],
   "source": [
    "xls = pd.ExcelFile('../data/Open Source Antibiotics Molecules.xlsx')\n",
    "osa_mols = pd.read_excel(xls, 'All_OSA_Molecules')\n",
    "osa_mols = osa_mols.set_index('OSA_ID')\n",
    "osa_mols = osa_mols.dropna(subset=['SMILES_parent'])"
   ]
  },
  {
   "cell_type": "code",
   "execution_count": 3,
   "id": "672e0625",
   "metadata": {},
   "outputs": [],
   "source": [
    "mol_names = [\"OSA_000373\", \"OSA_000754\", \"OSA_000742\", \"OSA_000786\"]\n",
    "mols = [Chem.MolFromSmiles(osa_mols.loc[name].SMILES_parent) for name in mol_names]"
   ]
  },
  {
   "cell_type": "code",
   "execution_count": 4,
   "id": "ac664341",
   "metadata": {},
   "outputs": [
    {
     "data": {
      "image/png": "[encoded data removed]",
      "text/plain": [
       "<rdkit.Chem.rdchem.Mol at 0x7fab19598e20>"
      ]
     },
     "execution_count": 4,
     "metadata": {},
     "output_type": "execute_result"
    }
   ],
   "source": [
    "mols[1]"
   ]
  },
  {
   "cell_type": "code",
   "execution_count": 5,
   "id": "17acb4e8",
   "metadata": {},
   "outputs": [
    {
     "data": {
      "image/png": "[encoded data removed]",
      "text/plain": [
       "<rdkit.Chem.rdchem.Mol at 0x7fab194e5ee0>"
      ]
     },
     "execution_count": 5,
     "metadata": {},
     "output_type": "execute_result"
    }
   ],
   "source": [
    "substruct = Chem.rdFMCS.FindMCS(mols)\n",
    "assert mols[1].HasSubstructMatch(Chem.MolFromSmarts(substruct.smartsString)), \"Substruct not in mol\"\n",
    "Chem.MolFromSmarts(substruct.smartsString)"
   ]
  },
  {
   "cell_type": "code",
   "execution_count": 6,
   "id": "b3ec2f23",
   "metadata": {},
   "outputs": [],
   "source": [
    "import xmltodict\n",
    "from collections import defaultdict\n",
    "from rdkit import Chem\n",
    "from rdkit.Chem import AllChem\n",
    "from rdkit.Chem import ReplaceCore, GetMolFrags, ReplaceSubstructs, CombineMols\n",
    "from itertools import product\n",
    "import numpy as np\n",
    "import pandas as pd"
   ]
  },
  {
   "cell_type": "code",
   "execution_count": 13,
   "id": "dd8d559f",
   "metadata": {},
   "outputs": [
    {
     "name": "stdout",
     "output_type": "stream",
     "text": [
      "--2022-05-01 11:42:10--  https://zenodo.org/record/4741973/files/top500_R_replacements.xml\n",
      "Resolving zenodo.org (zenodo.org)... 137.138.76.77\n",
      "Connecting to zenodo.org (zenodo.org)|137.138.76.77|:443... connected.\n",
      "HTTP request sent, awaiting response... 200 OK\n",
      "Length: 124257 (121K) [application/octet-stream]\n",
      "Saving to: ‘top500_R_replacements.xml’\n",
      "\n",
      "top500_R_replacemen 100%[===================>] 121.34K  --.-KB/s    in 0.04s   \n",
      "\n",
      "2022-05-01 11:42:11 (3.06 MB/s) - ‘top500_R_replacements.xml’ saved [124257/124257]\n",
      "\n"
     ]
    }
   ],
   "source": [
    "!cd ../data && wget https://zenodo.org/record/4741973/files/top500_R_replacements.xml"
   ]
  },
  {
   "cell_type": "code",
   "execution_count": 10,
   "id": "ac2f5a30",
   "metadata": {},
   "outputs": [],
   "source": [
    "def smi2cansmi(smi):\n",
    "    mol = Chem.MolFromSmiles(smi)\n",
    "    if mol:\n",
    "        for atm in mol.GetAtoms():\n",
    "            atm.SetIsotope(0)\n",
    "        return Chem.MolToSmiles(mol)\n",
    "    else:\n",
    "        return None\n",
    "def generate_replacement_dictionary(replacement_xml_file):\n",
    "    ifs = open(replacement_xml_file)\n",
    "    xml = ifs.read()\n",
    "    d = xmltodict.parse(xml)\n",
    "    \n",
    "    replacement_dict = defaultdict()\n",
    "    for k in d['R_replacements']['center']:\n",
    "        fl = k['first_layer']\n",
    "        if type(fl) is not list:\n",
    "            fl = [fl]\n",
    "        first_layer = [a['@SMILES'] for a in fl]\n",
    "        sl = [ x for x in [a.get('second_layer') for a in fl] if x]\n",
    "        second_layer = []\n",
    "        for row in sl:\n",
    "            if type(row) is not list:\n",
    "                row = [row]\n",
    "            for r in row:\n",
    "                second_layer.append(r['@SMILES'])\n",
    "        replacement_dict[smi2cansmi(k['@SMILES'])] = [first_layer, second_layer]\n",
    "    return replacement_dict\n",
    "\n",
    "def get_replacements(smi, replacement_dict):\n",
    "    cansmi = smi2cansmi(smi)\n",
    "    return replacement_dict.get(cansmi, [[cansmi], [cansmi]])\n",
    "\n",
    "\n",
    "def get_connect_idx(mol):\n",
    "    return max([x.GetIsotope() for x in mol.GetAtoms()])\n",
    "\n",
    "def prep_sidechain(smi):\n",
    "    mol = Chem.MolFromSmiles(smi)\n",
    "    rw_mol = Chem.RWMol(mol)\n",
    "    remove_idx = -1\n",
    "    for atm in rw_mol.GetAtoms():\n",
    "        if atm.GetAtomicNum() == 0:\n",
    "            remove_idx = atm.GetIdx()\n",
    "            for nbr in atm.GetNeighbors():\n",
    "                nbr.SetAtomMapNum(1)\n",
    "    rw_mol.RemoveAtom(remove_idx)\n",
    "    Chem.SanitizeMol(rw_mol)\n",
    "    return rw_mol\n",
    "\n",
    "def make_analogs(core,attach_pts,sidechains):\n",
    "    prod_list = []\n",
    "    for c in product(*sidechains):\n",
    "        sidechain_mol_list = [prep_sidechain(x) for x in c]\n",
    "        mol = Chem.RWMol(core)\n",
    "        for start_atm,m in zip(attach_pts,sidechain_mol_list):\n",
    "            mol = Chem.RWMol(CombineMols(mol,m))\n",
    "            end_atm = -1\n",
    "            for atm in mol.GetAtoms():\n",
    "                if atm.GetAtomMapNum() == 1:\n",
    "                    end_atm = atm.GetIdx()\n",
    "            mol.AddBond(start_atm, end_atm, order=Chem.rdchem.BondType.SINGLE)\n",
    "            for atm in mol.GetAtoms():\n",
    "                atm.SetAtomMapNum(0)\n",
    "        prod_list.append(Chem.MolToSmiles(mol))\n",
    "    return prod_list"
   ]
  },
  {
   "cell_type": "code",
   "execution_count": 38,
   "id": "0290ddba",
   "metadata": {},
   "outputs": [
    {
     "data": {
      "text/plain": [
       "[['*CCN(C)C', '*CC', '*CCCN(C)C', '*CCNC', '*C(C)C', '*CCC'],\n",
       " ['*c1ccc2ccccc2c1',\n",
       "  '*c1cccc2ccccc12',\n",
       "  '*c1ccc(-c2ccccc2)cc1',\n",
       "  '*c1cc2ccccc2s1',\n",
       "  '*c1csc2ccccc12',\n",
       "  '*c1ccc2ncccc2c1',\n",
       "  '*c1cccc2cccnc12',\n",
       "  '*c1cccc2ncccc12',\n",
       "  '*c1cccc(-c2ccccc2)c1',\n",
       "  '*c1cc2ccccc2o1',\n",
       "  '*c1cc2ccccc2[nH]1']]"
      ]
     },
     "execution_count": 38,
     "metadata": {},
     "output_type": "execute_result"
    }
   ],
   "source": [
    "replacement_smiles"
   ]
  },
  {
   "cell_type": "code",
   "execution_count": 39,
   "id": "34c514a7",
   "metadata": {},
   "outputs": [
    {
     "data": {
      "image/png": "[encoded data removed]",
      "text/plain": [
       "<rdkit.Chem.rdchem.Mol at 0x7fab19cdde20>"
      ]
     },
     "execution_count": 39,
     "metadata": {},
     "output_type": "execute_result"
    }
   ],
   "source": [
    "mol_core"
   ]
  },
  {
   "cell_type": "code",
   "execution_count": 48,
   "id": "48457a3e",
   "metadata": {},
   "outputs": [
    {
     "data": {
      "image/png": "[encoded data removed]",
      "text/plain": [
       "<rdkit.Chem.rdchem.Mol at 0x7fab19edbbe0>"
      ]
     },
     "execution_count": 48,
     "metadata": {},
     "output_type": "execute_result"
    }
   ],
   "source": [
    "Chem.MolFromSmarts('[#6](-[#7]-[#6]1:[#6]:[#6]:[#6]:[#6]:[#6]:1)=[#8]')"
   ]
  },
  {
   "cell_type": "code",
   "execution_count": 61,
   "id": "4f8874ce",
   "metadata": {},
   "outputs": [
    {
     "data": {
      "text/plain": [
       "264"
      ]
     },
     "execution_count": 61,
     "metadata": {},
     "output_type": "execute_result"
    }
   ],
   "source": [
    "import os\n",
    "smiles_target = osa_mols.loc[mol_names[1]].SMILES_parent\n",
    "core_smarts = substruct.smartsString\n",
    "\n",
    "mol_core = Chem.MolFromSmarts('[#6](-[#7]-[#6]1:[#6]:[#6]:[#6]:[#6]:[#6]:1)=[#8]')\n",
    "mol_target = Chem.MolFromSmiles(smiles_target)\n",
    "\n",
    "if not os.path.exists(\"../data/top500_R_replacements.xml\"):\n",
    "    !cd ../data && wget https://zenodo.org/record/4741973/files/top500_R_replacements.xml\n",
    "replacement_dict = generate_replacement_dictionary(\"../data/top500_R_replacements.xml\")\n",
    "use_second_layer = True\n",
    "\n",
    "sidechain_mol = ReplaceCore(mol_target,mol_core,labelByIndex=True)\n",
    "sidechain_frag_list = GetMolFrags(sidechain_mol,asMols=True)\n",
    "attach_idx = [get_connect_idx(x) for x in sidechain_frag_list]\n",
    "sidechain_smiles = [Chem.MolToSmiles(x) for x in sidechain_frag_list]\n",
    "sidechain_smiles = sidechain_smiles + ['CN(C)CC[1*]']\n",
    "replacement_smiles = [get_replacements(x,replacement_dict) for x in sidechain_smiles]\n",
    "\n",
    "if use_second_layer:\n",
    "    tmp_smiles = [a+b for a,b in replacement_smiles]\n",
    "else:\n",
    "    tmp_smiles = [x[0] for x in replacement_smiles]\n",
    "replacement_smiles = tmp_smiles\n",
    "\n",
    "clean_sidechain_smiles = [smi2cansmi(x) for x in sidechain_smiles]\n",
    "tmp_list = []\n",
    "for i,j in zip(clean_sidechain_smiles,replacement_smiles):\n",
    "    tmp_list.append([i]+j)\n",
    "replacement_smiles = tmp_list\n",
    "\n",
    "analog_list = make_analogs(mol_core,attach_idx,replacement_smiles)\n",
    "len(analog_list)"
   ]
  },
  {
   "cell_type": "code",
   "execution_count": 65,
   "id": "e97efb25",
   "metadata": {},
   "outputs": [
    {
     "data": {
      "text/plain": [
       "264"
      ]
     },
     "execution_count": 65,
     "metadata": {},
     "output_type": "execute_result"
    }
   ],
   "source": [
    "len(mol_list)"
   ]
  },
  {
   "cell_type": "code",
   "execution_count": 69,
   "id": "ed7b6d73",
   "metadata": {
    "scrolled": false
   },
   "outputs": [
    {
     "data": {
      "image/png": "[encoded data removed]",
      "text/plain": [
       "<IPython.core.display.Image object>"
      ]
     },
     "execution_count": 69,
     "metadata": {},
     "output_type": "execute_result"
    }
   ],
   "source": [
    "mol_list = [Chem.MolFromSmiles(x) for x in analog_list]\n",
    "AllChem.Compute2DCoords(mol_core)\n",
    "[AllChem.GenerateDepictionMatching2DStructure(x,mol_core) for x in mol_list]\n",
    "Chem.Draw.MolsToGridImage(mol_list,molsPerRow=10)"
   ]
  },
  {
   "cell_type": "code",
   "execution_count": 70,
   "id": "8f7e86ea",
   "metadata": {},
   "outputs": [
    {
     "name": "stdout",
     "output_type": "stream",
     "text": [
      "Finished!\n",
      "adding gasteiger charges to peptide\n",
      "Warning: hydrogens,  ['H3']  , with no bonds!\n",
      "protein_minus_ligand.fixed.pdb\n"
     ]
    },
    {
     "name": "stderr",
     "output_type": "stream",
     "text": [
      "1 molecule converted\n"
     ]
    },
    {
     "name": "stdout",
     "output_type": "stream",
     "text": [
      "        smina         -r protein_minus_ligand.fixed.pdbqt -l lig.pdbqt         --num_modes 1 -o 0.sdf         --size_x 20 --size_y 20 --size_z 20         --exhaustiveness 4        --autobox_ligand _373.mol2\n",
      "CN1CCC(C(=O)Nc2ccccc2-c2ccc3ccccc3c2)CC1 -9.20057583\n"
     ]
    },
    {
     "name": "stderr",
     "output_type": "stream",
     "text": [
      "1 molecule converted\n"
     ]
    },
    {
     "name": "stdout",
     "output_type": "stream",
     "text": [
      "        smina         -r protein_minus_ligand.fixed.pdbqt -l lig.pdbqt         --num_modes 1 -o 1.sdf         --size_x 20 --size_y 20 --size_z 20         --exhaustiveness 4        --autobox_ligand _373.mol2\n",
      "CN1CCC(C(=O)Nc2ccccc2-c2ccc3ccccc3c2)CC1 -9.17963791\n"
     ]
    },
    {
     "name": "stderr",
     "output_type": "stream",
     "text": [
      "1 molecule converted\n"
     ]
    },
    {
     "name": "stdout",
     "output_type": "stream",
     "text": [
      "        smina         -r protein_minus_ligand.fixed.pdbqt -l lig.pdbqt         --num_modes 1 -o 2.sdf         --size_x 20 --size_y 20 --size_z 20         --exhaustiveness 4        --autobox_ligand _373.mol2\n",
      "CN1CCC(C(=O)Nc2ccccc2-c2ccc3ccccc3c2)CC1 -9.18573761\n"
     ]
    },
    {
     "name": "stderr",
     "output_type": "stream",
     "text": [
      "1 molecule converted\n"
     ]
    },
    {
     "name": "stdout",
     "output_type": "stream",
     "text": [
      "        smina         -r protein_minus_ligand.fixed.pdbqt -l lig.pdbqt         --num_modes 1 -o 3.sdf         --size_x 20 --size_y 20 --size_z 20         --exhaustiveness 4        --autobox_ligand _373.mol2\n",
      "CN1CCC(C(=O)Nc2ccccc2-c2ccc3ccccc3c2)CC1 -9.17139721\n"
     ]
    },
    {
     "name": "stderr",
     "output_type": "stream",
     "text": [
      "1 molecule converted\n"
     ]
    },
    {
     "name": "stdout",
     "output_type": "stream",
     "text": [
      "        smina         -r protein_minus_ligand.fixed.pdbqt -l lig.pdbqt         --num_modes 1 -o 4.sdf         --size_x 20 --size_y 20 --size_z 20         --exhaustiveness 4        --autobox_ligand _373.mol2\n",
      "CN1CCC(C(=O)Nc2ccccc2-c2ccc3ccccc3c2)CC1 -9.19728279\n"
     ]
    },
    {
     "name": "stderr",
     "output_type": "stream",
     "text": [
      "1 molecule converted\n"
     ]
    },
    {
     "name": "stdout",
     "output_type": "stream",
     "text": [
      "        smina         -r protein_minus_ligand.fixed.pdbqt -l lig.pdbqt         --num_modes 1 -o 5.sdf         --size_x 20 --size_y 20 --size_z 20         --exhaustiveness 4        --autobox_ligand _373.mol2\n",
      "CN1CCC(C(=O)Nc2ccccc2-c2ccc3ccccc3c2)CC1 -9.20353699\n"
     ]
    },
    {
     "name": "stderr",
     "output_type": "stream",
     "text": [
      "1 molecule converted\n"
     ]
    },
    {
     "name": "stdout",
     "output_type": "stream",
     "text": [
      "        smina         -r protein_minus_ligand.fixed.pdbqt -l lig.pdbqt         --num_modes 1 -o 6.sdf         --size_x 20 --size_y 20 --size_z 20         --exhaustiveness 4        --autobox_ligand _373.mol2\n",
      "CN1CCC(C(=O)Nc2ccccc2-c2cccc3ccccc23)CC1 -8.30717182\n"
     ]
    },
    {
     "name": "stderr",
     "output_type": "stream",
     "text": [
      "1 molecule converted\n"
     ]
    },
    {
     "name": "stdout",
     "output_type": "stream",
     "text": [
      "        smina         -r protein_minus_ligand.fixed.pdbqt -l lig.pdbqt         --num_modes 1 -o 7.sdf         --size_x 20 --size_y 20 --size_z 20         --exhaustiveness 4        --autobox_ligand _373.mol2\n",
      "CN1CCC(C(=O)Nc2ccccc2-c2cccc3ccccc23)CC1 -8.30634022\n"
     ]
    },
    {
     "name": "stderr",
     "output_type": "stream",
     "text": [
      "1 molecule converted\n"
     ]
    },
    {
     "name": "stdout",
     "output_type": "stream",
     "text": [
      "        smina         -r protein_minus_ligand.fixed.pdbqt -l lig.pdbqt         --num_modes 1 -o 8.sdf         --size_x 20 --size_y 20 --size_z 20         --exhaustiveness 4        --autobox_ligand _373.mol2\n",
      "CN1CCC(C(=O)Nc2ccccc2-c2cccc3ccccc23)CC1 -8.31093788\n"
     ]
    },
    {
     "name": "stderr",
     "output_type": "stream",
     "text": [
      "1 molecule converted\n"
     ]
    },
    {
     "name": "stdout",
     "output_type": "stream",
     "text": [
      "        smina         -r protein_minus_ligand.fixed.pdbqt -l lig.pdbqt         --num_modes 1 -o 9.sdf         --size_x 20 --size_y 20 --size_z 20         --exhaustiveness 4        --autobox_ligand _373.mol2\n",
      "CN1CCC(C(=O)Nc2ccccc2-c2cccc3ccccc23)CC1 -8.30993462\n"
     ]
    },
    {
     "name": "stderr",
     "output_type": "stream",
     "text": [
      "1 molecule converted\n"
     ]
    },
    {
     "name": "stdout",
     "output_type": "stream",
     "text": [
      "        smina         -r protein_minus_ligand.fixed.pdbqt -l lig.pdbqt         --num_modes 1 -o 10.sdf         --size_x 20 --size_y 20 --size_z 20         --exhaustiveness 4        --autobox_ligand _373.mol2\n",
      "CN1CCC(C(=O)Nc2ccccc2-c2cccc3ccccc23)CC1 -8.30999184\n"
     ]
    },
    {
     "name": "stderr",
     "output_type": "stream",
     "text": [
      "1 molecule converted\n"
     ]
    },
    {
     "name": "stdout",
     "output_type": "stream",
     "text": [
      "        smina         -r protein_minus_ligand.fixed.pdbqt -l lig.pdbqt         --num_modes 1 -o 11.sdf         --size_x 20 --size_y 20 --size_z 20         --exhaustiveness 4        --autobox_ligand _373.mol2\n",
      "CN1CCC(C(=O)Nc2ccccc2-c2cccc3ccccc23)CC1 -8.30877686\n"
     ]
    },
    {
     "name": "stderr",
     "output_type": "stream",
     "text": [
      "1 molecule converted\n"
     ]
    },
    {
     "name": "stdout",
     "output_type": "stream",
     "text": [
      "        smina         -r protein_minus_ligand.fixed.pdbqt -l lig.pdbqt         --num_modes 1 -o 12.sdf         --size_x 20 --size_y 20 --size_z 20         --exhaustiveness 4        --autobox_ligand _373.mol2\n",
      "CN1CCC(C(=O)Nc2ccccc2-c2ccc(-c3ccccc3)cc2)CC1 -8.66440773\n"
     ]
    },
    {
     "name": "stderr",
     "output_type": "stream",
     "text": [
      "1 molecule converted\n"
     ]
    },
    {
     "name": "stdout",
     "output_type": "stream",
     "text": [
      "        smina         -r protein_minus_ligand.fixed.pdbqt -l lig.pdbqt         --num_modes 1 -o 13.sdf         --size_x 20 --size_y 20 --size_z 20         --exhaustiveness 4        --autobox_ligand _373.mol2\n",
      "CN1CCC(C(=O)Nc2ccccc2-c2ccc(-c3ccccc3)cc2)CC1 -8.64993\n"
     ]
    },
    {
     "name": "stderr",
     "output_type": "stream",
     "text": [
      "1 molecule converted\n"
     ]
    },
    {
     "name": "stdout",
     "output_type": "stream",
     "text": [
      "        smina         -r protein_minus_ligand.fixed.pdbqt -l lig.pdbqt         --num_modes 1 -o 14.sdf         --size_x 20 --size_y 20 --size_z 20         --exhaustiveness 4        --autobox_ligand _373.mol2\n",
      "CN1CCC(C(=O)Nc2ccccc2-c2ccc(-c3ccccc3)cc2)CC1 -8.67205143\n"
     ]
    },
    {
     "name": "stderr",
     "output_type": "stream",
     "text": [
      "1 molecule converted\n"
     ]
    },
    {
     "name": "stdout",
     "output_type": "stream",
     "text": [
      "        smina         -r protein_minus_ligand.fixed.pdbqt -l lig.pdbqt         --num_modes 1 -o 15.sdf         --size_x 20 --size_y 20 --size_z 20         --exhaustiveness 4        --autobox_ligand _373.mol2\n",
      "CN1CCC(C(=O)Nc2ccccc2-c2ccc(-c3ccccc3)cc2)CC1 -8.65884686\n"
     ]
    },
    {
     "name": "stderr",
     "output_type": "stream",
     "text": [
      "1 molecule converted\n"
     ]
    },
    {
     "name": "stdout",
     "output_type": "stream",
     "text": [
      "        smina         -r protein_minus_ligand.fixed.pdbqt -l lig.pdbqt         --num_modes 1 -o 16.sdf         --size_x 20 --size_y 20 --size_z 20         --exhaustiveness 4        --autobox_ligand _373.mol2\n",
      "CN1CCC(C(=O)Nc2ccccc2-c2ccc(-c3ccccc3)cc2)CC1 -8.67797089\n"
     ]
    },
    {
     "name": "stderr",
     "output_type": "stream",
     "text": [
      "1 molecule converted\n"
     ]
    },
    {
     "name": "stdout",
     "output_type": "stream",
     "text": [
      "        smina         -r protein_minus_ligand.fixed.pdbqt -l lig.pdbqt         --num_modes 1 -o 17.sdf         --size_x 20 --size_y 20 --size_z 20         --exhaustiveness 4        --autobox_ligand _373.mol2\n",
      "CN1CCC(C(=O)Nc2ccccc2-c2ccc(-c3ccccc3)cc2)CC1 -8.66501331\n"
     ]
    },
    {
     "name": "stderr",
     "output_type": "stream",
     "text": [
      "1 molecule converted\n"
     ]
    },
    {
     "name": "stdout",
     "output_type": "stream",
     "text": [
      "        smina         -r protein_minus_ligand.fixed.pdbqt -l lig.pdbqt         --num_modes 1 -o 18.sdf         --size_x 20 --size_y 20 --size_z 20         --exhaustiveness 4        --autobox_ligand _373.mol2\n",
      "CN1CCC(C(=O)Nc2ccccc2-c2cc3ccccc3s2)CC1 -7.66545057\n"
     ]
    },
    {
     "name": "stderr",
     "output_type": "stream",
     "text": [
      "1 molecule converted\n"
     ]
    },
    {
     "name": "stdout",
     "output_type": "stream",
     "text": [
      "        smina         -r protein_minus_ligand.fixed.pdbqt -l lig.pdbqt         --num_modes 1 -o 19.sdf         --size_x 20 --size_y 20 --size_z 20         --exhaustiveness 4        --autobox_ligand _373.mol2\n",
      "CN1CCC(C(=O)Nc2ccccc2-c2cc3ccccc3s2)CC1 -7.6551981\n"
     ]
    },
    {
     "name": "stderr",
     "output_type": "stream",
     "text": [
      "1 molecule converted\n"
     ]
    },
    {
     "name": "stdout",
     "output_type": "stream",
     "text": [
      "        smina         -r protein_minus_ligand.fixed.pdbqt -l lig.pdbqt         --num_modes 1 -o 20.sdf         --size_x 20 --size_y 20 --size_z 20         --exhaustiveness 4        --autobox_ligand _373.mol2\n",
      "CN1CCC(C(=O)Nc2ccccc2-c2cc3ccccc3s2)CC1 -7.66308451\n"
     ]
    },
    {
     "name": "stderr",
     "output_type": "stream",
     "text": [
      "1 molecule converted\n"
     ]
    },
    {
     "name": "stdout",
     "output_type": "stream",
     "text": [
      "        smina         -r protein_minus_ligand.fixed.pdbqt -l lig.pdbqt         --num_modes 1 -o 21.sdf         --size_x 20 --size_y 20 --size_z 20         --exhaustiveness 4        --autobox_ligand _373.mol2\n",
      "CN1CCC(C(=O)Nc2ccccc2-c2cc3ccccc3s2)CC1 -7.63832617\n"
     ]
    },
    {
     "name": "stderr",
     "output_type": "stream",
     "text": [
      "1 molecule converted\n"
     ]
    },
    {
     "name": "stdout",
     "output_type": "stream",
     "text": [
      "        smina         -r protein_minus_ligand.fixed.pdbqt -l lig.pdbqt         --num_modes 1 -o 22.sdf         --size_x 20 --size_y 20 --size_z 20         --exhaustiveness 4        --autobox_ligand _373.mol2\n",
      "CN1CCC(C(=O)Nc2ccccc2-c2cc3ccccc3s2)CC1 -7.65595675\n"
     ]
    },
    {
     "name": "stderr",
     "output_type": "stream",
     "text": [
      "1 molecule converted\n"
     ]
    },
    {
     "name": "stdout",
     "output_type": "stream",
     "text": [
      "        smina         -r protein_minus_ligand.fixed.pdbqt -l lig.pdbqt         --num_modes 1 -o 23.sdf         --size_x 20 --size_y 20 --size_z 20         --exhaustiveness 4        --autobox_ligand _373.mol2\n",
      "CN1CCC(C(=O)Nc2ccccc2-c2cc3ccccc3s2)CC1 -7.63468981\n"
     ]
    },
    {
     "name": "stderr",
     "output_type": "stream",
     "text": [
      "1 molecule converted\n"
     ]
    },
    {
     "name": "stdout",
     "output_type": "stream",
     "text": [
      "        smina         -r protein_minus_ligand.fixed.pdbqt -l lig.pdbqt         --num_modes 1 -o 24.sdf         --size_x 20 --size_y 20 --size_z 20         --exhaustiveness 4        --autobox_ligand _373.mol2\n",
      "CN1CCC(C(=O)Nc2ccccc2-c2csc3ccccc23)CC1 -8.03616619\n"
     ]
    },
    {
     "name": "stderr",
     "output_type": "stream",
     "text": [
      "1 molecule converted\n"
     ]
    },
    {
     "name": "stdout",
     "output_type": "stream",
     "text": [
      "        smina         -r protein_minus_ligand.fixed.pdbqt -l lig.pdbqt         --num_modes 1 -o 25.sdf         --size_x 20 --size_y 20 --size_z 20         --exhaustiveness 4        --autobox_ligand _373.mol2\n",
      "CN1CCC(C(=O)Nc2ccccc2-c2csc3ccccc23)CC1 -8.02575779\n"
     ]
    },
    {
     "name": "stderr",
     "output_type": "stream",
     "text": [
      "1 molecule converted\n"
     ]
    },
    {
     "name": "stdout",
     "output_type": "stream",
     "text": [
      "        smina         -r protein_minus_ligand.fixed.pdbqt -l lig.pdbqt         --num_modes 1 -o 26.sdf         --size_x 20 --size_y 20 --size_z 20         --exhaustiveness 4        --autobox_ligand _373.mol2\n",
      "CN1CCC(C(=O)Nc2ccccc2-c2csc3ccccc23)CC1 -8.0304184\n"
     ]
    },
    {
     "name": "stderr",
     "output_type": "stream",
     "text": [
      "1 molecule converted\n"
     ]
    },
    {
     "name": "stdout",
     "output_type": "stream",
     "text": [
      "        smina         -r protein_minus_ligand.fixed.pdbqt -l lig.pdbqt         --num_modes 1 -o 27.sdf         --size_x 20 --size_y 20 --size_z 20         --exhaustiveness 4        --autobox_ligand _373.mol2\n",
      "CN1CCC(C(=O)Nc2ccccc2-c2csc3ccccc23)CC1 -8.03756332\n"
     ]
    },
    {
     "name": "stderr",
     "output_type": "stream",
     "text": [
      "1 molecule converted\n"
     ]
    },
    {
     "name": "stdout",
     "output_type": "stream",
     "text": [
      "        smina         -r protein_minus_ligand.fixed.pdbqt -l lig.pdbqt         --num_modes 1 -o 28.sdf         --size_x 20 --size_y 20 --size_z 20         --exhaustiveness 4        --autobox_ligand _373.mol2\n",
      "CN1CCC(C(=O)Nc2ccccc2-c2csc3ccccc23)CC1 -8.03747845\n"
     ]
    },
    {
     "name": "stderr",
     "output_type": "stream",
     "text": [
      "1 molecule converted\n"
     ]
    },
    {
     "name": "stdout",
     "output_type": "stream",
     "text": [
      "        smina         -r protein_minus_ligand.fixed.pdbqt -l lig.pdbqt         --num_modes 1 -o 29.sdf         --size_x 20 --size_y 20 --size_z 20         --exhaustiveness 4        --autobox_ligand _373.mol2\n",
      "CN1CCC(C(=O)Nc2ccccc2-c2csc3ccccc23)CC1 -8.04660511\n"
     ]
    },
    {
     "name": "stderr",
     "output_type": "stream",
     "text": [
      "1 molecule converted\n"
     ]
    },
    {
     "name": "stdout",
     "output_type": "stream",
     "text": [
      "        smina         -r protein_minus_ligand.fixed.pdbqt -l lig.pdbqt         --num_modes 1 -o 30.sdf         --size_x 20 --size_y 20 --size_z 20         --exhaustiveness 4        --autobox_ligand _373.mol2\n",
      "CN1CCC(C(=O)Nc2ccccc2-c2ccc3ncccc3c2)CC1 -8.85787868\n"
     ]
    },
    {
     "name": "stderr",
     "output_type": "stream",
     "text": [
      "1 molecule converted\n"
     ]
    },
    {
     "name": "stdout",
     "output_type": "stream",
     "text": [
      "        smina         -r protein_minus_ligand.fixed.pdbqt -l lig.pdbqt         --num_modes 1 -o 31.sdf         --size_x 20 --size_y 20 --size_z 20         --exhaustiveness 4        --autobox_ligand _373.mol2\n",
      "CN1CCC(C(=O)Nc2ccccc2-c2ccc3ncccc3c2)CC1 -8.86807537\n"
     ]
    },
    {
     "name": "stderr",
     "output_type": "stream",
     "text": [
      "1 molecule converted\n"
     ]
    },
    {
     "name": "stdout",
     "output_type": "stream",
     "text": [
      "        smina         -r protein_minus_ligand.fixed.pdbqt -l lig.pdbqt         --num_modes 1 -o 32.sdf         --size_x 20 --size_y 20 --size_z 20         --exhaustiveness 4        --autobox_ligand _373.mol2\n",
      "CN1CCC(C(=O)Nc2ccccc2-c2ccc3ncccc3c2)CC1 -8.84919739\n"
     ]
    },
    {
     "name": "stderr",
     "output_type": "stream",
     "text": [
      "1 molecule converted\n"
     ]
    },
    {
     "name": "stdout",
     "output_type": "stream",
     "text": [
      "        smina         -r protein_minus_ligand.fixed.pdbqt -l lig.pdbqt         --num_modes 1 -o 33.sdf         --size_x 20 --size_y 20 --size_z 20         --exhaustiveness 4        --autobox_ligand _373.mol2\n",
      "CN1CCC(C(=O)Nc2ccccc2-c2ccc3ncccc3c2)CC1 -8.87913799\n"
     ]
    },
    {
     "name": "stderr",
     "output_type": "stream",
     "text": [
      "1 molecule converted\n"
     ]
    },
    {
     "name": "stdout",
     "output_type": "stream",
     "text": [
      "        smina         -r protein_minus_ligand.fixed.pdbqt -l lig.pdbqt         --num_modes 1 -o 34.sdf         --size_x 20 --size_y 20 --size_z 20         --exhaustiveness 4        --autobox_ligand _373.mol2\n",
      "CN1CCC(C(=O)Nc2ccccc2-c2ccc3ncccc3c2)CC1 -8.83428001\n"
     ]
    },
    {
     "name": "stderr",
     "output_type": "stream",
     "text": [
      "1 molecule converted\n"
     ]
    },
    {
     "name": "stdout",
     "output_type": "stream",
     "text": [
      "        smina         -r protein_minus_ligand.fixed.pdbqt -l lig.pdbqt         --num_modes 1 -o 35.sdf         --size_x 20 --size_y 20 --size_z 20         --exhaustiveness 4        --autobox_ligand _373.mol2\n",
      "CN1CCC(C(=O)Nc2ccccc2-c2ccc3ncccc3c2)CC1 -8.80760765\n"
     ]
    },
    {
     "name": "stderr",
     "output_type": "stream",
     "text": [
      "1 molecule converted\n"
     ]
    },
    {
     "name": "stdout",
     "output_type": "stream",
     "text": [
      "        smina         -r protein_minus_ligand.fixed.pdbqt -l lig.pdbqt         --num_modes 1 -o 36.sdf         --size_x 20 --size_y 20 --size_z 20         --exhaustiveness 4        --autobox_ligand _373.mol2\n",
      "CN1CCC(C(=O)Nc2ccccc2-c2cccc3cccnc23)CC1 -8.56224918\n"
     ]
    },
    {
     "name": "stderr",
     "output_type": "stream",
     "text": [
      "1 molecule converted\n"
     ]
    },
    {
     "name": "stdout",
     "output_type": "stream",
     "text": [
      "        smina         -r protein_minus_ligand.fixed.pdbqt -l lig.pdbqt         --num_modes 1 -o 37.sdf         --size_x 20 --size_y 20 --size_z 20         --exhaustiveness 4        --autobox_ligand _373.mol2\n",
      "CN1CCC(C(=O)Nc2ccccc2-c2cccc3cccnc23)CC1 -8.55234718\n"
     ]
    },
    {
     "name": "stderr",
     "output_type": "stream",
     "text": [
      "1 molecule converted\n"
     ]
    },
    {
     "name": "stdout",
     "output_type": "stream",
     "text": [
      "        smina         -r protein_minus_ligand.fixed.pdbqt -l lig.pdbqt         --num_modes 1 -o 38.sdf         --size_x 20 --size_y 20 --size_z 20         --exhaustiveness 4        --autobox_ligand _373.mol2\n",
      "CN1CCC(C(=O)Nc2ccccc2-c2cccc3cccnc23)CC1 -8.564044\n"
     ]
    },
    {
     "name": "stderr",
     "output_type": "stream",
     "text": [
      "1 molecule converted\n"
     ]
    },
    {
     "name": "stdout",
     "output_type": "stream",
     "text": [
      "        smina         -r protein_minus_ligand.fixed.pdbqt -l lig.pdbqt         --num_modes 1 -o 39.sdf         --size_x 20 --size_y 20 --size_z 20         --exhaustiveness 4        --autobox_ligand _373.mol2\n",
      "CN1CCC(C(=O)Nc2ccccc2-c2cccc3cccnc23)CC1 -8.55128765\n"
     ]
    },
    {
     "name": "stderr",
     "output_type": "stream",
     "text": [
      "1 molecule converted\n"
     ]
    },
    {
     "name": "stdout",
     "output_type": "stream",
     "text": [
      "        smina         -r protein_minus_ligand.fixed.pdbqt -l lig.pdbqt         --num_modes 1 -o 40.sdf         --size_x 20 --size_y 20 --size_z 20         --exhaustiveness 4        --autobox_ligand _373.mol2\n",
      "CN1CCC(C(=O)Nc2ccccc2-c2cccc3cccnc23)CC1 -8.5444622\n"
     ]
    },
    {
     "name": "stderr",
     "output_type": "stream",
     "text": [
      "1 molecule converted\n"
     ]
    },
    {
     "name": "stdout",
     "output_type": "stream",
     "text": [
      "        smina         -r protein_minus_ligand.fixed.pdbqt -l lig.pdbqt         --num_modes 1 -o 41.sdf         --size_x 20 --size_y 20 --size_z 20         --exhaustiveness 4        --autobox_ligand _373.mol2\n",
      "CN1CCC(C(=O)Nc2ccccc2-c2cccc3cccnc23)CC1 -8.55701828\n"
     ]
    },
    {
     "name": "stderr",
     "output_type": "stream",
     "text": [
      "1 molecule converted\n"
     ]
    },
    {
     "name": "stdout",
     "output_type": "stream",
     "text": [
      "        smina         -r protein_minus_ligand.fixed.pdbqt -l lig.pdbqt         --num_modes 1 -o 42.sdf         --size_x 20 --size_y 20 --size_z 20         --exhaustiveness 4        --autobox_ligand _373.mol2\n",
      "CN1CCC(C(=O)Nc2ccccc2-c2cccc3ncccc23)CC1 -9.04079437\n"
     ]
    },
    {
     "name": "stderr",
     "output_type": "stream",
     "text": [
      "1 molecule converted\n"
     ]
    },
    {
     "name": "stdout",
     "output_type": "stream",
     "text": [
      "        smina         -r protein_minus_ligand.fixed.pdbqt -l lig.pdbqt         --num_modes 1 -o 43.sdf         --size_x 20 --size_y 20 --size_z 20         --exhaustiveness 4        --autobox_ligand _373.mol2\n",
      "CN1CCC(C(=O)Nc2ccccc2-c2cccc3ncccc23)CC1 -9.03003502\n"
     ]
    },
    {
     "name": "stderr",
     "output_type": "stream",
     "text": [
      "1 molecule converted\n"
     ]
    },
    {
     "name": "stdout",
     "output_type": "stream",
     "text": [
      "        smina         -r protein_minus_ligand.fixed.pdbqt -l lig.pdbqt         --num_modes 1 -o 44.sdf         --size_x 20 --size_y 20 --size_z 20         --exhaustiveness 4        --autobox_ligand _373.mol2\n",
      "CN1CCC(C(=O)Nc2ccccc2-c2cccc3ncccc23)CC1 -9.03379726\n"
     ]
    },
    {
     "name": "stderr",
     "output_type": "stream",
     "text": [
      "1 molecule converted\n"
     ]
    },
    {
     "name": "stdout",
     "output_type": "stream",
     "text": [
      "        smina         -r protein_minus_ligand.fixed.pdbqt -l lig.pdbqt         --num_modes 1 -o 45.sdf         --size_x 20 --size_y 20 --size_z 20         --exhaustiveness 4        --autobox_ligand _373.mol2\n",
      "CN1CCC(C(=O)Nc2ccccc2-c2cccc3ncccc23)CC1 -9.05680847\n"
     ]
    },
    {
     "name": "stderr",
     "output_type": "stream",
     "text": [
      "1 molecule converted\n"
     ]
    },
    {
     "name": "stdout",
     "output_type": "stream",
     "text": [
      "        smina         -r protein_minus_ligand.fixed.pdbqt -l lig.pdbqt         --num_modes 1 -o 46.sdf         --size_x 20 --size_y 20 --size_z 20         --exhaustiveness 4        --autobox_ligand _373.mol2\n",
      "CN1CCC(C(=O)Nc2ccccc2-c2cccc3ncccc23)CC1 -9.05821228\n"
     ]
    },
    {
     "name": "stderr",
     "output_type": "stream",
     "text": [
      "1 molecule converted\n"
     ]
    },
    {
     "name": "stdout",
     "output_type": "stream",
     "text": [
      "        smina         -r protein_minus_ligand.fixed.pdbqt -l lig.pdbqt         --num_modes 1 -o 47.sdf         --size_x 20 --size_y 20 --size_z 20         --exhaustiveness 4        --autobox_ligand _373.mol2\n",
      "CN1CCC(C(=O)Nc2ccccc2-c2cccc3ncccc23)CC1 -9.07154369\n"
     ]
    },
    {
     "name": "stderr",
     "output_type": "stream",
     "text": [
      "1 molecule converted\n"
     ]
    },
    {
     "name": "stdout",
     "output_type": "stream",
     "text": [
      "        smina         -r protein_minus_ligand.fixed.pdbqt -l lig.pdbqt         --num_modes 1 -o 48.sdf         --size_x 20 --size_y 20 --size_z 20         --exhaustiveness 4        --autobox_ligand _373.mol2\n",
      "CN1CCC(C(=O)Nc2ccccc2-c2cccc(-c3ccccc3)c2)CC1 -8.76348495\n"
     ]
    },
    {
     "name": "stderr",
     "output_type": "stream",
     "text": [
      "1 molecule converted\n"
     ]
    },
    {
     "name": "stdout",
     "output_type": "stream",
     "text": [
      "        smina         -r protein_minus_ligand.fixed.pdbqt -l lig.pdbqt         --num_modes 1 -o 49.sdf         --size_x 20 --size_y 20 --size_z 20         --exhaustiveness 4        --autobox_ligand _373.mol2\n",
      "CN1CCC(C(=O)Nc2ccccc2-c2cccc(-c3ccccc3)c2)CC1 -8.77549744\n"
     ]
    },
    {
     "name": "stderr",
     "output_type": "stream",
     "text": [
      "1 molecule converted\n"
     ]
    },
    {
     "name": "stdout",
     "output_type": "stream",
     "text": [
      "        smina         -r protein_minus_ligand.fixed.pdbqt -l lig.pdbqt         --num_modes 1 -o 50.sdf         --size_x 20 --size_y 20 --size_z 20         --exhaustiveness 4        --autobox_ligand _373.mol2\n",
      "CN1CCC(C(=O)Nc2ccccc2-c2cccc(-c3ccccc3)c2)CC1 -8.20604801\n"
     ]
    },
    {
     "name": "stderr",
     "output_type": "stream",
     "text": [
      "1 molecule converted\n"
     ]
    },
    {
     "name": "stdout",
     "output_type": "stream",
     "text": [
      "        smina         -r protein_minus_ligand.fixed.pdbqt -l lig.pdbqt         --num_modes 1 -o 51.sdf         --size_x 20 --size_y 20 --size_z 20         --exhaustiveness 4        --autobox_ligand _373.mol2\n",
      "CN1CCC(C(=O)Nc2ccccc2-c2cccc(-c3ccccc3)c2)CC1 -8.73638916\n"
     ]
    },
    {
     "name": "stderr",
     "output_type": "stream",
     "text": [
      "1 molecule converted\n"
     ]
    },
    {
     "name": "stdout",
     "output_type": "stream",
     "text": [
      "        smina         -r protein_minus_ligand.fixed.pdbqt -l lig.pdbqt         --num_modes 1 -o 52.sdf         --size_x 20 --size_y 20 --size_z 20         --exhaustiveness 4        --autobox_ligand _373.mol2\n",
      "CN1CCC(C(=O)Nc2ccccc2-c2cccc(-c3ccccc3)c2)CC1 -8.19318295\n"
     ]
    },
    {
     "name": "stderr",
     "output_type": "stream",
     "text": [
      "1 molecule converted\n"
     ]
    },
    {
     "name": "stdout",
     "output_type": "stream",
     "text": [
      "        smina         -r protein_minus_ligand.fixed.pdbqt -l lig.pdbqt         --num_modes 1 -o 53.sdf         --size_x 20 --size_y 20 --size_z 20         --exhaustiveness 4        --autobox_ligand _373.mol2\n",
      "CN1CCC(C(=O)Nc2ccccc2-c2cccc(-c3ccccc3)c2)CC1 -8.20300388\n"
     ]
    },
    {
     "name": "stderr",
     "output_type": "stream",
     "text": [
      "1 molecule converted\n"
     ]
    },
    {
     "name": "stdout",
     "output_type": "stream",
     "text": [
      "        smina         -r protein_minus_ligand.fixed.pdbqt -l lig.pdbqt         --num_modes 1 -o 54.sdf         --size_x 20 --size_y 20 --size_z 20         --exhaustiveness 4        --autobox_ligand _373.mol2\n",
      "CN1CCC(C(=O)Nc2ccccc2-c2cc3ccccc3o2)CC1 -7.77271509\n"
     ]
    },
    {
     "name": "stderr",
     "output_type": "stream",
     "text": [
      "1 molecule converted\n"
     ]
    },
    {
     "name": "stdout",
     "output_type": "stream",
     "text": [
      "        smina         -r protein_minus_ligand.fixed.pdbqt -l lig.pdbqt         --num_modes 1 -o 55.sdf         --size_x 20 --size_y 20 --size_z 20         --exhaustiveness 4        --autobox_ligand _373.mol2\n",
      "CN1CCC(C(=O)Nc2ccccc2-c2cc3ccccc3o2)CC1 -7.76019335\n"
     ]
    },
    {
     "name": "stderr",
     "output_type": "stream",
     "text": [
      "1 molecule converted\n"
     ]
    },
    {
     "name": "stdout",
     "output_type": "stream",
     "text": [
      "        smina         -r protein_minus_ligand.fixed.pdbqt -l lig.pdbqt         --num_modes 1 -o 56.sdf         --size_x 20 --size_y 20 --size_z 20         --exhaustiveness 4        --autobox_ligand _373.mol2\n",
      "CN1CCC(C(=O)Nc2ccccc2-c2cc3ccccc3o2)CC1 -7.76168966\n"
     ]
    },
    {
     "name": "stderr",
     "output_type": "stream",
     "text": [
      "1 molecule converted\n"
     ]
    },
    {
     "name": "stdout",
     "output_type": "stream",
     "text": [
      "        smina         -r protein_minus_ligand.fixed.pdbqt -l lig.pdbqt         --num_modes 1 -o 57.sdf         --size_x 20 --size_y 20 --size_z 20         --exhaustiveness 4        --autobox_ligand _373.mol2\n",
      "CN1CCC(C(=O)Nc2ccccc2-c2cc3ccccc3o2)CC1 -7.77158308\n"
     ]
    },
    {
     "name": "stderr",
     "output_type": "stream",
     "text": [
      "1 molecule converted\n"
     ]
    },
    {
     "name": "stdout",
     "output_type": "stream",
     "text": [
      "        smina         -r protein_minus_ligand.fixed.pdbqt -l lig.pdbqt         --num_modes 1 -o 58.sdf         --size_x 20 --size_y 20 --size_z 20         --exhaustiveness 4        --autobox_ligand _373.mol2\n",
      "CN1CCC(C(=O)Nc2ccccc2-c2cc3ccccc3o2)CC1 -7.75872803\n"
     ]
    },
    {
     "name": "stderr",
     "output_type": "stream",
     "text": [
      "1 molecule converted\n"
     ]
    },
    {
     "name": "stdout",
     "output_type": "stream",
     "text": [
      "        smina         -r protein_minus_ligand.fixed.pdbqt -l lig.pdbqt         --num_modes 1 -o 59.sdf         --size_x 20 --size_y 20 --size_z 20         --exhaustiveness 4        --autobox_ligand _373.mol2\n",
      "CN1CCC(C(=O)Nc2ccccc2-c2cc3ccccc3o2)CC1 -7.76477337\n"
     ]
    },
    {
     "name": "stderr",
     "output_type": "stream",
     "text": [
      "1 molecule converted\n"
     ]
    },
    {
     "name": "stdout",
     "output_type": "stream",
     "text": [
      "        smina         -r protein_minus_ligand.fixed.pdbqt -l lig.pdbqt         --num_modes 1 -o 60.sdf         --size_x 20 --size_y 20 --size_z 20         --exhaustiveness 4        --autobox_ligand _373.mol2\n",
      "CN1CCC(C(=O)Nc2ccccc2-c2cc3ccccc3[nH]2)CC1 -8.41399479\n"
     ]
    },
    {
     "name": "stderr",
     "output_type": "stream",
     "text": [
      "1 molecule converted\n"
     ]
    },
    {
     "name": "stdout",
     "output_type": "stream",
     "text": [
      "        smina         -r protein_minus_ligand.fixed.pdbqt -l lig.pdbqt         --num_modes 1 -o 61.sdf         --size_x 20 --size_y 20 --size_z 20         --exhaustiveness 4        --autobox_ligand _373.mol2\n",
      "CN1CCC(C(=O)Nc2ccccc2-c2cc3ccccc3[nH]2)CC1 -8.42060375\n"
     ]
    },
    {
     "name": "stderr",
     "output_type": "stream",
     "text": [
      "1 molecule converted\n"
     ]
    },
    {
     "name": "stdout",
     "output_type": "stream",
     "text": [
      "        smina         -r protein_minus_ligand.fixed.pdbqt -l lig.pdbqt         --num_modes 1 -o 62.sdf         --size_x 20 --size_y 20 --size_z 20         --exhaustiveness 4        --autobox_ligand _373.mol2\n",
      "CN1CCC(C(=O)Nc2ccccc2-c2cc3ccccc3[nH]2)CC1 -8.39718628\n"
     ]
    },
    {
     "name": "stderr",
     "output_type": "stream",
     "text": [
      "1 molecule converted\n"
     ]
    },
    {
     "name": "stdout",
     "output_type": "stream",
     "text": [
      "        smina         -r protein_minus_ligand.fixed.pdbqt -l lig.pdbqt         --num_modes 1 -o 63.sdf         --size_x 20 --size_y 20 --size_z 20         --exhaustiveness 4        --autobox_ligand _373.mol2\n",
      "CN1CCC(C(=O)Nc2ccccc2-c2cc3ccccc3[nH]2)CC1 -8.41860199\n"
     ]
    },
    {
     "name": "stderr",
     "output_type": "stream",
     "text": [
      "1 molecule converted\n"
     ]
    },
    {
     "name": "stdout",
     "output_type": "stream",
     "text": [
      "        smina         -r protein_minus_ligand.fixed.pdbqt -l lig.pdbqt         --num_modes 1 -o 64.sdf         --size_x 20 --size_y 20 --size_z 20         --exhaustiveness 4        --autobox_ligand _373.mol2\n",
      "CN1CCC(C(=O)Nc2ccccc2-c2cc3ccccc3[nH]2)CC1 -8.42191982\n"
     ]
    },
    {
     "name": "stderr",
     "output_type": "stream",
     "text": [
      "1 molecule converted\n"
     ]
    },
    {
     "name": "stdout",
     "output_type": "stream",
     "text": [
      "        smina         -r protein_minus_ligand.fixed.pdbqt -l lig.pdbqt         --num_modes 1 -o 65.sdf         --size_x 20 --size_y 20 --size_z 20         --exhaustiveness 4        --autobox_ligand _373.mol2\n",
      "CN1CCC(C(=O)Nc2ccccc2-c2cc3ccccc3[nH]2)CC1 -8.41272545\n"
     ]
    },
    {
     "name": "stderr",
     "output_type": "stream",
     "text": [
      "1 molecule converted\n"
     ]
    },
    {
     "name": "stdout",
     "output_type": "stream",
     "text": [
      "        smina         -r protein_minus_ligand.fixed.pdbqt -l lig.pdbqt         --num_modes 1 -o 66.sdf         --size_x 20 --size_y 20 --size_z 20         --exhaustiveness 4        --autobox_ligand _373.mol2\n",
      "O=C(Nc1ccccc1-c1ccc2ccccc2c1)C1CCNCC1 -9.15485477\n"
     ]
    },
    {
     "name": "stderr",
     "output_type": "stream",
     "text": [
      "1 molecule converted\n"
     ]
    },
    {
     "name": "stdout",
     "output_type": "stream",
     "text": [
      "        smina         -r protein_minus_ligand.fixed.pdbqt -l lig.pdbqt         --num_modes 1 -o 67.sdf         --size_x 20 --size_y 20 --size_z 20         --exhaustiveness 4        --autobox_ligand _373.mol2\n",
      "O=C(Nc1ccccc1-c1ccc2ccccc2c1)C1CCNCC1 -9.08935261\n"
     ]
    },
    {
     "name": "stderr",
     "output_type": "stream",
     "text": [
      "1 molecule converted\n"
     ]
    },
    {
     "name": "stdout",
     "output_type": "stream",
     "text": [
      "        smina         -r protein_minus_ligand.fixed.pdbqt -l lig.pdbqt         --num_modes 1 -o 68.sdf         --size_x 20 --size_y 20 --size_z 20         --exhaustiveness 4        --autobox_ligand _373.mol2\n",
      "O=C(Nc1ccccc1-c1ccc2ccccc2c1)C1CCNCC1 -9.06928921\n"
     ]
    },
    {
     "name": "stderr",
     "output_type": "stream",
     "text": [
      "1 molecule converted\n"
     ]
    },
    {
     "name": "stdout",
     "output_type": "stream",
     "text": [
      "        smina         -r protein_minus_ligand.fixed.pdbqt -l lig.pdbqt         --num_modes 1 -o 69.sdf         --size_x 20 --size_y 20 --size_z 20         --exhaustiveness 4        --autobox_ligand _373.mol2\n",
      "O=C(Nc1ccccc1-c1ccc2ccccc2c1)C1CCNCC1 -9.10009861\n"
     ]
    },
    {
     "name": "stderr",
     "output_type": "stream",
     "text": [
      "1 molecule converted\n"
     ]
    },
    {
     "name": "stdout",
     "output_type": "stream",
     "text": [
      "        smina         -r protein_minus_ligand.fixed.pdbqt -l lig.pdbqt         --num_modes 1 -o 70.sdf         --size_x 20 --size_y 20 --size_z 20         --exhaustiveness 4        --autobox_ligand _373.mol2\n",
      "O=C(Nc1ccccc1-c1ccc2ccccc2c1)C1CCNCC1 -9.09792233\n"
     ]
    },
    {
     "name": "stderr",
     "output_type": "stream",
     "text": [
      "1 molecule converted\n"
     ]
    },
    {
     "name": "stdout",
     "output_type": "stream",
     "text": [
      "        smina         -r protein_minus_ligand.fixed.pdbqt -l lig.pdbqt         --num_modes 1 -o 71.sdf         --size_x 20 --size_y 20 --size_z 20         --exhaustiveness 4        --autobox_ligand _373.mol2\n",
      "O=C(Nc1ccccc1-c1ccc2ccccc2c1)C1CCNCC1 -9.08694172\n"
     ]
    },
    {
     "name": "stderr",
     "output_type": "stream",
     "text": [
      "1 molecule converted\n"
     ]
    },
    {
     "name": "stdout",
     "output_type": "stream",
     "text": [
      "        smina         -r protein_minus_ligand.fixed.pdbqt -l lig.pdbqt         --num_modes 1 -o 72.sdf         --size_x 20 --size_y 20 --size_z 20         --exhaustiveness 4        --autobox_ligand _373.mol2\n",
      "O=C(Nc1ccccc1-c1cccc2ccccc12)C1CCNCC1 -8.33895493\n"
     ]
    },
    {
     "name": "stderr",
     "output_type": "stream",
     "text": [
      "1 molecule converted\n"
     ]
    },
    {
     "name": "stdout",
     "output_type": "stream",
     "text": [
      "        smina         -r protein_minus_ligand.fixed.pdbqt -l lig.pdbqt         --num_modes 1 -o 73.sdf         --size_x 20 --size_y 20 --size_z 20         --exhaustiveness 4        --autobox_ligand _373.mol2\n",
      "O=C(Nc1ccccc1-c1cccc2ccccc12)C1CCNCC1 -8.93837547\n"
     ]
    },
    {
     "name": "stderr",
     "output_type": "stream",
     "text": [
      "1 molecule converted\n"
     ]
    },
    {
     "name": "stdout",
     "output_type": "stream",
     "text": [
      "        smina         -r protein_minus_ligand.fixed.pdbqt -l lig.pdbqt         --num_modes 1 -o 74.sdf         --size_x 20 --size_y 20 --size_z 20         --exhaustiveness 4        --autobox_ligand _373.mol2\n",
      "O=C(Nc1ccccc1-c1cccc2ccccc12)C1CCNCC1 -8.55888653\n"
     ]
    },
    {
     "name": "stderr",
     "output_type": "stream",
     "text": [
      "1 molecule converted\n"
     ]
    },
    {
     "name": "stdout",
     "output_type": "stream",
     "text": [
      "        smina         -r protein_minus_ligand.fixed.pdbqt -l lig.pdbqt         --num_modes 1 -o 75.sdf         --size_x 20 --size_y 20 --size_z 20         --exhaustiveness 4        --autobox_ligand _373.mol2\n",
      "O=C(Nc1ccccc1-c1cccc2ccccc12)C1CCNCC1 -8.22700024\n"
     ]
    },
    {
     "name": "stderr",
     "output_type": "stream",
     "text": [
      "1 molecule converted\n"
     ]
    },
    {
     "name": "stdout",
     "output_type": "stream",
     "text": [
      "        smina         -r protein_minus_ligand.fixed.pdbqt -l lig.pdbqt         --num_modes 1 -o 76.sdf         --size_x 20 --size_y 20 --size_z 20         --exhaustiveness 4        --autobox_ligand _373.mol2\n",
      "O=C(Nc1ccccc1-c1cccc2ccccc12)C1CCNCC1 -9.24744415\n"
     ]
    },
    {
     "name": "stderr",
     "output_type": "stream",
     "text": [
      "1 molecule converted\n"
     ]
    },
    {
     "name": "stdout",
     "output_type": "stream",
     "text": [
      "        smina         -r protein_minus_ligand.fixed.pdbqt -l lig.pdbqt         --num_modes 1 -o 77.sdf         --size_x 20 --size_y 20 --size_z 20         --exhaustiveness 4        --autobox_ligand _373.mol2\n",
      "O=C(Nc1ccccc1-c1cccc2ccccc12)C1CCNCC1 -9.25217628\n"
     ]
    },
    {
     "name": "stderr",
     "output_type": "stream",
     "text": [
      "1 molecule converted\n"
     ]
    },
    {
     "name": "stdout",
     "output_type": "stream",
     "text": [
      "        smina         -r protein_minus_ligand.fixed.pdbqt -l lig.pdbqt         --num_modes 1 -o 78.sdf         --size_x 20 --size_y 20 --size_z 20         --exhaustiveness 4        --autobox_ligand _373.mol2\n",
      "O=C(Nc1ccccc1-c1ccc(-c2ccccc2)cc1)C1CCNCC1 -8.57660007\n"
     ]
    },
    {
     "name": "stderr",
     "output_type": "stream",
     "text": [
      "1 molecule converted\n"
     ]
    },
    {
     "name": "stdout",
     "output_type": "stream",
     "text": [
      "        smina         -r protein_minus_ligand.fixed.pdbqt -l lig.pdbqt         --num_modes 1 -o 79.sdf         --size_x 20 --size_y 20 --size_z 20         --exhaustiveness 4        --autobox_ligand _373.mol2\n",
      "O=C(Nc1ccccc1-c1ccc(-c2ccccc2)cc1)C1CCNCC1 -8.56501961\n"
     ]
    },
    {
     "name": "stderr",
     "output_type": "stream",
     "text": [
      "1 molecule converted\n"
     ]
    },
    {
     "name": "stdout",
     "output_type": "stream",
     "text": [
      "        smina         -r protein_minus_ligand.fixed.pdbqt -l lig.pdbqt         --num_modes 1 -o 80.sdf         --size_x 20 --size_y 20 --size_z 20         --exhaustiveness 4        --autobox_ligand _373.mol2\n",
      "O=C(Nc1ccccc1-c1ccc(-c2ccccc2)cc1)C1CCNCC1 -8.60246468\n"
     ]
    },
    {
     "name": "stderr",
     "output_type": "stream",
     "text": [
      "1 molecule converted\n"
     ]
    },
    {
     "name": "stdout",
     "output_type": "stream",
     "text": [
      "        smina         -r protein_minus_ligand.fixed.pdbqt -l lig.pdbqt         --num_modes 1 -o 81.sdf         --size_x 20 --size_y 20 --size_z 20         --exhaustiveness 4        --autobox_ligand _373.mol2\n",
      "O=C(Nc1ccccc1-c1ccc(-c2ccccc2)cc1)C1CCNCC1 -8.5775671\n"
     ]
    },
    {
     "name": "stderr",
     "output_type": "stream",
     "text": [
      "1 molecule converted\n"
     ]
    },
    {
     "name": "stdout",
     "output_type": "stream",
     "text": [
      "        smina         -r protein_minus_ligand.fixed.pdbqt -l lig.pdbqt         --num_modes 1 -o 82.sdf         --size_x 20 --size_y 20 --size_z 20         --exhaustiveness 4        --autobox_ligand _373.mol2\n",
      "O=C(Nc1ccccc1-c1ccc(-c2ccccc2)cc1)C1CCNCC1 -8.59785652\n"
     ]
    },
    {
     "name": "stderr",
     "output_type": "stream",
     "text": [
      "1 molecule converted\n"
     ]
    },
    {
     "name": "stdout",
     "output_type": "stream",
     "text": [
      "        smina         -r protein_minus_ligand.fixed.pdbqt -l lig.pdbqt         --num_modes 1 -o 83.sdf         --size_x 20 --size_y 20 --size_z 20         --exhaustiveness 4        --autobox_ligand _373.mol2\n",
      "O=C(Nc1ccccc1-c1ccc(-c2ccccc2)cc1)C1CCNCC1 -8.57558632\n"
     ]
    },
    {
     "name": "stderr",
     "output_type": "stream",
     "text": [
      "1 molecule converted\n"
     ]
    },
    {
     "name": "stdout",
     "output_type": "stream",
     "text": [
      "        smina         -r protein_minus_ligand.fixed.pdbqt -l lig.pdbqt         --num_modes 1 -o 84.sdf         --size_x 20 --size_y 20 --size_z 20         --exhaustiveness 4        --autobox_ligand _373.mol2\n",
      "O=C(Nc1ccccc1-c1cc2ccccc2s1)C1CCNCC1 -7.99484968\n"
     ]
    },
    {
     "name": "stderr",
     "output_type": "stream",
     "text": [
      "1 molecule converted\n"
     ]
    },
    {
     "name": "stdout",
     "output_type": "stream",
     "text": [
      "        smina         -r protein_minus_ligand.fixed.pdbqt -l lig.pdbqt         --num_modes 1 -o 85.sdf         --size_x 20 --size_y 20 --size_z 20         --exhaustiveness 4        --autobox_ligand _373.mol2\n",
      "O=C(Nc1ccccc1-c1cc2ccccc2s1)C1CCNCC1 -7.98892784\n"
     ]
    },
    {
     "name": "stderr",
     "output_type": "stream",
     "text": [
      "1 molecule converted\n"
     ]
    },
    {
     "name": "stdout",
     "output_type": "stream",
     "text": [
      "        smina         -r protein_minus_ligand.fixed.pdbqt -l lig.pdbqt         --num_modes 1 -o 86.sdf         --size_x 20 --size_y 20 --size_z 20         --exhaustiveness 4        --autobox_ligand _373.mol2\n",
      "O=C(Nc1ccccc1-c1cc2ccccc2s1)C1CCNCC1 -7.6961236\n"
     ]
    },
    {
     "name": "stderr",
     "output_type": "stream",
     "text": [
      "1 molecule converted\n"
     ]
    },
    {
     "name": "stdout",
     "output_type": "stream",
     "text": [
      "        smina         -r protein_minus_ligand.fixed.pdbqt -l lig.pdbqt         --num_modes 1 -o 87.sdf         --size_x 20 --size_y 20 --size_z 20         --exhaustiveness 4        --autobox_ligand _373.mol2\n",
      "O=C(Nc1ccccc1-c1cc2ccccc2s1)C1CCNCC1 -8.00932121\n"
     ]
    },
    {
     "name": "stderr",
     "output_type": "stream",
     "text": [
      "1 molecule converted\n"
     ]
    },
    {
     "name": "stdout",
     "output_type": "stream",
     "text": [
      "        smina         -r protein_minus_ligand.fixed.pdbqt -l lig.pdbqt         --num_modes 1 -o 88.sdf         --size_x 20 --size_y 20 --size_z 20         --exhaustiveness 4        --autobox_ligand _373.mol2\n",
      "O=C(Nc1ccccc1-c1cc2ccccc2s1)C1CCNCC1 -8.14819145\n"
     ]
    },
    {
     "name": "stderr",
     "output_type": "stream",
     "text": [
      "1 molecule converted\n"
     ]
    },
    {
     "name": "stdout",
     "output_type": "stream",
     "text": [
      "        smina         -r protein_minus_ligand.fixed.pdbqt -l lig.pdbqt         --num_modes 1 -o 89.sdf         --size_x 20 --size_y 20 --size_z 20         --exhaustiveness 4        --autobox_ligand _373.mol2\n",
      "O=C(Nc1ccccc1-c1cc2ccccc2s1)C1CCNCC1 -7.63713312\n"
     ]
    },
    {
     "name": "stderr",
     "output_type": "stream",
     "text": [
      "1 molecule converted\n"
     ]
    },
    {
     "name": "stdout",
     "output_type": "stream",
     "text": [
      "        smina         -r protein_minus_ligand.fixed.pdbqt -l lig.pdbqt         --num_modes 1 -o 90.sdf         --size_x 20 --size_y 20 --size_z 20         --exhaustiveness 4        --autobox_ligand _373.mol2\n",
      "O=C(Nc1ccccc1-c1csc2ccccc12)C1CCNCC1 -7.83949232\n"
     ]
    },
    {
     "name": "stderr",
     "output_type": "stream",
     "text": [
      "1 molecule converted\n"
     ]
    },
    {
     "name": "stdout",
     "output_type": "stream",
     "text": [
      "        smina         -r protein_minus_ligand.fixed.pdbqt -l lig.pdbqt         --num_modes 1 -o 91.sdf         --size_x 20 --size_y 20 --size_z 20         --exhaustiveness 4        --autobox_ligand _373.mol2\n",
      "O=C(Nc1ccccc1-c1csc2ccccc12)C1CCNCC1 -7.92387533\n"
     ]
    },
    {
     "name": "stderr",
     "output_type": "stream",
     "text": [
      "1 molecule converted\n"
     ]
    },
    {
     "name": "stdout",
     "output_type": "stream",
     "text": [
      "        smina         -r protein_minus_ligand.fixed.pdbqt -l lig.pdbqt         --num_modes 1 -o 92.sdf         --size_x 20 --size_y 20 --size_z 20         --exhaustiveness 4        --autobox_ligand _373.mol2\n",
      "O=C(Nc1ccccc1-c1csc2ccccc12)C1CCNCC1 -7.83146954\n"
     ]
    },
    {
     "name": "stderr",
     "output_type": "stream",
     "text": [
      "1 molecule converted\n"
     ]
    },
    {
     "name": "stdout",
     "output_type": "stream",
     "text": [
      "        smina         -r protein_minus_ligand.fixed.pdbqt -l lig.pdbqt         --num_modes 1 -o 93.sdf         --size_x 20 --size_y 20 --size_z 20         --exhaustiveness 4        --autobox_ligand _373.mol2\n",
      "O=C(Nc1ccccc1-c1csc2ccccc12)C1CCNCC1 -7.80965519\n"
     ]
    },
    {
     "name": "stderr",
     "output_type": "stream",
     "text": [
      "1 molecule converted\n"
     ]
    },
    {
     "name": "stdout",
     "output_type": "stream",
     "text": [
      "        smina         -r protein_minus_ligand.fixed.pdbqt -l lig.pdbqt         --num_modes 1 -o 94.sdf         --size_x 20 --size_y 20 --size_z 20         --exhaustiveness 4        --autobox_ligand _373.mol2\n",
      "O=C(Nc1ccccc1-c1csc2ccccc12)C1CCNCC1 -7.74210072\n"
     ]
    },
    {
     "name": "stderr",
     "output_type": "stream",
     "text": [
      "1 molecule converted\n"
     ]
    },
    {
     "name": "stdout",
     "output_type": "stream",
     "text": [
      "        smina         -r protein_minus_ligand.fixed.pdbqt -l lig.pdbqt         --num_modes 1 -o 95.sdf         --size_x 20 --size_y 20 --size_z 20         --exhaustiveness 4        --autobox_ligand _373.mol2\n",
      "O=C(Nc1ccccc1-c1csc2ccccc12)C1CCNCC1 -7.89733887\n"
     ]
    },
    {
     "name": "stderr",
     "output_type": "stream",
     "text": [
      "1 molecule converted\n"
     ]
    },
    {
     "name": "stdout",
     "output_type": "stream",
     "text": [
      "        smina         -r protein_minus_ligand.fixed.pdbqt -l lig.pdbqt         --num_modes 1 -o 96.sdf         --size_x 20 --size_y 20 --size_z 20         --exhaustiveness 4        --autobox_ligand _373.mol2\n",
      "O=C(Nc1ccccc1-c1ccc2ncccc2c1)C1CCNCC1 -8.719944\n"
     ]
    },
    {
     "name": "stderr",
     "output_type": "stream",
     "text": [
      "1 molecule converted\n"
     ]
    },
    {
     "name": "stdout",
     "output_type": "stream",
     "text": [
      "        smina         -r protein_minus_ligand.fixed.pdbqt -l lig.pdbqt         --num_modes 1 -o 97.sdf         --size_x 20 --size_y 20 --size_z 20         --exhaustiveness 4        --autobox_ligand _373.mol2\n",
      "O=C(Nc1ccccc1-c1ccc2ncccc2c1)C1CCNCC1 -8.7835865\n"
     ]
    },
    {
     "name": "stderr",
     "output_type": "stream",
     "text": [
      "1 molecule converted\n"
     ]
    },
    {
     "name": "stdout",
     "output_type": "stream",
     "text": [
      "        smina         -r protein_minus_ligand.fixed.pdbqt -l lig.pdbqt         --num_modes 1 -o 98.sdf         --size_x 20 --size_y 20 --size_z 20         --exhaustiveness 4        --autobox_ligand _373.mol2\n",
      "O=C(Nc1ccccc1-c1ccc2ncccc2c1)C1CCNCC1 -8.73451424\n"
     ]
    },
    {
     "name": "stderr",
     "output_type": "stream",
     "text": [
      "1 molecule converted\n"
     ]
    },
    {
     "name": "stdout",
     "output_type": "stream",
     "text": [
      "        smina         -r protein_minus_ligand.fixed.pdbqt -l lig.pdbqt         --num_modes 1 -o 99.sdf         --size_x 20 --size_y 20 --size_z 20         --exhaustiveness 4        --autobox_ligand _373.mol2\n",
      "O=C(Nc1ccccc1-c1ccc2ncccc2c1)C1CCNCC1 -8.77851391\n"
     ]
    },
    {
     "name": "stderr",
     "output_type": "stream",
     "text": [
      "1 molecule converted\n"
     ]
    },
    {
     "name": "stdout",
     "output_type": "stream",
     "text": [
      "        smina         -r protein_minus_ligand.fixed.pdbqt -l lig.pdbqt         --num_modes 1 -o 100.sdf         --size_x 20 --size_y 20 --size_z 20         --exhaustiveness 4        --autobox_ligand _373.mol2\n",
      "O=C(Nc1ccccc1-c1ccc2ncccc2c1)C1CCNCC1 -8.7945137\n"
     ]
    },
    {
     "name": "stderr",
     "output_type": "stream",
     "text": [
      "1 molecule converted\n"
     ]
    },
    {
     "name": "stdout",
     "output_type": "stream",
     "text": [
      "        smina         -r protein_minus_ligand.fixed.pdbqt -l lig.pdbqt         --num_modes 1 -o 101.sdf         --size_x 20 --size_y 20 --size_z 20         --exhaustiveness 4        --autobox_ligand _373.mol2\n",
      "O=C(Nc1ccccc1-c1ccc2ncccc2c1)C1CCNCC1 -8.81632519\n"
     ]
    },
    {
     "name": "stderr",
     "output_type": "stream",
     "text": [
      "1 molecule converted\n"
     ]
    },
    {
     "name": "stdout",
     "output_type": "stream",
     "text": [
      "        smina         -r protein_minus_ligand.fixed.pdbqt -l lig.pdbqt         --num_modes 1 -o 102.sdf         --size_x 20 --size_y 20 --size_z 20         --exhaustiveness 4        --autobox_ligand _373.mol2\n",
      "O=C(Nc1ccccc1-c1cccc2cccnc12)C1CCNCC1 -8.45260715\n"
     ]
    },
    {
     "name": "stderr",
     "output_type": "stream",
     "text": [
      "1 molecule converted\n"
     ]
    },
    {
     "name": "stdout",
     "output_type": "stream",
     "text": [
      "        smina         -r protein_minus_ligand.fixed.pdbqt -l lig.pdbqt         --num_modes 1 -o 103.sdf         --size_x 20 --size_y 20 --size_z 20         --exhaustiveness 4        --autobox_ligand _373.mol2\n",
      "O=C(Nc1ccccc1-c1cccc2cccnc12)C1CCNCC1 -8.50623608\n"
     ]
    },
    {
     "name": "stderr",
     "output_type": "stream",
     "text": [
      "1 molecule converted\n"
     ]
    },
    {
     "name": "stdout",
     "output_type": "stream",
     "text": [
      "        smina         -r protein_minus_ligand.fixed.pdbqt -l lig.pdbqt         --num_modes 1 -o 104.sdf         --size_x 20 --size_y 20 --size_z 20         --exhaustiveness 4        --autobox_ligand _373.mol2\n",
      "O=C(Nc1ccccc1-c1cccc2cccnc12)C1CCNCC1 -8.45267105\n"
     ]
    },
    {
     "name": "stderr",
     "output_type": "stream",
     "text": [
      "1 molecule converted\n"
     ]
    },
    {
     "name": "stdout",
     "output_type": "stream",
     "text": [
      "        smina         -r protein_minus_ligand.fixed.pdbqt -l lig.pdbqt         --num_modes 1 -o 105.sdf         --size_x 20 --size_y 20 --size_z 20         --exhaustiveness 4        --autobox_ligand _373.mol2\n",
      "O=C(Nc1ccccc1-c1cccc2cccnc12)C1CCNCC1 -8.53454304\n"
     ]
    },
    {
     "name": "stderr",
     "output_type": "stream",
     "text": [
      "1 molecule converted\n"
     ]
    },
    {
     "name": "stdout",
     "output_type": "stream",
     "text": [
      "        smina         -r protein_minus_ligand.fixed.pdbqt -l lig.pdbqt         --num_modes 1 -o 106.sdf         --size_x 20 --size_y 20 --size_z 20         --exhaustiveness 4        --autobox_ligand _373.mol2\n",
      "O=C(Nc1ccccc1-c1cccc2cccnc12)C1CCNCC1 -8.60278988\n"
     ]
    },
    {
     "name": "stderr",
     "output_type": "stream",
     "text": [
      "1 molecule converted\n"
     ]
    },
    {
     "name": "stdout",
     "output_type": "stream",
     "text": [
      "        smina         -r protein_minus_ligand.fixed.pdbqt -l lig.pdbqt         --num_modes 1 -o 107.sdf         --size_x 20 --size_y 20 --size_z 20         --exhaustiveness 4        --autobox_ligand _373.mol2\n",
      "O=C(Nc1ccccc1-c1cccc2cccnc12)C1CCNCC1 -8.54438591\n"
     ]
    },
    {
     "name": "stderr",
     "output_type": "stream",
     "text": [
      "1 molecule converted\n"
     ]
    },
    {
     "name": "stdout",
     "output_type": "stream",
     "text": [
      "        smina         -r protein_minus_ligand.fixed.pdbqt -l lig.pdbqt         --num_modes 1 -o 108.sdf         --size_x 20 --size_y 20 --size_z 20         --exhaustiveness 4        --autobox_ligand _373.mol2\n",
      "O=C(Nc1ccccc1-c1cccc2ncccc12)C1CCNCC1 -8.67671871\n"
     ]
    },
    {
     "name": "stderr",
     "output_type": "stream",
     "text": [
      "1 molecule converted\n"
     ]
    },
    {
     "name": "stdout",
     "output_type": "stream",
     "text": [
      "        smina         -r protein_minus_ligand.fixed.pdbqt -l lig.pdbqt         --num_modes 1 -o 109.sdf         --size_x 20 --size_y 20 --size_z 20         --exhaustiveness 4        --autobox_ligand _373.mol2\n",
      "O=C(Nc1ccccc1-c1cccc2ncccc12)C1CCNCC1 -8.65414238\n"
     ]
    },
    {
     "name": "stderr",
     "output_type": "stream",
     "text": [
      "1 molecule converted\n"
     ]
    },
    {
     "name": "stdout",
     "output_type": "stream",
     "text": [
      "        smina         -r protein_minus_ligand.fixed.pdbqt -l lig.pdbqt         --num_modes 1 -o 110.sdf         --size_x 20 --size_y 20 --size_z 20         --exhaustiveness 4        --autobox_ligand _373.mol2\n",
      "O=C(Nc1ccccc1-c1cccc2ncccc12)C1CCNCC1 -8.61467266\n"
     ]
    },
    {
     "name": "stderr",
     "output_type": "stream",
     "text": [
      "1 molecule converted\n"
     ]
    },
    {
     "name": "stdout",
     "output_type": "stream",
     "text": [
      "        smina         -r protein_minus_ligand.fixed.pdbqt -l lig.pdbqt         --num_modes 1 -o 111.sdf         --size_x 20 --size_y 20 --size_z 20         --exhaustiveness 4        --autobox_ligand _373.mol2\n",
      "O=C(Nc1ccccc1-c1cccc2ncccc12)C1CCNCC1 -9.09075451\n"
     ]
    },
    {
     "name": "stderr",
     "output_type": "stream",
     "text": [
      "1 molecule converted\n"
     ]
    },
    {
     "name": "stdout",
     "output_type": "stream",
     "text": [
      "        smina         -r protein_minus_ligand.fixed.pdbqt -l lig.pdbqt         --num_modes 1 -o 112.sdf         --size_x 20 --size_y 20 --size_z 20         --exhaustiveness 4        --autobox_ligand _373.mol2\n",
      "O=C(Nc1ccccc1-c1cccc2ncccc12)C1CCNCC1 -8.61455631\n"
     ]
    },
    {
     "name": "stderr",
     "output_type": "stream",
     "text": [
      "1 molecule converted\n"
     ]
    },
    {
     "name": "stdout",
     "output_type": "stream",
     "text": [
      "        smina         -r protein_minus_ligand.fixed.pdbqt -l lig.pdbqt         --num_modes 1 -o 113.sdf         --size_x 20 --size_y 20 --size_z 20         --exhaustiveness 4        --autobox_ligand _373.mol2\n",
      "O=C(Nc1ccccc1-c1cccc2ncccc12)C1CCNCC1 -9.04899788\n"
     ]
    },
    {
     "name": "stderr",
     "output_type": "stream",
     "text": [
      "1 molecule converted\n"
     ]
    },
    {
     "name": "stdout",
     "output_type": "stream",
     "text": [
      "        smina         -r protein_minus_ligand.fixed.pdbqt -l lig.pdbqt         --num_modes 1 -o 114.sdf         --size_x 20 --size_y 20 --size_z 20         --exhaustiveness 4        --autobox_ligand _373.mol2\n",
      "O=C(Nc1ccccc1-c1cccc(-c2ccccc2)c1)C1CCNCC1 -9.35607719\n"
     ]
    },
    {
     "name": "stderr",
     "output_type": "stream",
     "text": [
      "1 molecule converted\n"
     ]
    },
    {
     "name": "stdout",
     "output_type": "stream",
     "text": [
      "        smina         -r protein_minus_ligand.fixed.pdbqt -l lig.pdbqt         --num_modes 1 -o 115.sdf         --size_x 20 --size_y 20 --size_z 20         --exhaustiveness 4        --autobox_ligand _373.mol2\n",
      "O=C(Nc1ccccc1-c1cccc(-c2ccccc2)c1)C1CCNCC1 -9.01487732\n"
     ]
    },
    {
     "name": "stderr",
     "output_type": "stream",
     "text": [
      "1 molecule converted\n"
     ]
    },
    {
     "name": "stdout",
     "output_type": "stream",
     "text": [
      "        smina         -r protein_minus_ligand.fixed.pdbqt -l lig.pdbqt         --num_modes 1 -o 116.sdf         --size_x 20 --size_y 20 --size_z 20         --exhaustiveness 4        --autobox_ligand _373.mol2\n",
      "O=C(Nc1ccccc1-c1cccc(-c2ccccc2)c1)C1CCNCC1 -8.69678593\n"
     ]
    },
    {
     "name": "stderr",
     "output_type": "stream",
     "text": [
      "1 molecule converted\n"
     ]
    },
    {
     "name": "stdout",
     "output_type": "stream",
     "text": [
      "        smina         -r protein_minus_ligand.fixed.pdbqt -l lig.pdbqt         --num_modes 1 -o 117.sdf         --size_x 20 --size_y 20 --size_z 20         --exhaustiveness 4        --autobox_ligand _373.mol2\n",
      "O=C(Nc1ccccc1-c1cccc(-c2ccccc2)c1)C1CCNCC1 -8.84216213\n"
     ]
    },
    {
     "name": "stderr",
     "output_type": "stream",
     "text": [
      "1 molecule converted\n"
     ]
    },
    {
     "name": "stdout",
     "output_type": "stream",
     "text": [
      "        smina         -r protein_minus_ligand.fixed.pdbqt -l lig.pdbqt         --num_modes 1 -o 118.sdf         --size_x 20 --size_y 20 --size_z 20         --exhaustiveness 4        --autobox_ligand _373.mol2\n",
      "O=C(Nc1ccccc1-c1cccc(-c2ccccc2)c1)C1CCNCC1 -8.90952682\n"
     ]
    },
    {
     "name": "stderr",
     "output_type": "stream",
     "text": [
      "1 molecule converted\n"
     ]
    },
    {
     "name": "stdout",
     "output_type": "stream",
     "text": [
      "        smina         -r protein_minus_ligand.fixed.pdbqt -l lig.pdbqt         --num_modes 1 -o 119.sdf         --size_x 20 --size_y 20 --size_z 20         --exhaustiveness 4        --autobox_ligand _373.mol2\n",
      "O=C(Nc1ccccc1-c1cccc(-c2ccccc2)c1)C1CCNCC1 -8.92298508\n"
     ]
    },
    {
     "name": "stderr",
     "output_type": "stream",
     "text": [
      "1 molecule converted\n"
     ]
    },
    {
     "name": "stdout",
     "output_type": "stream",
     "text": [
      "        smina         -r protein_minus_ligand.fixed.pdbqt -l lig.pdbqt         --num_modes 1 -o 120.sdf         --size_x 20 --size_y 20 --size_z 20         --exhaustiveness 4        --autobox_ligand _373.mol2\n",
      "O=C(Nc1ccccc1-c1cc2ccccc2o1)C1CCNCC1 -7.83337116\n"
     ]
    },
    {
     "name": "stderr",
     "output_type": "stream",
     "text": [
      "1 molecule converted\n"
     ]
    },
    {
     "name": "stdout",
     "output_type": "stream",
     "text": [
      "        smina         -r protein_minus_ligand.fixed.pdbqt -l lig.pdbqt         --num_modes 1 -o 121.sdf         --size_x 20 --size_y 20 --size_z 20         --exhaustiveness 4        --autobox_ligand _373.mol2\n",
      "O=C(Nc1ccccc1-c1cc2ccccc2o1)C1CCNCC1 -8.49496365\n"
     ]
    },
    {
     "name": "stderr",
     "output_type": "stream",
     "text": [
      "1 molecule converted\n"
     ]
    },
    {
     "name": "stdout",
     "output_type": "stream",
     "text": [
      "        smina         -r protein_minus_ligand.fixed.pdbqt -l lig.pdbqt         --num_modes 1 -o 122.sdf         --size_x 20 --size_y 20 --size_z 20         --exhaustiveness 4        --autobox_ligand _373.mol2\n",
      "O=C(Nc1ccccc1-c1cc2ccccc2o1)C1CCNCC1 -8.07620621\n"
     ]
    },
    {
     "name": "stderr",
     "output_type": "stream",
     "text": [
      "1 molecule converted\n"
     ]
    },
    {
     "name": "stdout",
     "output_type": "stream",
     "text": [
      "        smina         -r protein_minus_ligand.fixed.pdbqt -l lig.pdbqt         --num_modes 1 -o 123.sdf         --size_x 20 --size_y 20 --size_z 20         --exhaustiveness 4        --autobox_ligand _373.mol2\n",
      "O=C(Nc1ccccc1-c1cc2ccccc2o1)C1CCNCC1 -8.46220589\n"
     ]
    },
    {
     "name": "stderr",
     "output_type": "stream",
     "text": [
      "1 molecule converted\n"
     ]
    },
    {
     "name": "stdout",
     "output_type": "stream",
     "text": [
      "        smina         -r protein_minus_ligand.fixed.pdbqt -l lig.pdbqt         --num_modes 1 -o 124.sdf         --size_x 20 --size_y 20 --size_z 20         --exhaustiveness 4        --autobox_ligand _373.mol2\n",
      "O=C(Nc1ccccc1-c1cc2ccccc2o1)C1CCNCC1 -7.93059492\n"
     ]
    },
    {
     "name": "stderr",
     "output_type": "stream",
     "text": [
      "1 molecule converted\n"
     ]
    },
    {
     "name": "stdout",
     "output_type": "stream",
     "text": [
      "        smina         -r protein_minus_ligand.fixed.pdbqt -l lig.pdbqt         --num_modes 1 -o 125.sdf         --size_x 20 --size_y 20 --size_z 20         --exhaustiveness 4        --autobox_ligand _373.mol2\n",
      "O=C(Nc1ccccc1-c1cc2ccccc2o1)C1CCNCC1 -8.52548504\n"
     ]
    },
    {
     "name": "stderr",
     "output_type": "stream",
     "text": [
      "1 molecule converted\n"
     ]
    },
    {
     "name": "stdout",
     "output_type": "stream",
     "text": [
      "        smina         -r protein_minus_ligand.fixed.pdbqt -l lig.pdbqt         --num_modes 1 -o 126.sdf         --size_x 20 --size_y 20 --size_z 20         --exhaustiveness 4        --autobox_ligand _373.mol2\n",
      "O=C(Nc1ccccc1-c1cc2ccccc2[nH]1)C1CCNCC1 -8.56489849\n"
     ]
    },
    {
     "name": "stderr",
     "output_type": "stream",
     "text": [
      "1 molecule converted\n"
     ]
    },
    {
     "name": "stdout",
     "output_type": "stream",
     "text": [
      "        smina         -r protein_minus_ligand.fixed.pdbqt -l lig.pdbqt         --num_modes 1 -o 127.sdf         --size_x 20 --size_y 20 --size_z 20         --exhaustiveness 4        --autobox_ligand _373.mol2\n",
      "O=C(Nc1ccccc1-c1cc2ccccc2[nH]1)C1CCNCC1 -8.69733334\n"
     ]
    },
    {
     "name": "stderr",
     "output_type": "stream",
     "text": [
      "1 molecule converted\n"
     ]
    },
    {
     "name": "stdout",
     "output_type": "stream",
     "text": [
      "        smina         -r protein_minus_ligand.fixed.pdbqt -l lig.pdbqt         --num_modes 1 -o 128.sdf         --size_x 20 --size_y 20 --size_z 20         --exhaustiveness 4        --autobox_ligand _373.mol2\n",
      "O=C(Nc1ccccc1-c1cc2ccccc2[nH]1)C1CCNCC1 -8.54113197\n"
     ]
    },
    {
     "name": "stderr",
     "output_type": "stream",
     "text": [
      "1 molecule converted\n"
     ]
    },
    {
     "name": "stdout",
     "output_type": "stream",
     "text": [
      "        smina         -r protein_minus_ligand.fixed.pdbqt -l lig.pdbqt         --num_modes 1 -o 129.sdf         --size_x 20 --size_y 20 --size_z 20         --exhaustiveness 4        --autobox_ligand _373.mol2\n",
      "O=C(Nc1ccccc1-c1cc2ccccc2[nH]1)C1CCNCC1 -8.55773067\n"
     ]
    },
    {
     "name": "stderr",
     "output_type": "stream",
     "text": [
      "1 molecule converted\n"
     ]
    },
    {
     "name": "stdout",
     "output_type": "stream",
     "text": [
      "        smina         -r protein_minus_ligand.fixed.pdbqt -l lig.pdbqt         --num_modes 1 -o 130.sdf         --size_x 20 --size_y 20 --size_z 20         --exhaustiveness 4        --autobox_ligand _373.mol2\n",
      "O=C(Nc1ccccc1-c1cc2ccccc2[nH]1)C1CCNCC1 -8.61936474\n"
     ]
    },
    {
     "name": "stderr",
     "output_type": "stream",
     "text": [
      "1 molecule converted\n"
     ]
    },
    {
     "name": "stdout",
     "output_type": "stream",
     "text": [
      "        smina         -r protein_minus_ligand.fixed.pdbqt -l lig.pdbqt         --num_modes 1 -o 131.sdf         --size_x 20 --size_y 20 --size_z 20         --exhaustiveness 4        --autobox_ligand _373.mol2\n",
      "O=C(Nc1ccccc1-c1cc2ccccc2[nH]1)C1CCNCC1 -8.62856579\n"
     ]
    },
    {
     "name": "stderr",
     "output_type": "stream",
     "text": [
      "1 molecule converted\n"
     ]
    },
    {
     "name": "stdout",
     "output_type": "stream",
     "text": [
      "        smina         -r protein_minus_ligand.fixed.pdbqt -l lig.pdbqt         --num_modes 1 -o 132.sdf         --size_x 20 --size_y 20 --size_z 20         --exhaustiveness 4        --autobox_ligand _373.mol2\n",
      "O=C(Nc1ccccc1-c1ccc2ccccc2c1)C1CCNC1 -8.89973354\n"
     ]
    },
    {
     "name": "stderr",
     "output_type": "stream",
     "text": [
      "1 molecule converted\n"
     ]
    },
    {
     "name": "stdout",
     "output_type": "stream",
     "text": [
      "        smina         -r protein_minus_ligand.fixed.pdbqt -l lig.pdbqt         --num_modes 1 -o 133.sdf         --size_x 20 --size_y 20 --size_z 20         --exhaustiveness 4        --autobox_ligand _373.mol2\n",
      "O=C(Nc1ccccc1-c1ccc2ccccc2c1)C1CCNC1 -8.94340229\n"
     ]
    },
    {
     "name": "stderr",
     "output_type": "stream",
     "text": [
      "1 molecule converted\n"
     ]
    },
    {
     "name": "stdout",
     "output_type": "stream",
     "text": [
      "        smina         -r protein_minus_ligand.fixed.pdbqt -l lig.pdbqt         --num_modes 1 -o 134.sdf         --size_x 20 --size_y 20 --size_z 20         --exhaustiveness 4        --autobox_ligand _373.mol2\n",
      "O=C(Nc1ccccc1-c1ccc2ccccc2c1)C1CCNC1 -8.90985203\n"
     ]
    },
    {
     "name": "stderr",
     "output_type": "stream",
     "text": [
      "1 molecule converted\n"
     ]
    },
    {
     "name": "stdout",
     "output_type": "stream",
     "text": [
      "        smina         -r protein_minus_ligand.fixed.pdbqt -l lig.pdbqt         --num_modes 1 -o 135.sdf         --size_x 20 --size_y 20 --size_z 20         --exhaustiveness 4        --autobox_ligand _373.mol2\n",
      "O=C(Nc1ccccc1-c1ccc2ccccc2c1)C1CCNC1 -8.97647858\n"
     ]
    },
    {
     "name": "stderr",
     "output_type": "stream",
     "text": [
      "1 molecule converted\n"
     ]
    },
    {
     "name": "stdout",
     "output_type": "stream",
     "text": [
      "        smina         -r protein_minus_ligand.fixed.pdbqt -l lig.pdbqt         --num_modes 1 -o 136.sdf         --size_x 20 --size_y 20 --size_z 20         --exhaustiveness 4        --autobox_ligand _373.mol2\n",
      "O=C(Nc1ccccc1-c1ccc2ccccc2c1)C1CCNC1 -8.99187183\n"
     ]
    },
    {
     "name": "stderr",
     "output_type": "stream",
     "text": [
      "1 molecule converted\n"
     ]
    },
    {
     "name": "stdout",
     "output_type": "stream",
     "text": [
      "        smina         -r protein_minus_ligand.fixed.pdbqt -l lig.pdbqt         --num_modes 1 -o 137.sdf         --size_x 20 --size_y 20 --size_z 20         --exhaustiveness 4        --autobox_ligand _373.mol2\n",
      "O=C(Nc1ccccc1-c1ccc2ccccc2c1)C1CCNC1 -8.54105759\n"
     ]
    },
    {
     "name": "stderr",
     "output_type": "stream",
     "text": [
      "1 molecule converted\n"
     ]
    },
    {
     "name": "stdout",
     "output_type": "stream",
     "text": [
      "        smina         -r protein_minus_ligand.fixed.pdbqt -l lig.pdbqt         --num_modes 1 -o 138.sdf         --size_x 20 --size_y 20 --size_z 20         --exhaustiveness 4        --autobox_ligand _373.mol2\n",
      "O=C(Nc1ccccc1-c1cccc2ccccc12)C1CCNC1 -8.5738287\n"
     ]
    },
    {
     "name": "stderr",
     "output_type": "stream",
     "text": [
      "1 molecule converted\n"
     ]
    },
    {
     "name": "stdout",
     "output_type": "stream",
     "text": [
      "        smina         -r protein_minus_ligand.fixed.pdbqt -l lig.pdbqt         --num_modes 1 -o 139.sdf         --size_x 20 --size_y 20 --size_z 20         --exhaustiveness 4        --autobox_ligand _373.mol2\n",
      "O=C(Nc1ccccc1-c1cccc2ccccc12)C1CCNC1 -8.60738277\n"
     ]
    },
    {
     "name": "stderr",
     "output_type": "stream",
     "text": [
      "1 molecule converted\n"
     ]
    },
    {
     "name": "stdout",
     "output_type": "stream",
     "text": [
      "        smina         -r protein_minus_ligand.fixed.pdbqt -l lig.pdbqt         --num_modes 1 -o 140.sdf         --size_x 20 --size_y 20 --size_z 20         --exhaustiveness 4        --autobox_ligand _373.mol2\n",
      "O=C(Nc1ccccc1-c1cccc2ccccc12)C1CCNC1 -8.55172539\n"
     ]
    },
    {
     "name": "stderr",
     "output_type": "stream",
     "text": [
      "1 molecule converted\n"
     ]
    },
    {
     "name": "stdout",
     "output_type": "stream",
     "text": [
      "        smina         -r protein_minus_ligand.fixed.pdbqt -l lig.pdbqt         --num_modes 1 -o 141.sdf         --size_x 20 --size_y 20 --size_z 20         --exhaustiveness 4        --autobox_ligand _373.mol2\n",
      "O=C(Nc1ccccc1-c1cccc2ccccc12)C1CCNC1 -8.59582329\n"
     ]
    },
    {
     "name": "stderr",
     "output_type": "stream",
     "text": [
      "1 molecule converted\n"
     ]
    },
    {
     "name": "stdout",
     "output_type": "stream",
     "text": [
      "        smina         -r protein_minus_ligand.fixed.pdbqt -l lig.pdbqt         --num_modes 1 -o 142.sdf         --size_x 20 --size_y 20 --size_z 20         --exhaustiveness 4        --autobox_ligand _373.mol2\n",
      "O=C(Nc1ccccc1-c1cccc2ccccc12)C1CCNC1 -8.51973534\n"
     ]
    },
    {
     "name": "stderr",
     "output_type": "stream",
     "text": [
      "1 molecule converted\n"
     ]
    },
    {
     "name": "stdout",
     "output_type": "stream",
     "text": [
      "        smina         -r protein_minus_ligand.fixed.pdbqt -l lig.pdbqt         --num_modes 1 -o 143.sdf         --size_x 20 --size_y 20 --size_z 20         --exhaustiveness 4        --autobox_ligand _373.mol2\n",
      "O=C(Nc1ccccc1-c1cccc2ccccc12)C1CCNC1 -8.64748573\n"
     ]
    },
    {
     "name": "stderr",
     "output_type": "stream",
     "text": [
      "1 molecule converted\n"
     ]
    },
    {
     "name": "stdout",
     "output_type": "stream",
     "text": [
      "        smina         -r protein_minus_ligand.fixed.pdbqt -l lig.pdbqt         --num_modes 1 -o 144.sdf         --size_x 20 --size_y 20 --size_z 20         --exhaustiveness 4        --autobox_ligand _373.mol2\n",
      "O=C(Nc1ccccc1-c1ccc(-c2ccccc2)cc1)C1CCNC1 -8.76452255\n"
     ]
    },
    {
     "name": "stderr",
     "output_type": "stream",
     "text": [
      "1 molecule converted\n"
     ]
    },
    {
     "name": "stdout",
     "output_type": "stream",
     "text": [
      "        smina         -r protein_minus_ligand.fixed.pdbqt -l lig.pdbqt         --num_modes 1 -o 145.sdf         --size_x 20 --size_y 20 --size_z 20         --exhaustiveness 4        --autobox_ligand _373.mol2\n",
      "O=C(Nc1ccccc1-c1ccc(-c2ccccc2)cc1)C1CCNC1 -8.63219261\n"
     ]
    },
    {
     "name": "stderr",
     "output_type": "stream",
     "text": [
      "1 molecule converted\n"
     ]
    },
    {
     "name": "stdout",
     "output_type": "stream",
     "text": [
      "        smina         -r protein_minus_ligand.fixed.pdbqt -l lig.pdbqt         --num_modes 1 -o 146.sdf         --size_x 20 --size_y 20 --size_z 20         --exhaustiveness 4        --autobox_ligand _373.mol2\n",
      "O=C(Nc1ccccc1-c1ccc(-c2ccccc2)cc1)C1CCNC1 -8.69497013\n"
     ]
    },
    {
     "name": "stderr",
     "output_type": "stream",
     "text": [
      "1 molecule converted\n"
     ]
    },
    {
     "name": "stdout",
     "output_type": "stream",
     "text": [
      "        smina         -r protein_minus_ligand.fixed.pdbqt -l lig.pdbqt         --num_modes 1 -o 147.sdf         --size_x 20 --size_y 20 --size_z 20         --exhaustiveness 4        --autobox_ligand _373.mol2\n",
      "O=C(Nc1ccccc1-c1ccc(-c2ccccc2)cc1)C1CCNC1 -8.65250206\n"
     ]
    },
    {
     "name": "stderr",
     "output_type": "stream",
     "text": [
      "1 molecule converted\n"
     ]
    },
    {
     "name": "stdout",
     "output_type": "stream",
     "text": [
      "        smina         -r protein_minus_ligand.fixed.pdbqt -l lig.pdbqt         --num_modes 1 -o 148.sdf         --size_x 20 --size_y 20 --size_z 20         --exhaustiveness 4        --autobox_ligand _373.mol2\n",
      "O=C(Nc1ccccc1-c1ccc(-c2ccccc2)cc1)C1CCNC1 -8.4784317\n"
     ]
    },
    {
     "name": "stderr",
     "output_type": "stream",
     "text": [
      "1 molecule converted\n"
     ]
    },
    {
     "name": "stdout",
     "output_type": "stream",
     "text": [
      "        smina         -r protein_minus_ligand.fixed.pdbqt -l lig.pdbqt         --num_modes 1 -o 149.sdf         --size_x 20 --size_y 20 --size_z 20         --exhaustiveness 4        --autobox_ligand _373.mol2\n",
      "O=C(Nc1ccccc1-c1ccc(-c2ccccc2)cc1)C1CCNC1 -8.56632042\n"
     ]
    },
    {
     "name": "stderr",
     "output_type": "stream",
     "text": [
      "1 molecule converted\n"
     ]
    },
    {
     "name": "stdout",
     "output_type": "stream",
     "text": [
      "        smina         -r protein_minus_ligand.fixed.pdbqt -l lig.pdbqt         --num_modes 1 -o 150.sdf         --size_x 20 --size_y 20 --size_z 20         --exhaustiveness 4        --autobox_ligand _373.mol2\n",
      "O=C(Nc1ccccc1-c1cc2ccccc2s1)C1CCNC1 -7.84519815\n"
     ]
    },
    {
     "name": "stderr",
     "output_type": "stream",
     "text": [
      "1 molecule converted\n"
     ]
    },
    {
     "name": "stdout",
     "output_type": "stream",
     "text": [
      "        smina         -r protein_minus_ligand.fixed.pdbqt -l lig.pdbqt         --num_modes 1 -o 151.sdf         --size_x 20 --size_y 20 --size_z 20         --exhaustiveness 4        --autobox_ligand _373.mol2\n",
      "O=C(Nc1ccccc1-c1cc2ccccc2s1)C1CCNC1 -7.94470501\n"
     ]
    },
    {
     "name": "stderr",
     "output_type": "stream",
     "text": [
      "1 molecule converted\n"
     ]
    },
    {
     "name": "stdout",
     "output_type": "stream",
     "text": [
      "        smina         -r protein_minus_ligand.fixed.pdbqt -l lig.pdbqt         --num_modes 1 -o 152.sdf         --size_x 20 --size_y 20 --size_z 20         --exhaustiveness 4        --autobox_ligand _373.mol2\n",
      "O=C(Nc1ccccc1-c1cc2ccccc2s1)C1CCNC1 -7.92595673\n"
     ]
    },
    {
     "name": "stderr",
     "output_type": "stream",
     "text": [
      "1 molecule converted\n"
     ]
    },
    {
     "name": "stdout",
     "output_type": "stream",
     "text": [
      "        smina         -r protein_minus_ligand.fixed.pdbqt -l lig.pdbqt         --num_modes 1 -o 153.sdf         --size_x 20 --size_y 20 --size_z 20         --exhaustiveness 4        --autobox_ligand _373.mol2\n",
      "O=C(Nc1ccccc1-c1cc2ccccc2s1)C1CCNC1 -7.88054276\n"
     ]
    },
    {
     "name": "stderr",
     "output_type": "stream",
     "text": [
      "1 molecule converted\n"
     ]
    },
    {
     "name": "stdout",
     "output_type": "stream",
     "text": [
      "        smina         -r protein_minus_ligand.fixed.pdbqt -l lig.pdbqt         --num_modes 1 -o 154.sdf         --size_x 20 --size_y 20 --size_z 20         --exhaustiveness 4        --autobox_ligand _373.mol2\n",
      "O=C(Nc1ccccc1-c1cc2ccccc2s1)C1CCNC1 -7.94043112\n"
     ]
    },
    {
     "name": "stderr",
     "output_type": "stream",
     "text": [
      "1 molecule converted\n"
     ]
    },
    {
     "name": "stdout",
     "output_type": "stream",
     "text": [
      "        smina         -r protein_minus_ligand.fixed.pdbqt -l lig.pdbqt         --num_modes 1 -o 155.sdf         --size_x 20 --size_y 20 --size_z 20         --exhaustiveness 4        --autobox_ligand _373.mol2\n",
      "O=C(Nc1ccccc1-c1cc2ccccc2s1)C1CCNC1 -7.92611742\n"
     ]
    },
    {
     "name": "stderr",
     "output_type": "stream",
     "text": [
      "1 molecule converted\n"
     ]
    },
    {
     "name": "stdout",
     "output_type": "stream",
     "text": [
      "        smina         -r protein_minus_ligand.fixed.pdbqt -l lig.pdbqt         --num_modes 1 -o 156.sdf         --size_x 20 --size_y 20 --size_z 20         --exhaustiveness 4        --autobox_ligand _373.mol2\n",
      "O=C(Nc1ccccc1-c1csc2ccccc12)C1CCNC1 -8.46455002\n"
     ]
    },
    {
     "name": "stderr",
     "output_type": "stream",
     "text": [
      "1 molecule converted\n"
     ]
    },
    {
     "name": "stdout",
     "output_type": "stream",
     "text": [
      "        smina         -r protein_minus_ligand.fixed.pdbqt -l lig.pdbqt         --num_modes 1 -o 157.sdf         --size_x 20 --size_y 20 --size_z 20         --exhaustiveness 4        --autobox_ligand _373.mol2\n",
      "O=C(Nc1ccccc1-c1csc2ccccc12)C1CCNC1 -8.30096149\n"
     ]
    },
    {
     "name": "stderr",
     "output_type": "stream",
     "text": [
      "1 molecule converted\n"
     ]
    },
    {
     "name": "stdout",
     "output_type": "stream",
     "text": [
      "        smina         -r protein_minus_ligand.fixed.pdbqt -l lig.pdbqt         --num_modes 1 -o 158.sdf         --size_x 20 --size_y 20 --size_z 20         --exhaustiveness 4        --autobox_ligand _373.mol2\n",
      "O=C(Nc1ccccc1-c1csc2ccccc12)C1CCNC1 -8.31066036\n"
     ]
    },
    {
     "name": "stderr",
     "output_type": "stream",
     "text": [
      "1 molecule converted\n"
     ]
    },
    {
     "name": "stdout",
     "output_type": "stream",
     "text": [
      "        smina         -r protein_minus_ligand.fixed.pdbqt -l lig.pdbqt         --num_modes 1 -o 159.sdf         --size_x 20 --size_y 20 --size_z 20         --exhaustiveness 4        --autobox_ligand _373.mol2\n",
      "O=C(Nc1ccccc1-c1csc2ccccc12)C1CCNC1 -8.32193279\n"
     ]
    },
    {
     "name": "stderr",
     "output_type": "stream",
     "text": [
      "1 molecule converted\n"
     ]
    },
    {
     "name": "stdout",
     "output_type": "stream",
     "text": [
      "        smina         -r protein_minus_ligand.fixed.pdbqt -l lig.pdbqt         --num_modes 1 -o 160.sdf         --size_x 20 --size_y 20 --size_z 20         --exhaustiveness 4        --autobox_ligand _373.mol2\n",
      "O=C(Nc1ccccc1-c1csc2ccccc12)C1CCNC1 -8.45652103\n"
     ]
    },
    {
     "name": "stderr",
     "output_type": "stream",
     "text": [
      "1 molecule converted\n"
     ]
    },
    {
     "name": "stdout",
     "output_type": "stream",
     "text": [
      "        smina         -r protein_minus_ligand.fixed.pdbqt -l lig.pdbqt         --num_modes 1 -o 161.sdf         --size_x 20 --size_y 20 --size_z 20         --exhaustiveness 4        --autobox_ligand _373.mol2\n",
      "O=C(Nc1ccccc1-c1csc2ccccc12)C1CCNC1 -8.30100918\n"
     ]
    },
    {
     "name": "stderr",
     "output_type": "stream",
     "text": [
      "1 molecule converted\n"
     ]
    },
    {
     "name": "stdout",
     "output_type": "stream",
     "text": [
      "        smina         -r protein_minus_ligand.fixed.pdbqt -l lig.pdbqt         --num_modes 1 -o 162.sdf         --size_x 20 --size_y 20 --size_z 20         --exhaustiveness 4        --autobox_ligand _373.mol2\n",
      "O=C(Nc1ccccc1-c1ccc2ncccc2c1)C1CCNC1 -8.62696934\n"
     ]
    },
    {
     "name": "stderr",
     "output_type": "stream",
     "text": [
      "1 molecule converted\n"
     ]
    },
    {
     "name": "stdout",
     "output_type": "stream",
     "text": [
      "        smina         -r protein_minus_ligand.fixed.pdbqt -l lig.pdbqt         --num_modes 1 -o 163.sdf         --size_x 20 --size_y 20 --size_z 20         --exhaustiveness 4        --autobox_ligand _373.mol2\n",
      "O=C(Nc1ccccc1-c1ccc2ncccc2c1)C1CCNC1 -8.62363434\n"
     ]
    },
    {
     "name": "stderr",
     "output_type": "stream",
     "text": [
      "1 molecule converted\n"
     ]
    },
    {
     "name": "stdout",
     "output_type": "stream",
     "text": [
      "        smina         -r protein_minus_ligand.fixed.pdbqt -l lig.pdbqt         --num_modes 1 -o 164.sdf         --size_x 20 --size_y 20 --size_z 20         --exhaustiveness 4        --autobox_ligand _373.mol2\n",
      "O=C(Nc1ccccc1-c1ccc2ncccc2c1)C1CCNC1 -8.42371845\n"
     ]
    },
    {
     "name": "stderr",
     "output_type": "stream",
     "text": [
      "1 molecule converted\n"
     ]
    },
    {
     "name": "stdout",
     "output_type": "stream",
     "text": [
      "        smina         -r protein_minus_ligand.fixed.pdbqt -l lig.pdbqt         --num_modes 1 -o 165.sdf         --size_x 20 --size_y 20 --size_z 20         --exhaustiveness 4        --autobox_ligand _373.mol2\n",
      "O=C(Nc1ccccc1-c1ccc2ncccc2c1)C1CCNC1 -8.94887829\n"
     ]
    },
    {
     "name": "stderr",
     "output_type": "stream",
     "text": [
      "1 molecule converted\n"
     ]
    },
    {
     "name": "stdout",
     "output_type": "stream",
     "text": [
      "        smina         -r protein_minus_ligand.fixed.pdbqt -l lig.pdbqt         --num_modes 1 -o 166.sdf         --size_x 20 --size_y 20 --size_z 20         --exhaustiveness 4        --autobox_ligand _373.mol2\n",
      "O=C(Nc1ccccc1-c1ccc2ncccc2c1)C1CCNC1 -8.62730885\n"
     ]
    },
    {
     "name": "stderr",
     "output_type": "stream",
     "text": [
      "1 molecule converted\n"
     ]
    },
    {
     "name": "stdout",
     "output_type": "stream",
     "text": [
      "        smina         -r protein_minus_ligand.fixed.pdbqt -l lig.pdbqt         --num_modes 1 -o 167.sdf         --size_x 20 --size_y 20 --size_z 20         --exhaustiveness 4        --autobox_ligand _373.mol2\n",
      "O=C(Nc1ccccc1-c1ccc2ncccc2c1)C1CCNC1 -8.63053513\n"
     ]
    },
    {
     "name": "stderr",
     "output_type": "stream",
     "text": [
      "1 molecule converted\n"
     ]
    },
    {
     "name": "stdout",
     "output_type": "stream",
     "text": [
      "        smina         -r protein_minus_ligand.fixed.pdbqt -l lig.pdbqt         --num_modes 1 -o 168.sdf         --size_x 20 --size_y 20 --size_z 20         --exhaustiveness 4        --autobox_ligand _373.mol2\n",
      "O=C(Nc1ccccc1-c1cccc2cccnc12)C1CCNC1 -8.13748741\n"
     ]
    },
    {
     "name": "stderr",
     "output_type": "stream",
     "text": [
      "1 molecule converted\n"
     ]
    },
    {
     "name": "stdout",
     "output_type": "stream",
     "text": [
      "        smina         -r protein_minus_ligand.fixed.pdbqt -l lig.pdbqt         --num_modes 1 -o 169.sdf         --size_x 20 --size_y 20 --size_z 20         --exhaustiveness 4        --autobox_ligand _373.mol2\n",
      "O=C(Nc1ccccc1-c1cccc2cccnc12)C1CCNC1 -7.96842003\n"
     ]
    },
    {
     "name": "stderr",
     "output_type": "stream",
     "text": [
      "1 molecule converted\n"
     ]
    },
    {
     "name": "stdout",
     "output_type": "stream",
     "text": [
      "        smina         -r protein_minus_ligand.fixed.pdbqt -l lig.pdbqt         --num_modes 1 -o 170.sdf         --size_x 20 --size_y 20 --size_z 20         --exhaustiveness 4        --autobox_ligand _373.mol2\n",
      "O=C(Nc1ccccc1-c1cccc2cccnc12)C1CCNC1 -8.20481682\n"
     ]
    },
    {
     "name": "stderr",
     "output_type": "stream",
     "text": [
      "1 molecule converted\n"
     ]
    },
    {
     "name": "stdout",
     "output_type": "stream",
     "text": [
      "        smina         -r protein_minus_ligand.fixed.pdbqt -l lig.pdbqt         --num_modes 1 -o 171.sdf         --size_x 20 --size_y 20 --size_z 20         --exhaustiveness 4        --autobox_ligand _373.mol2\n",
      "O=C(Nc1ccccc1-c1cccc2cccnc12)C1CCNC1 -8.12805939\n"
     ]
    },
    {
     "name": "stderr",
     "output_type": "stream",
     "text": [
      "1 molecule converted\n"
     ]
    },
    {
     "name": "stdout",
     "output_type": "stream",
     "text": [
      "        smina         -r protein_minus_ligand.fixed.pdbqt -l lig.pdbqt         --num_modes 1 -o 172.sdf         --size_x 20 --size_y 20 --size_z 20         --exhaustiveness 4        --autobox_ligand _373.mol2\n",
      "O=C(Nc1ccccc1-c1cccc2cccnc12)C1CCNC1 -8.19277287\n"
     ]
    },
    {
     "name": "stderr",
     "output_type": "stream",
     "text": [
      "1 molecule converted\n"
     ]
    },
    {
     "name": "stdout",
     "output_type": "stream",
     "text": [
      "        smina         -r protein_minus_ligand.fixed.pdbqt -l lig.pdbqt         --num_modes 1 -o 173.sdf         --size_x 20 --size_y 20 --size_z 20         --exhaustiveness 4        --autobox_ligand _373.mol2\n",
      "O=C(Nc1ccccc1-c1cccc2cccnc12)C1CCNC1 -7.92561531\n"
     ]
    },
    {
     "name": "stderr",
     "output_type": "stream",
     "text": [
      "1 molecule converted\n"
     ]
    },
    {
     "name": "stdout",
     "output_type": "stream",
     "text": [
      "        smina         -r protein_minus_ligand.fixed.pdbqt -l lig.pdbqt         --num_modes 1 -o 174.sdf         --size_x 20 --size_y 20 --size_z 20         --exhaustiveness 4        --autobox_ligand _373.mol2\n",
      "O=C(Nc1ccccc1-c1cccc2ncccc12)C1CCNC1 -9.07238388\n"
     ]
    },
    {
     "name": "stderr",
     "output_type": "stream",
     "text": [
      "1 molecule converted\n"
     ]
    },
    {
     "name": "stdout",
     "output_type": "stream",
     "text": [
      "        smina         -r protein_minus_ligand.fixed.pdbqt -l lig.pdbqt         --num_modes 1 -o 175.sdf         --size_x 20 --size_y 20 --size_z 20         --exhaustiveness 4        --autobox_ligand _373.mol2\n",
      "O=C(Nc1ccccc1-c1cccc2ncccc12)C1CCNC1 -8.84123898\n"
     ]
    },
    {
     "name": "stderr",
     "output_type": "stream",
     "text": [
      "1 molecule converted\n"
     ]
    },
    {
     "name": "stdout",
     "output_type": "stream",
     "text": [
      "        smina         -r protein_minus_ligand.fixed.pdbqt -l lig.pdbqt         --num_modes 1 -o 176.sdf         --size_x 20 --size_y 20 --size_z 20         --exhaustiveness 4        --autobox_ligand _373.mol2\n",
      "O=C(Nc1ccccc1-c1cccc2ncccc12)C1CCNC1 -9.06355667\n"
     ]
    },
    {
     "name": "stderr",
     "output_type": "stream",
     "text": [
      "1 molecule converted\n"
     ]
    },
    {
     "name": "stdout",
     "output_type": "stream",
     "text": [
      "        smina         -r protein_minus_ligand.fixed.pdbqt -l lig.pdbqt         --num_modes 1 -o 177.sdf         --size_x 20 --size_y 20 --size_z 20         --exhaustiveness 4        --autobox_ligand _373.mol2\n",
      "O=C(Nc1ccccc1-c1cccc2ncccc12)C1CCNC1 -9.09036827\n"
     ]
    },
    {
     "name": "stderr",
     "output_type": "stream",
     "text": [
      "1 molecule converted\n"
     ]
    },
    {
     "name": "stdout",
     "output_type": "stream",
     "text": [
      "        smina         -r protein_minus_ligand.fixed.pdbqt -l lig.pdbqt         --num_modes 1 -o 178.sdf         --size_x 20 --size_y 20 --size_z 20         --exhaustiveness 4        --autobox_ligand _373.mol2\n",
      "O=C(Nc1ccccc1-c1cccc2ncccc12)C1CCNC1 -9.00268078\n"
     ]
    },
    {
     "name": "stderr",
     "output_type": "stream",
     "text": [
      "1 molecule converted\n"
     ]
    },
    {
     "name": "stdout",
     "output_type": "stream",
     "text": [
      "        smina         -r protein_minus_ligand.fixed.pdbqt -l lig.pdbqt         --num_modes 1 -o 179.sdf         --size_x 20 --size_y 20 --size_z 20         --exhaustiveness 4        --autobox_ligand _373.mol2\n",
      "O=C(Nc1ccccc1-c1cccc2ncccc12)C1CCNC1 -9.03849411\n"
     ]
    },
    {
     "name": "stderr",
     "output_type": "stream",
     "text": [
      "1 molecule converted\n"
     ]
    },
    {
     "name": "stdout",
     "output_type": "stream",
     "text": [
      "        smina         -r protein_minus_ligand.fixed.pdbqt -l lig.pdbqt         --num_modes 1 -o 180.sdf         --size_x 20 --size_y 20 --size_z 20         --exhaustiveness 4        --autobox_ligand _373.mol2\n",
      "O=C(Nc1ccccc1-c1cccc(-c2ccccc2)c1)C1CCNC1 -9.27827835\n"
     ]
    },
    {
     "name": "stderr",
     "output_type": "stream",
     "text": [
      "1 molecule converted\n"
     ]
    },
    {
     "name": "stdout",
     "output_type": "stream",
     "text": [
      "        smina         -r protein_minus_ligand.fixed.pdbqt -l lig.pdbqt         --num_modes 1 -o 181.sdf         --size_x 20 --size_y 20 --size_z 20         --exhaustiveness 4        --autobox_ligand _373.mol2\n",
      "O=C(Nc1ccccc1-c1cccc(-c2ccccc2)c1)C1CCNC1 -8.80255413\n"
     ]
    },
    {
     "name": "stderr",
     "output_type": "stream",
     "text": [
      "1 molecule converted\n"
     ]
    },
    {
     "name": "stdout",
     "output_type": "stream",
     "text": [
      "        smina         -r protein_minus_ligand.fixed.pdbqt -l lig.pdbqt         --num_modes 1 -o 182.sdf         --size_x 20 --size_y 20 --size_z 20         --exhaustiveness 4        --autobox_ligand _373.mol2\n",
      "O=C(Nc1ccccc1-c1cccc(-c2ccccc2)c1)C1CCNC1 -8.73383904\n"
     ]
    },
    {
     "name": "stderr",
     "output_type": "stream",
     "text": [
      "1 molecule converted\n"
     ]
    },
    {
     "name": "stdout",
     "output_type": "stream",
     "text": [
      "        smina         -r protein_minus_ligand.fixed.pdbqt -l lig.pdbqt         --num_modes 1 -o 183.sdf         --size_x 20 --size_y 20 --size_z 20         --exhaustiveness 4        --autobox_ligand _373.mol2\n",
      "O=C(Nc1ccccc1-c1cccc(-c2ccccc2)c1)C1CCNC1 -8.78059959\n"
     ]
    },
    {
     "name": "stderr",
     "output_type": "stream",
     "text": [
      "1 molecule converted\n"
     ]
    },
    {
     "name": "stdout",
     "output_type": "stream",
     "text": [
      "        smina         -r protein_minus_ligand.fixed.pdbqt -l lig.pdbqt         --num_modes 1 -o 184.sdf         --size_x 20 --size_y 20 --size_z 20         --exhaustiveness 4        --autobox_ligand _373.mol2\n",
      "O=C(Nc1ccccc1-c1cccc(-c2ccccc2)c1)C1CCNC1 -9.15108776\n"
     ]
    },
    {
     "name": "stderr",
     "output_type": "stream",
     "text": [
      "1 molecule converted\n"
     ]
    },
    {
     "name": "stdout",
     "output_type": "stream",
     "text": [
      "        smina         -r protein_minus_ligand.fixed.pdbqt -l lig.pdbqt         --num_modes 1 -o 185.sdf         --size_x 20 --size_y 20 --size_z 20         --exhaustiveness 4        --autobox_ligand _373.mol2\n",
      "O=C(Nc1ccccc1-c1cccc(-c2ccccc2)c1)C1CCNC1 -8.7936821\n"
     ]
    },
    {
     "name": "stderr",
     "output_type": "stream",
     "text": [
      "1 molecule converted\n"
     ]
    },
    {
     "name": "stdout",
     "output_type": "stream",
     "text": [
      "        smina         -r protein_minus_ligand.fixed.pdbqt -l lig.pdbqt         --num_modes 1 -o 186.sdf         --size_x 20 --size_y 20 --size_z 20         --exhaustiveness 4        --autobox_ligand _373.mol2\n",
      "O=C(Nc1ccccc1-c1cc2ccccc2o1)C1CCNC1 -8.96172714\n"
     ]
    },
    {
     "name": "stderr",
     "output_type": "stream",
     "text": [
      "1 molecule converted\n"
     ]
    },
    {
     "name": "stdout",
     "output_type": "stream",
     "text": [
      "        smina         -r protein_minus_ligand.fixed.pdbqt -l lig.pdbqt         --num_modes 1 -o 187.sdf         --size_x 20 --size_y 20 --size_z 20         --exhaustiveness 4        --autobox_ligand _373.mol2\n",
      "O=C(Nc1ccccc1-c1cc2ccccc2o1)C1CCNC1 -8.8943243\n"
     ]
    },
    {
     "name": "stderr",
     "output_type": "stream",
     "text": [
      "1 molecule converted\n"
     ]
    },
    {
     "name": "stdout",
     "output_type": "stream",
     "text": [
      "        smina         -r protein_minus_ligand.fixed.pdbqt -l lig.pdbqt         --num_modes 1 -o 188.sdf         --size_x 20 --size_y 20 --size_z 20         --exhaustiveness 4        --autobox_ligand _373.mol2\n",
      "O=C(Nc1ccccc1-c1cc2ccccc2o1)C1CCNC1 -8.94296741\n"
     ]
    },
    {
     "name": "stderr",
     "output_type": "stream",
     "text": [
      "1 molecule converted\n"
     ]
    },
    {
     "name": "stdout",
     "output_type": "stream",
     "text": [
      "        smina         -r protein_minus_ligand.fixed.pdbqt -l lig.pdbqt         --num_modes 1 -o 189.sdf         --size_x 20 --size_y 20 --size_z 20         --exhaustiveness 4        --autobox_ligand _373.mol2\n",
      "O=C(Nc1ccccc1-c1cc2ccccc2o1)C1CCNC1 -8.83665562\n"
     ]
    },
    {
     "name": "stderr",
     "output_type": "stream",
     "text": [
      "1 molecule converted\n"
     ]
    },
    {
     "name": "stdout",
     "output_type": "stream",
     "text": [
      "        smina         -r protein_minus_ligand.fixed.pdbqt -l lig.pdbqt         --num_modes 1 -o 190.sdf         --size_x 20 --size_y 20 --size_z 20         --exhaustiveness 4        --autobox_ligand _373.mol2\n",
      "O=C(Nc1ccccc1-c1cc2ccccc2o1)C1CCNC1 -8.8274889\n"
     ]
    },
    {
     "name": "stderr",
     "output_type": "stream",
     "text": [
      "1 molecule converted\n"
     ]
    },
    {
     "name": "stdout",
     "output_type": "stream",
     "text": [
      "        smina         -r protein_minus_ligand.fixed.pdbqt -l lig.pdbqt         --num_modes 1 -o 191.sdf         --size_x 20 --size_y 20 --size_z 20         --exhaustiveness 4        --autobox_ligand _373.mol2\n",
      "O=C(Nc1ccccc1-c1cc2ccccc2o1)C1CCNC1 -8.93431473\n"
     ]
    },
    {
     "name": "stderr",
     "output_type": "stream",
     "text": [
      "1 molecule converted\n"
     ]
    },
    {
     "name": "stdout",
     "output_type": "stream",
     "text": [
      "        smina         -r protein_minus_ligand.fixed.pdbqt -l lig.pdbqt         --num_modes 1 -o 192.sdf         --size_x 20 --size_y 20 --size_z 20         --exhaustiveness 4        --autobox_ligand _373.mol2\n",
      "O=C(Nc1ccccc1-c1cc2ccccc2[nH]1)C1CCNC1 -8.55764484\n"
     ]
    },
    {
     "name": "stderr",
     "output_type": "stream",
     "text": [
      "1 molecule converted\n"
     ]
    },
    {
     "name": "stdout",
     "output_type": "stream",
     "text": [
      "        smina         -r protein_minus_ligand.fixed.pdbqt -l lig.pdbqt         --num_modes 1 -o 193.sdf         --size_x 20 --size_y 20 --size_z 20         --exhaustiveness 4        --autobox_ligand _373.mol2\n",
      "O=C(Nc1ccccc1-c1cc2ccccc2[nH]1)C1CCNC1 -8.6218729\n"
     ]
    },
    {
     "name": "stderr",
     "output_type": "stream",
     "text": [
      "1 molecule converted\n"
     ]
    },
    {
     "name": "stdout",
     "output_type": "stream",
     "text": [
      "        smina         -r protein_minus_ligand.fixed.pdbqt -l lig.pdbqt         --num_modes 1 -o 194.sdf         --size_x 20 --size_y 20 --size_z 20         --exhaustiveness 4        --autobox_ligand _373.mol2\n",
      "O=C(Nc1ccccc1-c1cc2ccccc2[nH]1)C1CCNC1 -8.5816803\n"
     ]
    },
    {
     "name": "stderr",
     "output_type": "stream",
     "text": [
      "1 molecule converted\n"
     ]
    },
    {
     "name": "stdout",
     "output_type": "stream",
     "text": [
      "        smina         -r protein_minus_ligand.fixed.pdbqt -l lig.pdbqt         --num_modes 1 -o 195.sdf         --size_x 20 --size_y 20 --size_z 20         --exhaustiveness 4        --autobox_ligand _373.mol2\n",
      "O=C(Nc1ccccc1-c1cc2ccccc2[nH]1)C1CCNC1 -8.53788185\n"
     ]
    },
    {
     "name": "stderr",
     "output_type": "stream",
     "text": [
      "1 molecule converted\n"
     ]
    },
    {
     "name": "stdout",
     "output_type": "stream",
     "text": [
      "        smina         -r protein_minus_ligand.fixed.pdbqt -l lig.pdbqt         --num_modes 1 -o 196.sdf         --size_x 20 --size_y 20 --size_z 20         --exhaustiveness 4        --autobox_ligand _373.mol2\n",
      "O=C(Nc1ccccc1-c1cc2ccccc2[nH]1)C1CCNC1 -8.53399086\n"
     ]
    },
    {
     "name": "stderr",
     "output_type": "stream",
     "text": [
      "1 molecule converted\n"
     ]
    },
    {
     "name": "stdout",
     "output_type": "stream",
     "text": [
      "        smina         -r protein_minus_ligand.fixed.pdbqt -l lig.pdbqt         --num_modes 1 -o 197.sdf         --size_x 20 --size_y 20 --size_z 20         --exhaustiveness 4        --autobox_ligand _373.mol2\n",
      "O=C(Nc1ccccc1-c1cc2ccccc2[nH]1)C1CCNC1 -8.14908123\n"
     ]
    },
    {
     "name": "stderr",
     "output_type": "stream",
     "text": [
      "1 molecule converted\n"
     ]
    },
    {
     "name": "stdout",
     "output_type": "stream",
     "text": [
      "        smina         -r protein_minus_ligand.fixed.pdbqt -l lig.pdbqt         --num_modes 1 -o 198.sdf         --size_x 20 --size_y 20 --size_z 20         --exhaustiveness 4        --autobox_ligand _373.mol2\n",
      "O=C(Nc1ccccc1-c1ccc2ccccc2c1)C1=CCNCC1 -9.18281746\n"
     ]
    },
    {
     "name": "stderr",
     "output_type": "stream",
     "text": [
      "1 molecule converted\n"
     ]
    },
    {
     "name": "stdout",
     "output_type": "stream",
     "text": [
      "        smina         -r protein_minus_ligand.fixed.pdbqt -l lig.pdbqt         --num_modes 1 -o 199.sdf         --size_x 20 --size_y 20 --size_z 20         --exhaustiveness 4        --autobox_ligand _373.mol2\n",
      "O=C(Nc1ccccc1-c1ccc2ccccc2c1)C1=CCNCC1 -9.25302601\n"
     ]
    },
    {
     "name": "stderr",
     "output_type": "stream",
     "text": [
      "1 molecule converted\n"
     ]
    },
    {
     "name": "stdout",
     "output_type": "stream",
     "text": [
      "        smina         -r protein_minus_ligand.fixed.pdbqt -l lig.pdbqt         --num_modes 1 -o 200.sdf         --size_x 20 --size_y 20 --size_z 20         --exhaustiveness 4        --autobox_ligand _373.mol2\n",
      "O=C(Nc1ccccc1-c1ccc2ccccc2c1)C1=CCNCC1 -9.05008125\n"
     ]
    },
    {
     "name": "stderr",
     "output_type": "stream",
     "text": [
      "1 molecule converted\n"
     ]
    },
    {
     "name": "stdout",
     "output_type": "stream",
     "text": [
      "        smina         -r protein_minus_ligand.fixed.pdbqt -l lig.pdbqt         --num_modes 1 -o 201.sdf         --size_x 20 --size_y 20 --size_z 20         --exhaustiveness 4        --autobox_ligand _373.mol2\n",
      "O=C(Nc1ccccc1-c1ccc2ccccc2c1)C1=CCNCC1 -9.3760252\n"
     ]
    },
    {
     "name": "stderr",
     "output_type": "stream",
     "text": [
      "1 molecule converted\n"
     ]
    },
    {
     "name": "stdout",
     "output_type": "stream",
     "text": [
      "        smina         -r protein_minus_ligand.fixed.pdbqt -l lig.pdbqt         --num_modes 1 -o 202.sdf         --size_x 20 --size_y 20 --size_z 20         --exhaustiveness 4        --autobox_ligand _373.mol2\n",
      "O=C(Nc1ccccc1-c1ccc2ccccc2c1)C1=CCNCC1 -9.37374783\n"
     ]
    },
    {
     "name": "stderr",
     "output_type": "stream",
     "text": [
      "1 molecule converted\n"
     ]
    },
    {
     "name": "stdout",
     "output_type": "stream",
     "text": [
      "        smina         -r protein_minus_ligand.fixed.pdbqt -l lig.pdbqt         --num_modes 1 -o 203.sdf         --size_x 20 --size_y 20 --size_z 20         --exhaustiveness 4        --autobox_ligand _373.mol2\n",
      "O=C(Nc1ccccc1-c1ccc2ccccc2c1)C1=CCNCC1 -9.41997433\n"
     ]
    },
    {
     "name": "stderr",
     "output_type": "stream",
     "text": [
      "1 molecule converted\n"
     ]
    },
    {
     "name": "stdout",
     "output_type": "stream",
     "text": [
      "        smina         -r protein_minus_ligand.fixed.pdbqt -l lig.pdbqt         --num_modes 1 -o 204.sdf         --size_x 20 --size_y 20 --size_z 20         --exhaustiveness 4        --autobox_ligand _373.mol2\n",
      "O=C(Nc1ccccc1-c1cccc2ccccc12)C1=CCNCC1 -9.02011395\n"
     ]
    },
    {
     "name": "stderr",
     "output_type": "stream",
     "text": [
      "1 molecule converted\n"
     ]
    },
    {
     "name": "stdout",
     "output_type": "stream",
     "text": [
      "        smina         -r protein_minus_ligand.fixed.pdbqt -l lig.pdbqt         --num_modes 1 -o 205.sdf         --size_x 20 --size_y 20 --size_z 20         --exhaustiveness 4        --autobox_ligand _373.mol2\n",
      "O=C(Nc1ccccc1-c1cccc2ccccc12)C1=CCNCC1 -8.97309589\n"
     ]
    },
    {
     "name": "stderr",
     "output_type": "stream",
     "text": [
      "1 molecule converted\n"
     ]
    },
    {
     "name": "stdout",
     "output_type": "stream",
     "text": [
      "        smina         -r protein_minus_ligand.fixed.pdbqt -l lig.pdbqt         --num_modes 1 -o 206.sdf         --size_x 20 --size_y 20 --size_z 20         --exhaustiveness 4        --autobox_ligand _373.mol2\n",
      "O=C(Nc1ccccc1-c1cccc2ccccc12)C1=CCNCC1 -8.59197903\n"
     ]
    },
    {
     "name": "stderr",
     "output_type": "stream",
     "text": [
      "1 molecule converted\n"
     ]
    },
    {
     "name": "stdout",
     "output_type": "stream",
     "text": [
      "        smina         -r protein_minus_ligand.fixed.pdbqt -l lig.pdbqt         --num_modes 1 -o 207.sdf         --size_x 20 --size_y 20 --size_z 20         --exhaustiveness 4        --autobox_ligand _373.mol2\n",
      "O=C(Nc1ccccc1-c1cccc2ccccc12)C1=CCNCC1 -9.00390434\n"
     ]
    },
    {
     "name": "stderr",
     "output_type": "stream",
     "text": [
      "1 molecule converted\n"
     ]
    },
    {
     "name": "stdout",
     "output_type": "stream",
     "text": [
      "        smina         -r protein_minus_ligand.fixed.pdbqt -l lig.pdbqt         --num_modes 1 -o 208.sdf         --size_x 20 --size_y 20 --size_z 20         --exhaustiveness 4        --autobox_ligand _373.mol2\n",
      "O=C(Nc1ccccc1-c1cccc2ccccc12)C1=CCNCC1 -8.88180923\n"
     ]
    },
    {
     "name": "stderr",
     "output_type": "stream",
     "text": [
      "1 molecule converted\n"
     ]
    },
    {
     "name": "stdout",
     "output_type": "stream",
     "text": [
      "        smina         -r protein_minus_ligand.fixed.pdbqt -l lig.pdbqt         --num_modes 1 -o 209.sdf         --size_x 20 --size_y 20 --size_z 20         --exhaustiveness 4        --autobox_ligand _373.mol2\n",
      "O=C(Nc1ccccc1-c1cccc2ccccc12)C1=CCNCC1 -8.6609354\n"
     ]
    },
    {
     "name": "stderr",
     "output_type": "stream",
     "text": [
      "1 molecule converted\n"
     ]
    },
    {
     "name": "stdout",
     "output_type": "stream",
     "text": [
      "        smina         -r protein_minus_ligand.fixed.pdbqt -l lig.pdbqt         --num_modes 1 -o 210.sdf         --size_x 20 --size_y 20 --size_z 20         --exhaustiveness 4        --autobox_ligand _373.mol2\n",
      "O=C(Nc1ccccc1-c1ccc(-c2ccccc2)cc1)C1=CCNCC1 -8.91234779\n"
     ]
    },
    {
     "name": "stderr",
     "output_type": "stream",
     "text": [
      "1 molecule converted\n"
     ]
    },
    {
     "name": "stdout",
     "output_type": "stream",
     "text": [
      "        smina         -r protein_minus_ligand.fixed.pdbqt -l lig.pdbqt         --num_modes 1 -o 211.sdf         --size_x 20 --size_y 20 --size_z 20         --exhaustiveness 4        --autobox_ligand _373.mol2\n",
      "O=C(Nc1ccccc1-c1ccc(-c2ccccc2)cc1)C1=CCNCC1 -8.93386078\n"
     ]
    },
    {
     "name": "stderr",
     "output_type": "stream",
     "text": [
      "1 molecule converted\n"
     ]
    },
    {
     "name": "stdout",
     "output_type": "stream",
     "text": [
      "        smina         -r protein_minus_ligand.fixed.pdbqt -l lig.pdbqt         --num_modes 1 -o 212.sdf         --size_x 20 --size_y 20 --size_z 20         --exhaustiveness 4        --autobox_ligand _373.mol2\n",
      "O=C(Nc1ccccc1-c1ccc(-c2ccccc2)cc1)C1=CCNCC1 -8.95205212\n"
     ]
    },
    {
     "name": "stderr",
     "output_type": "stream",
     "text": [
      "1 molecule converted\n"
     ]
    },
    {
     "name": "stdout",
     "output_type": "stream",
     "text": [
      "        smina         -r protein_minus_ligand.fixed.pdbqt -l lig.pdbqt         --num_modes 1 -o 213.sdf         --size_x 20 --size_y 20 --size_z 20         --exhaustiveness 4        --autobox_ligand _373.mol2\n",
      "O=C(Nc1ccccc1-c1ccc(-c2ccccc2)cc1)C1=CCNCC1 -8.93571091\n"
     ]
    },
    {
     "name": "stderr",
     "output_type": "stream",
     "text": [
      "1 molecule converted\n"
     ]
    },
    {
     "name": "stdout",
     "output_type": "stream",
     "text": [
      "        smina         -r protein_minus_ligand.fixed.pdbqt -l lig.pdbqt         --num_modes 1 -o 214.sdf         --size_x 20 --size_y 20 --size_z 20         --exhaustiveness 4        --autobox_ligand _373.mol2\n",
      "O=C(Nc1ccccc1-c1ccc(-c2ccccc2)cc1)C1=CCNCC1 -8.92607212\n"
     ]
    },
    {
     "name": "stderr",
     "output_type": "stream",
     "text": [
      "1 molecule converted\n"
     ]
    },
    {
     "name": "stdout",
     "output_type": "stream",
     "text": [
      "        smina         -r protein_minus_ligand.fixed.pdbqt -l lig.pdbqt         --num_modes 1 -o 215.sdf         --size_x 20 --size_y 20 --size_z 20         --exhaustiveness 4        --autobox_ligand _373.mol2\n",
      "O=C(Nc1ccccc1-c1ccc(-c2ccccc2)cc1)C1=CCNCC1 -8.93708515\n"
     ]
    },
    {
     "name": "stderr",
     "output_type": "stream",
     "text": [
      "1 molecule converted\n"
     ]
    },
    {
     "name": "stdout",
     "output_type": "stream",
     "text": [
      "        smina         -r protein_minus_ligand.fixed.pdbqt -l lig.pdbqt         --num_modes 1 -o 216.sdf         --size_x 20 --size_y 20 --size_z 20         --exhaustiveness 4        --autobox_ligand _373.mol2\n",
      "O=C(Nc1ccccc1-c1cc2ccccc2s1)C1=CCNCC1 -8.26112652\n"
     ]
    },
    {
     "name": "stderr",
     "output_type": "stream",
     "text": [
      "1 molecule converted\n"
     ]
    },
    {
     "name": "stdout",
     "output_type": "stream",
     "text": [
      "        smina         -r protein_minus_ligand.fixed.pdbqt -l lig.pdbqt         --num_modes 1 -o 217.sdf         --size_x 20 --size_y 20 --size_z 20         --exhaustiveness 4        --autobox_ligand _373.mol2\n",
      "O=C(Nc1ccccc1-c1cc2ccccc2s1)C1=CCNCC1 -8.47913361\n"
     ]
    },
    {
     "name": "stderr",
     "output_type": "stream",
     "text": [
      "1 molecule converted\n"
     ]
    },
    {
     "name": "stdout",
     "output_type": "stream",
     "text": [
      "        smina         -r protein_minus_ligand.fixed.pdbqt -l lig.pdbqt         --num_modes 1 -o 218.sdf         --size_x 20 --size_y 20 --size_z 20         --exhaustiveness 4        --autobox_ligand _373.mol2\n",
      "O=C(Nc1ccccc1-c1cc2ccccc2s1)C1=CCNCC1 -7.86543083\n"
     ]
    },
    {
     "name": "stderr",
     "output_type": "stream",
     "text": [
      "1 molecule converted\n"
     ]
    },
    {
     "name": "stdout",
     "output_type": "stream",
     "text": [
      "        smina         -r protein_minus_ligand.fixed.pdbqt -l lig.pdbqt         --num_modes 1 -o 219.sdf         --size_x 20 --size_y 20 --size_z 20         --exhaustiveness 4        --autobox_ligand _373.mol2\n",
      "O=C(Nc1ccccc1-c1cc2ccccc2s1)C1=CCNCC1 -8.26898289\n"
     ]
    },
    {
     "name": "stderr",
     "output_type": "stream",
     "text": [
      "1 molecule converted\n"
     ]
    },
    {
     "name": "stdout",
     "output_type": "stream",
     "text": [
      "        smina         -r protein_minus_ligand.fixed.pdbqt -l lig.pdbqt         --num_modes 1 -o 220.sdf         --size_x 20 --size_y 20 --size_z 20         --exhaustiveness 4        --autobox_ligand _373.mol2\n",
      "O=C(Nc1ccccc1-c1cc2ccccc2s1)C1=CCNCC1 -8.50610352\n"
     ]
    },
    {
     "name": "stderr",
     "output_type": "stream",
     "text": [
      "1 molecule converted\n"
     ]
    },
    {
     "name": "stdout",
     "output_type": "stream",
     "text": [
      "        smina         -r protein_minus_ligand.fixed.pdbqt -l lig.pdbqt         --num_modes 1 -o 221.sdf         --size_x 20 --size_y 20 --size_z 20         --exhaustiveness 4        --autobox_ligand _373.mol2\n",
      "O=C(Nc1ccccc1-c1cc2ccccc2s1)C1=CCNCC1 -8.30555725\n"
     ]
    },
    {
     "name": "stderr",
     "output_type": "stream",
     "text": [
      "1 molecule converted\n"
     ]
    },
    {
     "name": "stdout",
     "output_type": "stream",
     "text": [
      "        smina         -r protein_minus_ligand.fixed.pdbqt -l lig.pdbqt         --num_modes 1 -o 222.sdf         --size_x 20 --size_y 20 --size_z 20         --exhaustiveness 4        --autobox_ligand _373.mol2\n",
      "O=C(Nc1ccccc1-c1csc2ccccc12)C1=CCNCC1 -8.26402855\n"
     ]
    },
    {
     "name": "stderr",
     "output_type": "stream",
     "text": [
      "1 molecule converted\n"
     ]
    },
    {
     "name": "stdout",
     "output_type": "stream",
     "text": [
      "        smina         -r protein_minus_ligand.fixed.pdbqt -l lig.pdbqt         --num_modes 1 -o 223.sdf         --size_x 20 --size_y 20 --size_z 20         --exhaustiveness 4        --autobox_ligand _373.mol2\n",
      "O=C(Nc1ccccc1-c1csc2ccccc12)C1=CCNCC1 -8.30677509\n"
     ]
    },
    {
     "name": "stderr",
     "output_type": "stream",
     "text": [
      "1 molecule converted\n"
     ]
    },
    {
     "name": "stdout",
     "output_type": "stream",
     "text": [
      "        smina         -r protein_minus_ligand.fixed.pdbqt -l lig.pdbqt         --num_modes 1 -o 224.sdf         --size_x 20 --size_y 20 --size_z 20         --exhaustiveness 4        --autobox_ligand _373.mol2\n",
      "O=C(Nc1ccccc1-c1csc2ccccc12)C1=CCNCC1 -8.41014767\n"
     ]
    },
    {
     "name": "stderr",
     "output_type": "stream",
     "text": [
      "1 molecule converted\n"
     ]
    },
    {
     "name": "stdout",
     "output_type": "stream",
     "text": [
      "        smina         -r protein_minus_ligand.fixed.pdbqt -l lig.pdbqt         --num_modes 1 -o 225.sdf         --size_x 20 --size_y 20 --size_z 20         --exhaustiveness 4        --autobox_ligand _373.mol2\n",
      "O=C(Nc1ccccc1-c1csc2ccccc12)C1=CCNCC1 -8.28200817\n"
     ]
    },
    {
     "name": "stderr",
     "output_type": "stream",
     "text": [
      "1 molecule converted\n"
     ]
    },
    {
     "name": "stdout",
     "output_type": "stream",
     "text": [
      "        smina         -r protein_minus_ligand.fixed.pdbqt -l lig.pdbqt         --num_modes 1 -o 226.sdf         --size_x 20 --size_y 20 --size_z 20         --exhaustiveness 4        --autobox_ligand _373.mol2\n",
      "O=C(Nc1ccccc1-c1csc2ccccc12)C1=CCNCC1 -7.68876696\n"
     ]
    },
    {
     "name": "stderr",
     "output_type": "stream",
     "text": [
      "1 molecule converted\n"
     ]
    },
    {
     "name": "stdout",
     "output_type": "stream",
     "text": [
      "        smina         -r protein_minus_ligand.fixed.pdbqt -l lig.pdbqt         --num_modes 1 -o 227.sdf         --size_x 20 --size_y 20 --size_z 20         --exhaustiveness 4        --autobox_ligand _373.mol2\n",
      "O=C(Nc1ccccc1-c1csc2ccccc12)C1=CCNCC1 -7.59727812\n"
     ]
    },
    {
     "name": "stderr",
     "output_type": "stream",
     "text": [
      "1 molecule converted\n"
     ]
    },
    {
     "name": "stdout",
     "output_type": "stream",
     "text": [
      "        smina         -r protein_minus_ligand.fixed.pdbqt -l lig.pdbqt         --num_modes 1 -o 228.sdf         --size_x 20 --size_y 20 --size_z 20         --exhaustiveness 4        --autobox_ligand _373.mol2\n",
      "O=C(Nc1ccccc1-c1ccc2ncccc2c1)C1=CCNCC1 -8.87689018\n"
     ]
    },
    {
     "name": "stderr",
     "output_type": "stream",
     "text": [
      "1 molecule converted\n"
     ]
    },
    {
     "name": "stdout",
     "output_type": "stream",
     "text": [
      "        smina         -r protein_minus_ligand.fixed.pdbqt -l lig.pdbqt         --num_modes 1 -o 229.sdf         --size_x 20 --size_y 20 --size_z 20         --exhaustiveness 4        --autobox_ligand _373.mol2\n",
      "O=C(Nc1ccccc1-c1ccc2ncccc2c1)C1=CCNCC1 -8.90664577\n"
     ]
    },
    {
     "name": "stderr",
     "output_type": "stream",
     "text": [
      "1 molecule converted\n"
     ]
    },
    {
     "name": "stdout",
     "output_type": "stream",
     "text": [
      "        smina         -r protein_minus_ligand.fixed.pdbqt -l lig.pdbqt         --num_modes 1 -o 230.sdf         --size_x 20 --size_y 20 --size_z 20         --exhaustiveness 4        --autobox_ligand _373.mol2\n",
      "O=C(Nc1ccccc1-c1ccc2ncccc2c1)C1=CCNCC1 -8.50006866\n"
     ]
    },
    {
     "name": "stderr",
     "output_type": "stream",
     "text": [
      "1 molecule converted\n"
     ]
    },
    {
     "name": "stdout",
     "output_type": "stream",
     "text": [
      "        smina         -r protein_minus_ligand.fixed.pdbqt -l lig.pdbqt         --num_modes 1 -o 231.sdf         --size_x 20 --size_y 20 --size_z 20         --exhaustiveness 4        --autobox_ligand _373.mol2\n",
      "O=C(Nc1ccccc1-c1ccc2ncccc2c1)C1=CCNCC1 -8.75409603\n"
     ]
    },
    {
     "name": "stderr",
     "output_type": "stream",
     "text": [
      "1 molecule converted\n"
     ]
    },
    {
     "name": "stdout",
     "output_type": "stream",
     "text": [
      "        smina         -r protein_minus_ligand.fixed.pdbqt -l lig.pdbqt         --num_modes 1 -o 232.sdf         --size_x 20 --size_y 20 --size_z 20         --exhaustiveness 4        --autobox_ligand _373.mol2\n",
      "O=C(Nc1ccccc1-c1ccc2ncccc2c1)C1=CCNCC1 -8.97919464\n"
     ]
    },
    {
     "name": "stderr",
     "output_type": "stream",
     "text": [
      "1 molecule converted\n"
     ]
    },
    {
     "name": "stdout",
     "output_type": "stream",
     "text": [
      "        smina         -r protein_minus_ligand.fixed.pdbqt -l lig.pdbqt         --num_modes 1 -o 233.sdf         --size_x 20 --size_y 20 --size_z 20         --exhaustiveness 4        --autobox_ligand _373.mol2\n",
      "O=C(Nc1ccccc1-c1ccc2ncccc2c1)C1=CCNCC1 -8.87371731\n"
     ]
    },
    {
     "name": "stderr",
     "output_type": "stream",
     "text": [
      "1 molecule converted\n"
     ]
    },
    {
     "name": "stdout",
     "output_type": "stream",
     "text": [
      "        smina         -r protein_minus_ligand.fixed.pdbqt -l lig.pdbqt         --num_modes 1 -o 234.sdf         --size_x 20 --size_y 20 --size_z 20         --exhaustiveness 4        --autobox_ligand _373.mol2\n",
      "O=C(Nc1ccccc1-c1cccc2cccnc12)C1=CCNCC1 -8.29334354\n"
     ]
    },
    {
     "name": "stderr",
     "output_type": "stream",
     "text": [
      "1 molecule converted\n"
     ]
    },
    {
     "name": "stdout",
     "output_type": "stream",
     "text": [
      "        smina         -r protein_minus_ligand.fixed.pdbqt -l lig.pdbqt         --num_modes 1 -o 235.sdf         --size_x 20 --size_y 20 --size_z 20         --exhaustiveness 4        --autobox_ligand _373.mol2\n",
      "O=C(Nc1ccccc1-c1cccc2cccnc12)C1=CCNCC1 -8.07656574\n"
     ]
    },
    {
     "name": "stderr",
     "output_type": "stream",
     "text": [
      "1 molecule converted\n"
     ]
    },
    {
     "name": "stdout",
     "output_type": "stream",
     "text": [
      "        smina         -r protein_minus_ligand.fixed.pdbqt -l lig.pdbqt         --num_modes 1 -o 236.sdf         --size_x 20 --size_y 20 --size_z 20         --exhaustiveness 4        --autobox_ligand _373.mol2\n",
      "O=C(Nc1ccccc1-c1cccc2cccnc12)C1=CCNCC1 -8.04643345\n"
     ]
    },
    {
     "name": "stderr",
     "output_type": "stream",
     "text": [
      "1 molecule converted\n"
     ]
    },
    {
     "name": "stdout",
     "output_type": "stream",
     "text": [
      "        smina         -r protein_minus_ligand.fixed.pdbqt -l lig.pdbqt         --num_modes 1 -o 237.sdf         --size_x 20 --size_y 20 --size_z 20         --exhaustiveness 4        --autobox_ligand _373.mol2\n",
      "O=C(Nc1ccccc1-c1cccc2cccnc12)C1=CCNCC1 -8.19934368\n"
     ]
    },
    {
     "name": "stderr",
     "output_type": "stream",
     "text": [
      "1 molecule converted\n"
     ]
    },
    {
     "name": "stdout",
     "output_type": "stream",
     "text": [
      "        smina         -r protein_minus_ligand.fixed.pdbqt -l lig.pdbqt         --num_modes 1 -o 238.sdf         --size_x 20 --size_y 20 --size_z 20         --exhaustiveness 4        --autobox_ligand _373.mol2\n",
      "O=C(Nc1ccccc1-c1cccc2cccnc12)C1=CCNCC1 -7.95282602\n"
     ]
    },
    {
     "name": "stderr",
     "output_type": "stream",
     "text": [
      "1 molecule converted\n"
     ]
    },
    {
     "name": "stdout",
     "output_type": "stream",
     "text": [
      "        smina         -r protein_minus_ligand.fixed.pdbqt -l lig.pdbqt         --num_modes 1 -o 239.sdf         --size_x 20 --size_y 20 --size_z 20         --exhaustiveness 4        --autobox_ligand _373.mol2\n",
      "O=C(Nc1ccccc1-c1cccc2cccnc12)C1=CCNCC1 -9.00314045\n"
     ]
    },
    {
     "name": "stderr",
     "output_type": "stream",
     "text": [
      "1 molecule converted\n"
     ]
    },
    {
     "name": "stdout",
     "output_type": "stream",
     "text": [
      "        smina         -r protein_minus_ligand.fixed.pdbqt -l lig.pdbqt         --num_modes 1 -o 240.sdf         --size_x 20 --size_y 20 --size_z 20         --exhaustiveness 4        --autobox_ligand _373.mol2\n",
      "O=C(Nc1ccccc1-c1cccc2ncccc12)C1=CCNCC1 -8.89531708\n"
     ]
    },
    {
     "name": "stderr",
     "output_type": "stream",
     "text": [
      "1 molecule converted\n"
     ]
    },
    {
     "name": "stdout",
     "output_type": "stream",
     "text": [
      "        smina         -r protein_minus_ligand.fixed.pdbqt -l lig.pdbqt         --num_modes 1 -o 241.sdf         --size_x 20 --size_y 20 --size_z 20         --exhaustiveness 4        --autobox_ligand _373.mol2\n",
      "O=C(Nc1ccccc1-c1cccc2ncccc12)C1=CCNCC1 -8.82707024\n"
     ]
    },
    {
     "name": "stderr",
     "output_type": "stream",
     "text": [
      "1 molecule converted\n"
     ]
    },
    {
     "name": "stdout",
     "output_type": "stream",
     "text": [
      "        smina         -r protein_minus_ligand.fixed.pdbqt -l lig.pdbqt         --num_modes 1 -o 242.sdf         --size_x 20 --size_y 20 --size_z 20         --exhaustiveness 4        --autobox_ligand _373.mol2\n",
      "O=C(Nc1ccccc1-c1cccc2ncccc12)C1=CCNCC1 -8.92221165\n"
     ]
    },
    {
     "name": "stderr",
     "output_type": "stream",
     "text": [
      "1 molecule converted\n"
     ]
    },
    {
     "name": "stdout",
     "output_type": "stream",
     "text": [
      "        smina         -r protein_minus_ligand.fixed.pdbqt -l lig.pdbqt         --num_modes 1 -o 243.sdf         --size_x 20 --size_y 20 --size_z 20         --exhaustiveness 4        --autobox_ligand _373.mol2\n",
      "O=C(Nc1ccccc1-c1cccc2ncccc12)C1=CCNCC1 -8.93836021\n"
     ]
    },
    {
     "name": "stderr",
     "output_type": "stream",
     "text": [
      "1 molecule converted\n"
     ]
    },
    {
     "name": "stdout",
     "output_type": "stream",
     "text": [
      "        smina         -r protein_minus_ligand.fixed.pdbqt -l lig.pdbqt         --num_modes 1 -o 244.sdf         --size_x 20 --size_y 20 --size_z 20         --exhaustiveness 4        --autobox_ligand _373.mol2\n",
      "O=C(Nc1ccccc1-c1cccc2ncccc12)C1=CCNCC1 -8.93299389\n"
     ]
    },
    {
     "name": "stderr",
     "output_type": "stream",
     "text": [
      "1 molecule converted\n"
     ]
    },
    {
     "name": "stdout",
     "output_type": "stream",
     "text": [
      "        smina         -r protein_minus_ligand.fixed.pdbqt -l lig.pdbqt         --num_modes 1 -o 245.sdf         --size_x 20 --size_y 20 --size_z 20         --exhaustiveness 4        --autobox_ligand _373.mol2\n",
      "O=C(Nc1ccccc1-c1cccc2ncccc12)C1=CCNCC1 -8.95067978\n"
     ]
    },
    {
     "name": "stderr",
     "output_type": "stream",
     "text": [
      "1 molecule converted\n"
     ]
    },
    {
     "name": "stdout",
     "output_type": "stream",
     "text": [
      "        smina         -r protein_minus_ligand.fixed.pdbqt -l lig.pdbqt         --num_modes 1 -o 246.sdf         --size_x 20 --size_y 20 --size_z 20         --exhaustiveness 4        --autobox_ligand _373.mol2\n",
      "O=C(Nc1ccccc1-c1cccc(-c2ccccc2)c1)C1=CCNCC1 -9.43460083\n"
     ]
    },
    {
     "name": "stderr",
     "output_type": "stream",
     "text": [
      "1 molecule converted\n"
     ]
    },
    {
     "name": "stdout",
     "output_type": "stream",
     "text": [
      "        smina         -r protein_minus_ligand.fixed.pdbqt -l lig.pdbqt         --num_modes 1 -o 247.sdf         --size_x 20 --size_y 20 --size_z 20         --exhaustiveness 4        --autobox_ligand _373.mol2\n",
      "O=C(Nc1ccccc1-c1cccc(-c2ccccc2)c1)C1=CCNCC1 -9.3697052\n"
     ]
    },
    {
     "name": "stderr",
     "output_type": "stream",
     "text": [
      "1 molecule converted\n"
     ]
    },
    {
     "name": "stdout",
     "output_type": "stream",
     "text": [
      "        smina         -r protein_minus_ligand.fixed.pdbqt -l lig.pdbqt         --num_modes 1 -o 248.sdf         --size_x 20 --size_y 20 --size_z 20         --exhaustiveness 4        --autobox_ligand _373.mol2\n",
      "O=C(Nc1ccccc1-c1cccc(-c2ccccc2)c1)C1=CCNCC1 -9.38858414\n"
     ]
    },
    {
     "name": "stderr",
     "output_type": "stream",
     "text": [
      "1 molecule converted\n"
     ]
    },
    {
     "name": "stdout",
     "output_type": "stream",
     "text": [
      "        smina         -r protein_minus_ligand.fixed.pdbqt -l lig.pdbqt         --num_modes 1 -o 249.sdf         --size_x 20 --size_y 20 --size_z 20         --exhaustiveness 4        --autobox_ligand _373.mol2\n",
      "O=C(Nc1ccccc1-c1cccc(-c2ccccc2)c1)C1=CCNCC1 -9.45216465\n"
     ]
    },
    {
     "name": "stderr",
     "output_type": "stream",
     "text": [
      "1 molecule converted\n"
     ]
    },
    {
     "name": "stdout",
     "output_type": "stream",
     "text": [
      "        smina         -r protein_minus_ligand.fixed.pdbqt -l lig.pdbqt         --num_modes 1 -o 250.sdf         --size_x 20 --size_y 20 --size_z 20         --exhaustiveness 4        --autobox_ligand _373.mol2\n",
      "O=C(Nc1ccccc1-c1cccc(-c2ccccc2)c1)C1=CCNCC1 -9.45472527\n"
     ]
    },
    {
     "name": "stderr",
     "output_type": "stream",
     "text": [
      "1 molecule converted\n"
     ]
    },
    {
     "name": "stdout",
     "output_type": "stream",
     "text": [
      "        smina         -r protein_minus_ligand.fixed.pdbqt -l lig.pdbqt         --num_modes 1 -o 251.sdf         --size_x 20 --size_y 20 --size_z 20         --exhaustiveness 4        --autobox_ligand _373.mol2\n",
      "O=C(Nc1ccccc1-c1cccc(-c2ccccc2)c1)C1=CCNCC1 -9.44817352\n"
     ]
    },
    {
     "name": "stderr",
     "output_type": "stream",
     "text": [
      "1 molecule converted\n"
     ]
    },
    {
     "name": "stdout",
     "output_type": "stream",
     "text": [
      "        smina         -r protein_minus_ligand.fixed.pdbqt -l lig.pdbqt         --num_modes 1 -o 252.sdf         --size_x 20 --size_y 20 --size_z 20         --exhaustiveness 4        --autobox_ligand _373.mol2\n",
      "O=C(Nc1ccccc1-c1cc2ccccc2o1)C1=CCNCC1 -9.1205225\n"
     ]
    },
    {
     "name": "stderr",
     "output_type": "stream",
     "text": [
      "1 molecule converted\n"
     ]
    },
    {
     "name": "stdout",
     "output_type": "stream",
     "text": [
      "        smina         -r protein_minus_ligand.fixed.pdbqt -l lig.pdbqt         --num_modes 1 -o 253.sdf         --size_x 20 --size_y 20 --size_z 20         --exhaustiveness 4        --autobox_ligand _373.mol2\n",
      "O=C(Nc1ccccc1-c1cc2ccccc2o1)C1=CCNCC1 -9.08312798\n"
     ]
    },
    {
     "name": "stderr",
     "output_type": "stream",
     "text": [
      "1 molecule converted\n"
     ]
    },
    {
     "name": "stdout",
     "output_type": "stream",
     "text": [
      "        smina         -r protein_minus_ligand.fixed.pdbqt -l lig.pdbqt         --num_modes 1 -o 254.sdf         --size_x 20 --size_y 20 --size_z 20         --exhaustiveness 4        --autobox_ligand _373.mol2\n",
      "O=C(Nc1ccccc1-c1cc2ccccc2o1)C1=CCNCC1 -9.0568676\n"
     ]
    },
    {
     "name": "stderr",
     "output_type": "stream",
     "text": [
      "1 molecule converted\n"
     ]
    },
    {
     "name": "stdout",
     "output_type": "stream",
     "text": [
      "        smina         -r protein_minus_ligand.fixed.pdbqt -l lig.pdbqt         --num_modes 1 -o 255.sdf         --size_x 20 --size_y 20 --size_z 20         --exhaustiveness 4        --autobox_ligand _373.mol2\n",
      "O=C(Nc1ccccc1-c1cc2ccccc2o1)C1=CCNCC1 -9.12119484\n"
     ]
    },
    {
     "name": "stderr",
     "output_type": "stream",
     "text": [
      "1 molecule converted\n"
     ]
    },
    {
     "name": "stdout",
     "output_type": "stream",
     "text": [
      "        smina         -r protein_minus_ligand.fixed.pdbqt -l lig.pdbqt         --num_modes 1 -o 256.sdf         --size_x 20 --size_y 20 --size_z 20         --exhaustiveness 4        --autobox_ligand _373.mol2\n",
      "O=C(Nc1ccccc1-c1cc2ccccc2o1)C1=CCNCC1 -9.11239624\n"
     ]
    },
    {
     "name": "stderr",
     "output_type": "stream",
     "text": [
      "1 molecule converted\n"
     ]
    },
    {
     "name": "stdout",
     "output_type": "stream",
     "text": [
      "        smina         -r protein_minus_ligand.fixed.pdbqt -l lig.pdbqt         --num_modes 1 -o 257.sdf         --size_x 20 --size_y 20 --size_z 20         --exhaustiveness 4        --autobox_ligand _373.mol2\n",
      "O=C(Nc1ccccc1-c1cc2ccccc2o1)C1=CCNCC1 -9.12484264\n"
     ]
    },
    {
     "name": "stderr",
     "output_type": "stream",
     "text": [
      "1 molecule converted\n"
     ]
    },
    {
     "name": "stdout",
     "output_type": "stream",
     "text": [
      "        smina         -r protein_minus_ligand.fixed.pdbqt -l lig.pdbqt         --num_modes 1 -o 258.sdf         --size_x 20 --size_y 20 --size_z 20         --exhaustiveness 4        --autobox_ligand _373.mol2\n",
      "O=C(Nc1ccccc1-c1cc2ccccc2[nH]1)C1=CCNCC1 -8.71554661\n"
     ]
    },
    {
     "name": "stderr",
     "output_type": "stream",
     "text": [
      "1 molecule converted\n"
     ]
    },
    {
     "name": "stdout",
     "output_type": "stream",
     "text": [
      "        smina         -r protein_minus_ligand.fixed.pdbqt -l lig.pdbqt         --num_modes 1 -o 259.sdf         --size_x 20 --size_y 20 --size_z 20         --exhaustiveness 4        --autobox_ligand _373.mol2\n",
      "O=C(Nc1ccccc1-c1cc2ccccc2[nH]1)C1=CCNCC1 -8.72149181\n"
     ]
    },
    {
     "name": "stderr",
     "output_type": "stream",
     "text": [
      "1 molecule converted\n"
     ]
    },
    {
     "name": "stdout",
     "output_type": "stream",
     "text": [
      "        smina         -r protein_minus_ligand.fixed.pdbqt -l lig.pdbqt         --num_modes 1 -o 260.sdf         --size_x 20 --size_y 20 --size_z 20         --exhaustiveness 4        --autobox_ligand _373.mol2\n",
      "O=C(Nc1ccccc1-c1cc2ccccc2[nH]1)C1=CCNCC1 -8.69160175\n"
     ]
    },
    {
     "name": "stderr",
     "output_type": "stream",
     "text": [
      "1 molecule converted\n"
     ]
    },
    {
     "name": "stdout",
     "output_type": "stream",
     "text": [
      "        smina         -r protein_minus_ligand.fixed.pdbqt -l lig.pdbqt         --num_modes 1 -o 261.sdf         --size_x 20 --size_y 20 --size_z 20         --exhaustiveness 4        --autobox_ligand _373.mol2\n",
      "O=C(Nc1ccccc1-c1cc2ccccc2[nH]1)C1=CCNCC1 -8.71203136\n"
     ]
    },
    {
     "name": "stderr",
     "output_type": "stream",
     "text": [
      "1 molecule converted\n"
     ]
    },
    {
     "name": "stdout",
     "output_type": "stream",
     "text": [
      "        smina         -r protein_minus_ligand.fixed.pdbqt -l lig.pdbqt         --num_modes 1 -o 262.sdf         --size_x 20 --size_y 20 --size_z 20         --exhaustiveness 4        --autobox_ligand _373.mol2\n",
      "O=C(Nc1ccccc1-c1cc2ccccc2[nH]1)C1=CCNCC1 -8.69830322\n"
     ]
    },
    {
     "name": "stderr",
     "output_type": "stream",
     "text": [
      "1 molecule converted\n"
     ]
    },
    {
     "name": "stdout",
     "output_type": "stream",
     "text": [
      "        smina         -r protein_minus_ligand.fixed.pdbqt -l lig.pdbqt         --num_modes 1 -o 263.sdf         --size_x 20 --size_y 20 --size_z 20         --exhaustiveness 4        --autobox_ligand _373.mol2\n",
      "O=C(Nc1ccccc1-c1cc2ccccc2[nH]1)C1=CCNCC1 -8.69947243\n"
     ]
    }
   ],
   "source": [
    "outputs = []\n",
    "ligand_sdf_files = []\n",
    "prot = Dock.protein('protein_minus_ligand.fixed.pdb', fix_pdb=True)\n",
    "for i, mol in enumerate(mol_list):\n",
    "    smiles = Chem.MolToSmiles(mol).replace('*','')\n",
    "    sdf_file = f'{i}.sdf'\n",
    "    output = prot.dock(smiles, \n",
    "                       output_sdf_file=sdf_file,\n",
    "                       autobox_ligand='_373.mol2', \n",
    "                       exhaustiveness=4, num_modes=1)\n",
    "    output['lig_id'] = i\n",
    "    output['sdf_file'] = sdf_file\n",
    "    outputs.append(output)\n",
    "    ligand_sdf_files.append(sdf_file)\n",
    "    print(smiles, output.iloc[0].affinity)\n",
    "    \n",
    "outputs = pd.concat(outputs)"
   ]
  },
  {
   "cell_type": "code",
   "execution_count": 73,
   "id": "fbde8953",
   "metadata": {},
   "outputs": [
    {
     "data": {
      "text/html": [
       "<div>\n",
       "<style scoped>\n",
       "    .dataframe tbody tr th:only-of-type {\n",
       "        vertical-align: middle;\n",
       "    }\n",
       "\n",
       "    .dataframe tbody tr th {\n",
       "        vertical-align: top;\n",
       "    }\n",
       "\n",
       "    .dataframe thead th {\n",
       "        text-align: right;\n",
       "    }\n",
       "</style>\n",
       "<table border=\"1\" class=\"dataframe\">\n",
       "  <thead>\n",
       "    <tr style=\"text-align: right;\">\n",
       "      <th></th>\n",
       "      <th>smiles</th>\n",
       "      <th>affinity</th>\n",
       "      <th>mol</th>\n",
       "      <th>lig_id</th>\n",
       "      <th>sdf_file</th>\n",
       "    </tr>\n",
       "  </thead>\n",
       "  <tbody>\n",
       "    <tr>\n",
       "      <th>0</th>\n",
       "      <td>O=C(Nc1[c][c][c][c]c1-c1[c][c][c]c(-c2[c][c][c...</td>\n",
       "      <td>-9.454725</td>\n",
       "      <td><img data-content=\"rdkit/molecule\" src=\"data:image/png;base64,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\" alt=\"Mol\"/></td>\n",
       "      <td>250</td>\n",
       "      <td>250.sdf</td>\n",
       "    </tr>\n",
       "    <tr>\n",
       "      <th>0</th>\n",
       "      <td>O=C(Nc1[c][c][c][c]c1-c1[c][c][c]c(-c2[c][c][c...</td>\n",
       "      <td>-9.452165</td>\n",
       "      <td><img data-content=\"rdkit/molecule\" src=\"data:image/png;base64,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\" alt=\"Mol\"/></td>\n",
       "      <td>249</td>\n",
       "      <td>249.sdf</td>\n",
       "    </tr>\n",
       "    <tr>\n",
       "      <th>0</th>\n",
       "      <td>O=C(Nc1[c][c][c][c]c1-c1[c][c][c]c(-c2[c][c][c...</td>\n",
       "      <td>-9.448174</td>\n",
       "      <td><img data-content=\"rdkit/molecule\" src=\"data:image/png;base64,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\" alt=\"Mol\"/></td>\n",
       "      <td>251</td>\n",
       "      <td>251.sdf</td>\n",
       "    </tr>\n",
       "    <tr>\n",
       "      <th>0</th>\n",
       "      <td>O=C(Nc1[c][c][c][c]c1-c1[c][c][c]c(-c2[c][c][c...</td>\n",
       "      <td>-9.434601</td>\n",
       "      <td><img data-content=\"rdkit/molecule\" src=\"data:image/png;base64,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\" alt=\"Mol\"/></td>\n",
       "      <td>246</td>\n",
       "      <td>246.sdf</td>\n",
       "    </tr>\n",
       "    <tr>\n",
       "      <th>0</th>\n",
       "      <td>O=C(Nc1[c][c][c][c]c1-c1[c][c]c2[c][c][c][c]c2...</td>\n",
       "      <td>-9.419974</td>\n",
       "      <td><img data-content=\"rdkit/molecule\" src=\"data:image/png;base64,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\" alt=\"Mol\"/></td>\n",
       "      <td>203</td>\n",
       "      <td>203.sdf</td>\n",
       "    </tr>\n",
       "    <tr>\n",
       "      <th>...</th>\n",
       "      <td>...</td>\n",
       "      <td>...</td>\n",
       "      <td>...</td>\n",
       "      <td>...</td>\n",
       "      <td>...</td>\n",
       "    </tr>\n",
       "    <tr>\n",
       "      <th>0</th>\n",
       "      <td>[C]N1[C][C][C](C(=O)Nc2[c][c][c][c]c2-c2[c]c3[...</td>\n",
       "      <td>-7.655198</td>\n",
       "      <td><img data-content=\"rdkit/molecule\" src=\"data:image/png;base64,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\" alt=\"Mol\"/></td>\n",
       "      <td>19</td>\n",
       "      <td>19.sdf</td>\n",
       "    </tr>\n",
       "    <tr>\n",
       "      <th>0</th>\n",
       "      <td>[C]N1[C][C][C](C(=O)Nc2[c][c][c][c]c2-c2[c]c3[...</td>\n",
       "      <td>-7.638326</td>\n",
       "      <td><img data-content=\"rdkit/molecule\" src=\"data:image/png;base64,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\" alt=\"Mol\"/></td>\n",
       "      <td>21</td>\n",
       "      <td>21.sdf</td>\n",
       "    </tr>\n",
       "    <tr>\n",
       "      <th>0</th>\n",
       "      <td>O=C(Nc1[c][c][c][c]c1-c1[c]c2[c][c][c][c]c2s1)...</td>\n",
       "      <td>-7.637133</td>\n",
       "      <td><img data-content=\"rdkit/molecule\" src=\"data:image/png;base64,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\" alt=\"Mol\"/></td>\n",
       "      <td>89</td>\n",
       "      <td>89.sdf</td>\n",
       "    </tr>\n",
       "    <tr>\n",
       "      <th>0</th>\n",
       "      <td>[C]N1[C][C][C](C(=O)Nc2[c][c][c][c]c2-c2[c]c3[...</td>\n",
       "      <td>-7.634690</td>\n",
       "      <td><img data-content=\"rdkit/molecule\" src=\"data:image/png;base64,iVBORw0KGgoAAAANSUhEUgAAAMgAAADICAIAAAAiOjnJAAAABmJLR0QA/wD/AP+gvaeTAAAgAElEQVR4nO2deVyU1RrHn3dmWEVWFRGVLWAYtEWQmyJFV3ALU/FOEgZmGt662WY1milRepvSMs2u4k0DcclBWrRuKlIqLplsKrtsyiIGKDDAMOu5fxx9m0aFWd53tt7vx48f3peX5zzAj3POe87zPIdACAEDA9WwTO0Ag3XCCIuBFhhhMdACIywGWmCExUALjLAYaIERFgMtMMJioAVGWAy0wAiLgRYYYTHQAiMsBlpghMVAC4ywGGiBERYDLTDCYqAFRlgMtMAIi4EWGGEx0AIjLAZaYITFQAuMsBhogREWAy0wwmKgBUZYVo5SqWxpaTF+u4ywrJzGxsZdu3YZv12CSbG3bpqamq5fv+7i4hIUFGTMdpkey5rZsWPHAw88kJycHBwcHB4evnnz5ps3bxqpbcRgjUil0pSUFAAgCCIsLMzZ2Rn/uh0dHZOSkvLy8pRKJa0OMMKyQtrb25944gkAsLe3z8zMRAhJJBKRSBQXF8dms7HCRo8eLRAIampqaPKBEZa1cfHiRV9fXwDw9vb+7bffND7b2NgoFAoDAgLIISssLCw9PV0sFlPrBiMsqyI7O3vIkCEAMGnSpOvXr9/vMaVSmZ+fn5KS4uTkhOXl4ODA5/Nzc3NVKhUlnjDCshJUKpVQKGSxWACwcOHCvr4+jQfWrFlz8uRJDd10dXVlZmbGxMQQBIEVFhQUlJqaWl9fb6A/jLCsAbFYHB8fDwBsNlsoFN79wKVLl7BuxowZIxAIamtrNR6oqqpKTU3FYygAsFismJiYzMzM3t5e/VxihGXxXLt2bcKECQDg7u5+7Nixez7T3Nz87rvvjh07ltRNbGzs3r17NTo2pVKZm5ublJTk6OiIn3RxcUlJScnPz9fVK0ZYls2pU6dGjBiBh7CKioqBHyanVngeBgDOzs5JSUl3T606OzvT09MjIyPxYx4eHnV1dQihrKwsLfswRlgWTHp6uo2NDQDMnDmzs7NT+y/s7OzUmFoFBwenpqY2NDRoPHn58uUlS5aw2WxfX1+E0KFDh/r7+7VpghGWRSKXy5cvX4418corr+i92llZWZmamurj46MxtVIfIuVyuZ2dHUEQOi1JMMKyPNra2jTWPw1ELpcfPnx4/vz5tra25Luh+uA4btw4ACgoKNDeJiMsC2Pg9U8DuXXrFp5aLV++XP3+008/DQC7d+/W3tR9haVUKmfMmKG/jww0IBKJtFn/NBypVKp+mZqaCgCrVq3S3sJ9oxtYLNZPP/1EblTLZLL7PclgHNasWbNgwYLe3t7nn3/+l19+GTlyJH1tkWMiJiQkBADKy8u1t3BfYSkUiuHDhwNAf3//okWLEhMTERO5ZQoEAkFLS8utW7fKy8sJghAKhTt37rSzszOmDzweD3QU1kBzLIlEghCqrKzEQRfr16/Xp1dlMIwbN26oVKojR44AQFhYmEl8kEqlHA6HzWZjSWjDQHOsOXPm4I+PHDnCZrNZLNb3339PgZsMunPt2jUAGDFihKkcCA4OBoCLFy9q+by2b4UffvghAAwdOvTy5cv6+sagPyqVCo8bbW1t+HLjxo3Lli2jKhhhUObOnQsA+/fv1/J5bUOTV65cmZiYKBaLZ8+e3d7erssAzUABBEFwuVwAqKiowJcbNmxIT0/HPZkRwNMs3Lo26BDzvnPnzoiIiIaGhoSEBIVCoY93DAagMYPWZ0JtALq+GOogLHt7+++++87b2zsvL+/NN9/UxzsGA8C/WrLP0LULMRAaeywA8PLyys7OtrOzO316SGamUmfvGAxAo4vS0BndcLlcFotVXV0tl8u1eV7n9K9JkyZlZPxWUrJ+2TL22bO6O8igLxqDkZGHQkdHR19fX7lcXlNTo83z+uQVJiQ8uHw5SKUQHw+NjXoYYNAHPz8/R0fH5ubmrq4uMLqwQMdplp4Jqxs3wsyZcOMGPPUU9PXpZ4NBN1gsFl5MwsOfp6enh4dHZ2en0Uoz6CRlPYXFZsPevRAYCCUlkJwMzGaPcbjnNMvIL4Zazur0T7F3c4NDh8DFBXJyQCjU2wyDDljQi6FBtRu4XDhwANhsePddOHzYEEv3RalUNjU10WLaAjHti2FISAhBEJWVlUrl4AsChhYFmT4dPvgAVCr45z+hv98gUwqFoqqq6ptvvlm/fn1iYuLp06cbGxubmpoyMzMNdNJqMO2LobOzs7e3d39/f319/eBPG76LpFKhFSvQxYtIJEJdXbdvnjyJBo7ul0pVly5dOnDgQGpqKp/PHzdunEYMkJeX17hx49rb2wdNPvnroBF+3tjYCADDhg2jqbmbN2+Wlpaq35k2bRoAaBOLQGVoMouFXn759sexsejSpT8+JZWi0lIkEqHUVMTno7Aw5OQk01ASQRB+fn6zZs168803v/jiC1zPadq0aZs2baLQSUtHI/zcxcUFAH7//XfKG6qqquJyuV5eXk1NTeTN1157DQDumROrAYeqfhIARo2CixfhwgWYOBEAoKEBsrKgvBwqKqChAVSqPz3MZttERcW6uHBCQkJ4PB6Px+NyuWS+GwDMnDkzIiLi2LFjf/vb3yh00tLh8XilpaXl5eVhYWEAwOVyz58/X15e/vjjj1PYyg8//LBw4cLu7u4JEyagO+/8MpmspKTEz88PZzIuW7Zs27ZtOKn/HlCo8TFj0IULaOJEpFCg2FiUkYEAbv/jcJC/P4qLQwIBysxEBQVIm7TH3NxcDodDEMTXX39NoZ8WjUb4+eLFiwFg27ZtFDbx2WefYbk8/fTTZHpqa2srzl8dOnTojRs3EEJ3JyGqQ7GwEEL//Cf6/HMUG4vOnEHr1qGDB1FFBZLJ9LS5adMmAHBwcLhw4QKFrlouX3/9NQCQMZgbNmwAgFdeeYUS4xKJJDk5GQAIgkhNTSWDvUpKSnDuobe3t5a/COqF1dGBuFwUHv6nOZYhvPDCCwAwduxY/IfyFweX9wgMDMSXra2tV65cUSgUhltuamqaOHEiADg5OX377bfk/QMHDuBSDpMnT9Y+NYh6YSGEdu1CAJQJSyaTPfbYYwAQGRmpkZb0F0SP8HNtOHv2LE77CQgIIN8EcWkknIa/dOlSnX74VApr9Wp0xyG0bh2iMO+ttbV1zJgxALB48WLKjFosuoafD8qePXscHBwA4LHHHiNfMMViMQ5H5nA42rwGakCZsK5cQRwO4vOpsqdJUVER7pC/+OILutqwEObMmQMAaWlphptSKBQCgQC/xqWkpMjuzIVrampCQ0MBwN3d/fjx43pYpkxYq1cjAERrh5KdnU0QBIfD+fnnn2lsxryRSCSBgYG40tX9SsRoSUdHR2xsLADY2dnt3LmTvH/y5EmcUhocHFxZWamfcWqEpVSisWMRADp1ihJ792XlypX4z4i+cr9mzqJFiwDAw8ODzIRms9mzZs0SiURaFhjC4PVPABg2bNiJEyfI+2RppFmzZulUGkkDaoR19CgCQH5+iO5kJKVSOXv2bAAICQnpIveP/jJs3rwZL74UFhbeXX3P1dVV++p7//rXvwAgLCyssbER35FKpUuWLMFrDQKBwMBC8NQI65lnEABat44SY4PQ3d2Nh/+5c+fSXQXfrDh9+rStre3dy8VkiRhy0TskJEQoFLa2tg5grb+/Py0tjayD1dbWhtfu7e3ts7KyDPeWAmF1diJHR8RioatXDTemFXV1dcOGDQOA1NRUIzVpaq5evYo3UlauXHm/Z8rKygQCgaenJzlExsTEiEQi2WDL08XFxXj9c/To0VQtRFMgrG3bEACaNs1wSzrwl9rtkUgkeOkyNjZ20LVQhUKRm5vL5/PxVAkA3NzcUlJSioqK7vk8uf4ZGRk5cCenExQIKyICAaB9+wy3pBuffvopnnDoVGnOEsEbgr6+vji/Xks6OjrS09MfeeQRcojk8XhCoZA0olKpUlNT8frnCy+8QO3is6HCKitDAMjFRatNZcpZunQpAPj4+Fjxbk9R0Zd2dhwnJ6dL+m5llJaWCgQCPHnAiwtxcXG7d+/G62H6rX8OiqHCWrXq/cmTt77zTgsl3uiKTCaLiopS3+3ZsGGDSTyhie7unwsLOefPP/LttwcNNCWRSL7++usZM2aQ5zThZYu8vDxKXNXAIGHJ5XIvLy8AOH/+PFUO6UpLS4unp6e3tzc+pePo0aOm8oRypNKrJSXDCwqgqekdCs02NTWtW7cOLyuY6elfhw4dwuuzVHmjH/g9Gb8k61Qn05xRKiXl5eEFBVBdHatSURC8oE5nZycAODs7U2tWHYOSKTIyMgAAT3RMxY0bN86ePWtrazt9+nQAmDdvngmdoZBr117s6yuws/Pz89tPEOzBv0AXxGIxAJBHf9GB/sLq6Oj48ccfORzOwoULKXRIV3bv3i2Xy+Pi4vD2Fn4tt3Ru3Pi0oyODxXIKCDjE4XhQbr+npwcAhg4dSrllEv2FtWfPHqlUOmPGDDzNMhVZWVkAgF/IrQOx+OfmZgEA4eu7y8FhHB1NYGGZaY+Fx0HT/kbPnz9/+fJlT09PPA5aATLZ1bq6BIQUXl6r3dz4NLVivsIqLi4uKSnx8PB48sknqXVIJ7C4k5OTyVVmCwUhpUzWqFL1KBRtBMFxcXly1Kg0+pozO2FdunRJKBTCnd/os88+a+SC4+r09/cfOHAAAJKSkkzlAyX095eXlz/Y1PR6VVW0SiULCSnw89tjeJL6ABhBWLrlFYaGhuLdytDQUFdX18DAQHq80opvv/321q1bERER48ePN6EbhtPW9t/hw18cMeJlo7Vojj0W3qHr6+vr7Oxcu3ZtbW0tPY4NzldffQWmnuRRgp2dT0dHZk+P8eojGmG5QbcFUpVKhcMUVSoVn88HAC6Xa0icod40Njay2Wx7e/ubN28av3WqUbW3766qeqKs7CGp1BixR++//z4AvPvuu/Q1oVuPRRAEnlQRBLFr167x48dXVlYmJCRoU9eGWjIyMpRK5bx589zc3IzcNA0QHh5JQUE/u7rO+f33zUZor7e3FwDUCxpQjv4zRCcnp0OHDg0fPvzIkSNr166l0Cdt2LNnD1jFOAgAEsklpfIWQkq5vJXDGWGEFs1ujqWBr69vTk6Ora3thx9+uH//fqp8GpT8/Pyqqipvb++///3vRmuUPiSSsrq6BdXV0SyW/YgRrwCoAOitvWnuwgKAqKiojRs3IoSWLFly4cIFSnwaFDxtf+6559QjQCwXd/dnAgOPBQfnjxmzWS5vqa6e2taWTmuLFiAsAFi+fHlKSopEIpk7d64RKvj29vYePHgQLH/56p5IJGVi8Ymmpjel0jr6WrEMYQHA1q1bH3/88ZaWFj6fL5VKKbF5P7Kzs8VicVRUFM40tzJcXZ9yc+OrVL1Xr6bQNyCadXSDOjY2NgcPHvTz8zt79uyyZcsosXk/rGb56n6MHfsfDmeEWJzX0ZFBUxNGiG6gsihIcXExfoPdsmULhWbVqaurIwhiyJAh3d3dNDVhDnR07CkogOJiF6m0kQ77/v7+AEBrNjmVG1IPP/zw7t27CYJ4/fXX8VGzlPPVV18hhPh8Pr1/babG3X2hq+tcpbLr2rUXDTQlk8lOnDixfv169ZtGmGNR2WNhVq9eDQDu7u5Xrlyh1rJSqcQ7leq1BqwVmayluNitoAA6OvRJrKutrU1PT+fz+bj6LQCoF5/GiYQ9PT3U+asJ9cJSqVT/+Mc/gIbdntzcXADw8/Mz2nm1pqWtbWdBAZSUDJNItCqK3N7efuDAgSVLluBaYhiCIB588MEVK1bgZBOEkFKpJAiCxWLR+mOkXlgIIbFYjKtGz5kzx/DyCr29vYWFhVlZWdjm+++/T4mTloCqsHD+/PmTFyxYcL8nFApFQUGBUCiMiYnhcP6IVRk+fDifz8dn+2p8CT48bOjQobS6TouwEEL19fU4Q1LXnc6urq6CggKRSIQPFuDxeOoFn4cOHTpA8QLro6GhAc8mc3Jy1O+3trZu2bIlLi5OfZ5kb28fExPz8ccfFxcX37M3+v333/ft27dgwQIA8PLyQgjl5ubeunWLDs/pEhZC6Pjx47i8wgBHn3d0dOTn56enp7/22mvTpk1T78NJbG1tQ0ND+Xx+YmIim81msViHDx+mz21zY+vWrQAwcuTIjo4O8uZZtTNI/f39U1JSRCLRPd+U5XI57tIiIyPJP1F7e3tcpiEnJ4eOwwcQrcJCCP373/8GtWLaN2/exDISCARxcXH+/v64cIA6NjY2PB6Pz+cLBILMzMyCggKyiuuRI0dmzZqF+y2NozisGJVKNXXqVABYtGgReVMuly9evDgjI6O5ufmeX0VO3p2dncmfrYODQ0xMjFAoLCgooHueSqOw5HJ5cnIyruXl6urq7u5+d2/k5OQUHh6enJwsFAq///77mpqagaupyOXyhIQEPIVvb2+nz3mzoq6uDi8QDnyITXt7u0gkSklJwe/Od3dp+AQe40Bvj3XlyhWpVJqYmDhz5kwAcHFxCQsLS0pKEgqFIpGotLRUj6l9X18fWdNHLpfT4bYZsnHjRgAYNWqUxpToniOd+uSdLNhnZOjtsV6+c2hTfX39/TptPWhubh41ahQAvPHGG1TZNHOUSiWu2bds2TJ0r2UqcvJunJFuUOjtsejjzJkzOJb1v//9r6l9MRJlZWX4TDmyZh9m/PjxK1asOHr0KFn30RywVGEhhHAKmp2d3blz50zti5GYPXs2LsQ9wDKVmWDBwkIIvfzyy/hV3FQzCSODC2hv3brV5CPdoFi2sORyOX4VnzBhQq9JagoakTNnzuD5OyVHMtENjem2RoDD4YhEogceeKCoqCglJcXU7tALDkRLTk62jIBsUyubAsrLy/HL0UcffUSh2bo6RJ6D1NmJSkpQfT0ih1yZDP36K4WtDUJfX5+rqyv8OUjBnLEGYSGEvvvuOxaLRe1uzwcfICcnhCfHv/6K5sxBaWnos89uf7atDQUFUdXU4OzevRsAJk+ebLwmDcOyh0KSOXPmpKWlqVSqxMTEsrIyqszGxMArr1BlzCDwK/Bzzz1nYj+0xkqEBQCrV69OSEgQi8Xx8fG3bt0yxFRTExQVAQDMmAEyGRw+/MenCgth717YuxdycgxzVxeuXr164sQJBwcHXNbAIrAeYeGs//Dw8Orq6gULFigUCi2/sKUFjh+HzZth2TKIjYURI2DMGCBLmW7ZAm+/DRLJ7UuJBLq6oKsLurtp+B7uQ0ZGhkqlmj9/Pp5mWQS6lTEycxwcHHJyciIiInJzc1euXIn319RRKpV1dXVlZWUVFRWdnbF5eeEVFdDXp2ln2DDw8wOVCgAgIAASEuCTTwC/ik2ZAi+9BADQ3g5ffkn7dwQACCFLLIdpVcICgLFjx+7bt2/WrFmffPJJcHDw1KlTy8rKysvL8f8VFRV9d3Q0ebJzYWE4ALi5AY8HoaG3//f3B39/AIB1627bFAhg/HgIDTXNd3TixIna2lofH5/o6GjTeKAX1iasxsbG2bNnh4eHnzlz5o033sDpKOr4+PhwudzQ0NCHHw7YsAF4PLjf8DJ5MuByLPb2kJkJNTXg5PRH9+bgAIsW0fd9/AE5bVcPXjB/CITorT9hZNatW7dmzZpnnnkmOjq6oKDgyJEjgYGB4eHhPB6Px+OFhITonfN09SrExoJCAb/9BneOpaGdnp4eLy+v3t7eK1euBAQEGKlVSjD1egfF4Lx78uCTmTNnEgRx4MABwy1LJOjRRxEAmjIFUXpO1kB8+eWXABAdHW2k9qjDqoR16tQpAPD29sa7ac3NzWw229bWVqfT2Abg+nU0ejQCQC+9RIm9wcExWJmZmUZqjzqsSlj4vWn16tX48sMPPwQAPp9PYROFhcjREQGgbdsotHpvqqurCYJwcnIyZkgxVViPsHp6enCmVGVlJb6Dg0z+97//UdtQVhYCQDY26JdfqDWsyapVqwBgyZIl9DZDD9YjLLz5HxUVhS9pDTJ56y0EgDw8UG0t5bZvo1QqcTLc6dOn6WqDTqxHWPhwuZ07d+LLF154AQY8mtsQFAo0cyYCQA8/jHp6aJnJ46oqgYGB5h/Td0+sRFga5Y3IIJPy8nKaWuzuRg8/3D9lyuJ58+bR8bvH+crr16+n3LJxsBJhST/4oCoqasfrr+NLvAcyadIkWhutrLyC5ZuWlkat5c7OTgcHBxaLZbYh7YNiFcJSqZCfHwJAd8obLZ03DwDS09PpbvnYsWNsNpuqpTKSLVu2AMD06dMptGlkrEJYubkIAPn5ITwkNTQgG5vWyEjjHJmxYcMGADDklHmZTFZaWioSiYRCYVJSUlhYGIfDYbPZmzZtotZVY2IVwkpMRACILG+UloYA0MKFRmsflxHw9fXVpsCGWCy+cOFCZmamQCB46qmnHnjggbtj2HFJCy6X29XVZQT/6cDy9wq7u8HLCyQSqK0FPz9ACAIDobYWjh+HqVON40J/f390dPT58+enTJmSl5dna2tLfqqrq6umpgbHVuCIncrKShWOyLkDh8MZO3Ysj8cLDQ319/fn8XhBQUGxsbGXLl2aPn36jz/+aBnZE3/G8oW1YwcsWwYxMZCbCwBw4gQ88QT4+EBdHRgxHKC1tXXixIlNTU18Pn/q1Knl5eU4Sqe5uVnjSVtb2+Dg4JCQEHJfPCgoSF2LmKtXr06cOLGtrW3lypV4C8HCMHWXaTB4Z3jPntuXyckIAK1da3xHfv31VxsbG3zmOYmtrS2uypSamioSiQoKCvDxadqQn59va2tLEMTevXtp9ZwOLFxYVVWIIJCzM8LZqmIxcnJCBIHoLDR9P3p7e4cMGUIQBJ/P/+ijj3744Yfa2loDK2V+8cUXAGBvb3/+/Hmq/DQOFi6st99GACgl5fbll18iAGSiIBO8eGZ4hlZlZeXSpUvJCk34QAYvL6+mpiaDfTQeFi6sjAz00EPo7Nnbl1OmIABkoiATfBTZjh07DDGiVCpDQkIAgKwAJZPJcFDypEmTtB9GTY6FC0ud6mpEEMjJCZkiyKShoYHFYjk4OBheK7awsNDBwQEAtm/fju+0t7fjsySSk5MN9tRIWLKw2ttRSgqaPBlFR6Pt25FEgrKzEW2nrQzMe++9BwDPPvssviwuLiajd/QA5z3b2NiQRyWUlJTgapGfkbnY5o0lCysyEmVkIIRQdzeaNQsZNgYZgkqlwgHpeXl5+M60adMAIDs7W2+bK1asAAAPD4/aO6E5OTk5BEGw2WzKI8zowGKFVVaGJkz447KkBEVEmMqXX375BQB8fHzwO2BTU5PhB6Erlconn3wSAB566CHybJI1a9YAgJubW3V1NTWu04bFCuunn1B8/B+X3d3I09NUviQnJwPA2juLZ+vWrQOAhIQEA812dXXxeDwAiI+Px5E5KpUKZ9lTfpwM5VissIqK0J1gUYQQqqlBDz1kEkfEYrGTkxNBEOQpbRqZQoZQWVmJI3M++OADsrnx48cDwIwZM8y5ApvFCksmQ8HBqKjo9uVrr6H33jOJIxoZWhqZQoZz9OhRHJkjEonwnfr6ery+v2rVKkqaoAOLFRZCqKgIPfoomjEDPfooWrwYmahUpEaGlkamECV89NFH8OfInFOnTuHdnn379Dl0zghYsrAwnZ1IJjNV4xoZWndnClHF888/D3+OzPn888/xbs9vv/1GbVuUYPnCMinvvPMOqGVo4ToLUeqTP4qQSCQRERHYuPROIjbe7Rk1ahSFhzNQBSMs/SEztPLz8/EdjUwhamlpafH29gaA5cuX4ztSqXTKlCl4g1Jmum77njDC0h+NDC0jHIR+7tw5Ozu7efPmkVvU7e3t7u7u8fHxPT09dXV1+EAUc4ARlv5oZGjh1Uv1w9/ooKioSD3brL293c7OjsPhtLS0IITMJwmREZaeaGRoqVQqPz8/MPpB6Js2bQKA2bNnG7NRbbCkWl5mxb59+yQSSWxsLJ5m5eXl1dfX+/n5PfbYY8Z0A78umGEVSUZYeoJLRZD1scm6e3efGUsfxcXFFy9e9PDwwAfPmhem7jItktLSUgBwcXHBJ7l1dXU5OjoSBFFLX5GQe7F8+XIAePXVV43ZqJZYWw1S44C7q8TERByR19vbu3DhQjIczzjIZLL9+/eD2Z4qYGplWxI9PT39/f1yuXzkyJEAYNol7+zsbAB45JFHTOjDADBzLB04ePDgiRMnOBzO888/z+Fwbt68aUJncK9phtP225ha2RYJDkR2dnYuKysziQOtra0cDofC8qqUw/RY+rB27doFCxZ0d3fHx8d3dnYa34HMzEyFQvHUU08NM1plcF0xtbItlb6+vrCwMACYNm2a8QPucIrYDz/8YOR2tYcRlv40NDSMGDECAN5++21jtnvu3DkA8PT0JHcMzRBmKNQfHx+fb775xtbW9uOPP961a5fR2sXT9kWLFnE4ZrxaZGplWzxYUkYrryCRSOgur0oJjLAo4MUXXwRjlVfYu3cvADz66KN0N2QgzFBIAZs3b37iiSeuX78+Z84cCXlmJj1o7FGaL6ZWtpXQ3t6Ok6GTkpIoNKsRF9rY2IhTYQ2vEEE3TI9FDR4eHocOHXJ2ds7Kyvr000/1M9LS0nL8+PEdO3a8+uqrsbGxnp6e//nPf9Qf+Oqrr5RKZXx8vPmf4WvGrxWWBo/Hy8zMnD9//ltvvcXlcgcOZVEqlfX19WRFSfx/b2+vxmN1dXXkxwihzMxMMOdtHDUsvwapmfHee++lpaU5OzufO3cOJ8iTtLS07Nq1C9e3raiokEqlGl87cuRIXJU0NDQUHwOL18kwJ0+ejI6OHj16dENDgwWUuzX1WGxtqFSqp59+GgCCg4M1ZkIVFRXqP3k3N7fIyMiUlJTPPvssNzf3+vXrA1vGE/Y1a9bQ6T5lMD0W9UgkkqioqMLCQo1i2gqFYvXq1bgrCgkJwamtA9DV1VVRUYF7uNLS0vz8/L6+vurq6paWlrCwMFwuy3wxtXM3E/QAAAFpSURBVLKtE3K3RyAQaPklN2/eLCgowAcLxMXF+fv7a0Q5Dx8+HNff2rNnj9kGNZAwPRZdnD59eurUqTKZbNeuXXdPt69fv44n7LhDKisra2tr03jGwcEhJCQE93BcLnfcuHFBQUHGct9QGGHRyLZt21566SV7e/ucnBxbW1t8MkV5efnly5dv3Lih8bCdnV1AQEBoaCg+ooLH43G5XAuYpN8HRlh00dLSUlRU9OOPP27fvp3NZiuVSvXPurq6BgQEkBoKDQ319fVlGfEoDbph1rHowsbGxsnJacuWLY8//vj27dtZLBYezrhcLo/Hw1HzVgzTYzHQgvX0vQxmBSMsBlpghMVAC4ywGGiBERYDLTDCYqAFRlgMtMAIi4EWGGEx0AIjLAZaYITFQAuMsBhogREWAy0wwmKgBUZYDLTACIuBFhhhMdACIywGWmCExUALjLAYaIERFgMtMMJioAVGWAy0wAiLgRb+D3Dz3CxCOIDkAAAB2HpUWHRyZGtpdFBLTCByZGtpdCAyMDIxLjAzLjUAAHice79v7T0GIOABYkYGCJAEYhkgbmBkU1gAEmdmZ1AA0swQLhMTKs3MyMagAaJZOCA0EztDBphmZHOASLAlrADRQJV4GDC1GHrIMEQAQjOhu5gb6ElGJgYmZqAaBhZWBlY2DSZWdgV2DgUOzgwmTq4ELu4MJm6eBB7eDCZePgU+/gwmfoEEAcEMJkGhBCHhDCZhkQQR0QwmUbEEFnEGcQkGCUYGXo4EMb4EUYEEERY2RglxFqCtnFzcPLwcrPx8YqICbIJCwiKiAuKw0GWQlOPef2D61WAHEMdr+YID7W2cYLb3hKQD/EySYPaiE6oHGNLm2oPYTvvdD+RVGu4DsWd+5zrgc3bVfhDb8p3OAVtD/QMgtstTg/0217rB4vuLWux0rQTA4rZO3fuOsGSB2a21uvavNGeB2StluRzUciaB2Z4iOg5beb3BbIeZ9+yX7WOAsJ0FHawuSIPNjLmX6zAvPwrsBsOcIodtVUvAblsQO8+BhZUf7OY786c5+BzOBbOVSoMdvt1pB7OF1DgdnD8FgdmzFko4fE1/Adbbp7XT/qGJKph91G7yga8zrkD8uGjjgUPv7cDiYgDeknu+6m/PlQAAAhB6VFh0TU9MIHJka2l0IDIwMjEuMDMuNQAAeJydVkluIzEMvPcr9IEQJEUtPAZxTkEywAwwf5j7/B8hJYUw4LQdyGhDVVazulRa2kfyz+/L27//KT58OY7EJXFPCb+9VDX9ZUQ87PanAtqQvDJDtj5HCNaL6SXdFNOt3FJBRhnPB5Ler1Q+blW+uYZKhiLTC0NW7Pe98IkKQ9HphYBZ255KBmJCRwjUcr6vkk+9UCP38kSQs8h9lbNcGJrFu1Bu1yq/fq6CUHWOiADVlsjOHFkFl96mFy657o3IVNocUYZaatlK1ypqa8OLQKf2wMuZis1R6TRVSisP1su5Su0zF1s5jTdVyOZXaaaLRHvpmheuY937nGPfVMnQqC4Vps0d4Cq96dqNveCeFwGVrmtsWTbTFdtHDb/G9sjL+YgyCk49lv31QsI69Vjrphc7J7usdDs98nKWLoFIXaukSrme6T8/39Nia22edQhChffO3QKlEM3aJmXrHUCjgybhkd4ihiSIoRLEUA1iqE3xSXr0GNIgmvw8lUEMue1FKBEH4UQ5SE6e0SKSKBwY8v2+emqiFqQl6kF6Ig2iicOBIQ4HhjgcGOJwYCPlyMAQhwNHkZu7jOdYtRsNtfD2bv8/ni8jFq/zcs94fGW1Zf4+Xj3ervs8oNH6PRxKpjyOPe/pq9XZ8lLgpcDrCeNVll3h9eNyfAI712dgWYwiMQAAAVx6VFh0U01JTEVTIHJka2l0IDIwMjEuMDMuNQAAeJxVkTtqA2EMhK+S0gb5R++Hl1TunQMYu/ER0ubwkXYhEPiL5WOkGc0+bs87PW7P451up8+v8/3Nj/fz7735soO3/KPyzedjij5+ThdbFUgEsgSrCLYmyKgMvEgztYksU0RvIoVhTXhZoQTQYi7PXUNMaHDBRSFCh4qCxOFCS0SldhSzHeZDQmYSl1db58iwWJvhYkvPHBmbmO0yDqqCdnJz01F5hFfv15UUzrC1oyXuxMJiQK8JnSmKXgAbtXFNUF59t+to2Ctkojumq8MmK8hjCFMfc5CMtLk4tWNsukqzpEth0alA+7SuEmbW2mCbShUZdLFaHOmUy1rRpeHuLKnpvTTJ2q/DqboTdBI12evRDkVKk0XJuu79F5nRqEItO+8ZXnRVKCCE5sTQ/VP/ngQqYIQXXxk6az+Fl13x5xeO6XrxBp6QVgAAAABJRU5ErkJggg==\" alt=\"Mol\"/></td>\n",
       "      <td>23</td>\n",
       "      <td>23.sdf</td>\n",
       "    </tr>\n",
       "    <tr>\n",
       "      <th>0</th>\n",
       "      <td>O=C(Nc1[c][c][c][c]c1[C]1[C]Sc2[c][c][c][c]c21...</td>\n",
       "      <td>-7.597278</td>\n",
       "      <td><img data-content=\"rdkit/molecule\" src=\"data:image/png;base64,iVBORw0KGgoAAAANSUhEUgAAAMgAAADICAIAAAAiOjnJAAAABmJLR0QA/wD/AP+gvaeTAAAeqklEQVR4nO2deVyU1f7HvzPMMDDsyGoKiqm5gYaZgpkpkBi4xJXSwjYZut3blL30NzfLqFvZWLckvanjNQvNrhfKlFxKUlFEUik3VAxNRVlkGWAYllnP749Dj9OwDTPPBp73y5cv5pmHc77DfOZ7vs+Z53yOACEEBALdCLkOgNA/IcIiMAIRFoERiLAIjECERWAEIiwCIxBhERiBCIvACERYBEYgwiIwAhEWgRGIsAiMQIRFYAQiLAIjEGERGIEIi8AIRFgERiDCIjACERaBEYiwCIxAhEVgBCIsAiMQYREYgQiLwAhEWARGYElYBoOhqqqKnb4IfIAlYZ04cWLVqlXs9EXgAwLWvBuMRqNIJGKnLwLnsJGxDhw4cP/99z/++OOxsbEnT55koUcC9yAmaWxsTE1NFQgEAODs7Ix7nD179vHjxxntl8A5DAorPz//3nvvBQAXFxelUllVVZWenu7l5YXlFR0dnZOTw1zvBG5hRFgtLS0KhUIoFALApEmTLl68SD1VW1ubnp7u4+ND5NW/oV9YBQUFw4cPBwCxWKxQKPR6fcdzNBqNUqn09fXF8powYUJWVpbZbKY9GAJX0Cksy0QVHh7+66+/dn9+U1NTRkZGcHAwlld4eHhmZqbJZKIxJAapqUG7dqHPP0eFhYh8JDpAm7AKCwtHjhwJACKRSKFQ6HQ66imz2VxdXd3VLzY3N2dkZNxzzz1YXmPHjs3MzDQajXQFxgjHjiF/f/TSS+jdd9GDD6L4eMTzgFmHBmG1trYqFAonJycsi6KiIstnr127NmPGjPHjx1tKrSM6nS4zM3PYsGFYXsOGDVOpVAaDwfHw6MdkQmPHom++aX9oMKDJk9GWLZzGxDscFdaJEydGjRpFJaq2tjbqKbPZvGHDBnd3dwAICgqyLOG7Qq/XZ2Zm4hINAIYOHZqRkWHZJi8oK0Pu7n8a/tavR088wV1AfMR+Yen1eqVSKRaLAWD06NEnT560fLaioiIhIQHrY8GCBTU1Nba3bDKZsrKy8MAKAKGhoRkZGa2trXaHSjMnT6KhQ/905Ntv0bRpHEXDU+wU1tmzZydMmAAAQqFQLpdbJZWsrCw8oeDv7/8NNWT0EpPJlJOTg3sBgMDAQKVS2dLSYl9rdFJejtzckOVFxrp1aNEi7gLiI70WlsFgUCqVeBp92LBhR44csXy2srJyzpw5WAoJCQkVFRUOxmcymbKzsyMiInCbQUFBa9eudbBNRzGb0YgR6L//bX9oMKAHHkDbt3MaE+/onbDOnz8fGRkJAAKBQCaTabVay2ezsrLw1JS3t7dKpaI1TpSbmztp0iQAiIuLw8NuampqjzMaTFFQgAIDUVoaeucdNGkSmj8f9ZVZErawVVg4UUkkElxTHz582PLZqqqq+fPn46QSHx9/69Yt+iNFCCGUlpYGAHK5HCF08+ZNLi8b6+rQ99+jL75Ap04hnQ5VVqLmZs6C4R82CevChQsPPPAAlaiamposn83KyvLz8wMALy8v2hOVFVu3bgWAp59+mtFeekCjQUlJaP78O0eSkxEA+t//uIuJd3QpLKPR+Nprr5lMJoPB8Oqrr+JEdejQIctzqqurk5KScKJ69NFHb968yXS4e/bsAYDHHnuM6Y66Q69HAgESie7MOLz4IgJAGzZwGRXP6PLOO6FQOHHiRKFQWFRUhGfGz5496+HhQZ2wZ88emUxWWVnp6en50UcfUbfHMAqu4dRqNdMddYdYDG5uoNWCVgv4D4K/U+c2Kp7R5Y1+AoFg4cKFAIAnDlxdXS1Vdfr06Tlz5lRWVsbGxp4/f14mkzGkqrfffjsgIGDjxo34IQ6GY2EBAP76nAoDC6u+nrN4+EfP9wrjJFH/57/ahAkTXnnllZEjR6alpTGaqMxmc01NTU1NTTfBcICvL5SVQX09hIa2PwSSsf5Ez8Ly9vYWCoUNDQ1msxnfuYBZs2YNk4G1g1MUpSRfX1+BQKBWqxFCLIy83YQFYKEkLCzO5c4ner7n3cnJydPT02QyaTQaFgKywmrsE4lE7u7uRqNRq9WyH8wdrFIUyVgdsGkxBYclc8exjxf1u1WKIsV7B2wSFoclc0cZ8aJ+J0NhT/QiY3FSMneUES/qd6vLQDIUdoAMhXZhlaKkUnBxgZYWaGvjMCheQYZCeygNDl4xffpGV1fqyORRo7w9PSvJaPgHfB8KJRKJVCrV6XQtLS2cB0NRJpV+kJeXff48daRJp2vUaLifueUNvchYXL2XVkmL22A6DanTI3c5fK+xoMPYx4e3sKvKj/uvBHgD32ss6PCe8aHG4mflxyts8hXi9uNo9S7yITd4eHiIxeKmpiaDwYCXk/Ahj65atWrmzJlXrlwRi8XJyckcRgK9EhYZCi3x8fGprq6ur68PCAgAflR+c+fOHTRoUHBwsOVXulxBhkI76VTu3ArLy8vr6NGjO3bs0Ol0HIaB4ft0A3R2gwOHwVB0eq3KodzxWqbk5GSFQjFixIjk5OSSkhKuggEbhSWVSl1cXFpaWtq4mFm2egup+kav17MfjFVUfJB7ZWVlYmJicnKyWq1+6KGHFi5c6OTklJ2dPWbMmIULFxYXF7MfEthuFclhDYG7tkzv+EhDQwP7wVBQcr948WJRUREu4dnPWNnZ2ePGjduzZw9eyXLgwIGvv/76ypUrcrlcIpHs2LEjPDw8MTHx1KlTLAdm6/KvMWPGAEBxcTGTN+B3jl6vt/I2uu+++wDg0qVL7AdDsXnz5kWLFj366KMikWjgwIFubm5z5861WmzCKLdv33788cfxmzhr1qyOK1mqqqoUCoVUKsXnxMTEFBYWshaercKaOnUqABw9epTRaGxkypQpAFBQUMBhDDt37gwMDAQAd3d3aqG2u7v7smXLqqqqmO49KyvL398fADw9PVUqVTeeddXV1enp6Z6enjjC6Ojon376ienwkO3Cwgvnd+/ebXWcE5+0+Ph4ANi1axf7XSOE6uvrZTIZfp+mTp1aWlqKEDp9+vSCBQvw3dISiUQmkzG0GE6tVlO9x8XFlZWV2fJbNTU16enp3t7elLyYdui0VVjPPvssAHzxxReWB0+cOMG+09CPP/7o7e09ePDgoKAg9l1o9u/fP2jQIABwdXVVKpVWn6uzZ8+mpKRgqzBnZ+eUlBQsO7rYu3fvwIEDAUAqlWZkZPTWXNPKoTMqKionJ4chh05bhbV06VIA+Pjjjy0P4gXvADBkyJCNGzcyLS+NRkOtM6P+OoMGDVq7di0LLjQNDQ1UqoiKirp8+XJXZxYXF1PyEovFKSkp3ZxsI52mSfvADp1BQUG4tYiICCYMYG0V1j//+U8AePPNNy0Psuk0ZGXubTAYcnJyJk6ciLv29/dPT09vbGxkomuE0A8//EAlqjVr1thSAFy9elUmk+HNOIRC4YIFC+y+2ug+TdqHVqvNyMjA+Q8Axo0bR69DZw/CUqvV6enpCKFNmzYNGDAgODi4o7qxvJh7jy09cyMiIs6cOWP5LOVCAwB+fn7p6en19fV0dY0QamxEMhmaPv0oAEyePLm34rh27Rq+8sfySkhI+OWXX2z/ddvTpH20tbWpVCqsWgAYM2ZMZmYmLVYrPQirtbX122+/xT8vXrwYdx8ZGblr166OyZOJ97igoGDEiBHQrbk3Qmjfvn1RUVG4a19f37fffru+noba66efUGgoAkDu7ujTT7+y+wN948YNuVzu4uICAAKBICEhwcoAsVN+/PHHwYMHU4mKOcNfbACLBwQACAsLowxgjUZjRkaGHW32wh8LJ88e7Y3z8/MfeeQRfI6np6dCocDrS3sLTlS4Uhk3bpwtVlj5+fnYn3LIkOHe3ka5HFVW2tEz7h0pFEgoRAAoIgL9OUvaSceJpZ9//rnTMxsbG6lq0o40aR96vX7z5s2Uv/CHH36IEDIYDB999JEdrfXa0U+n06lUKvxJgq7tjan3GAA8PDzkcnllb97kwsJCPAva0dy7R44ePbpkSS5Ae6ZZvhz1dl6poAANH44AkFiMFArURZa0k44TSwcPHrQ8waqaZNmZ3GAwbN261dfX19fX98iRI2az2b55Lzs9SHHy7NHe+NixY5S83Nzc5HJ5eXl59y1bmnuPGTPm1KlT9kV4+jRasAAJBAgASSRIJkO2zCtZJqpx4xBzhoGdTix1s1UMy8ybNw8Adu7cqdPpnn32WTtacMiOG7tn92hvXFhY+Nhjj+FzQkJCuvkInjlzBs9idzT3to+zZ1FKSrtQnJ1RSgq6cgUhhBoaUG4uovJgWRm6eBEVFqKRIxEAEomQQoF6kyXtpK6uzlJe+AeJRPL+++9z63H//PPPA8DmzZvtboGGDQSwezZ2e+9m0gFPHiqVyk4b6d7c20HOnUPJyXfktWQJ+u47BIBWrWo/Yd06tHgxcnVFACg8nMFE1Sl4Ysnb2zskJCQkJIQzY1ULli1bBgD2VVcY2rY8wZMO2PoWAAICAmyfdDh37hxl7i2TyZqZMfO8ehXJZEgkQgDos8/Q6NFo8GB09SpCCK1bh9LSkFKJ3niDjUTVKXimcPny5dx0/2fef/99AFixYoXdLdC8+5fZbM7JybF90sHS3DssLMzK3JsJSkvRqlWosBBNmYLWr0fx8Qj9ISxuUalUAJCamspxHAghhDZs2AAAL774ot0tMLURZm5u7uTJk7ufdCguLu7G3JtRsLCMRnT//SgrixfCys7OBoCkpCTLg21tbZx8zb9jxw4ASE5OtrsFpu66x3f/5Ofnx8TEaDSa1atXh4aGvvLKK7dv3wYAo9G4evXqyMjIX375ZejQoQcPHlSpVG5ubgwF0xVOTrB+PSxfDq2tLPfcCR3vQZ04caKLi8ulS5f4EEyvoVHmXXHkyJGYmBjcnYeHxwsvvIArKoFA8NJLL7GZqChwxsLIZGjIEO4z1unTpwFg/Pjx1BEO74ErKioCgMjISLtbYGOd0LRp03Jzc48fP56QkKDVardu3XrmzJnQ0NDc3NzPPvuM/URlxQcfQHMztyEA8MywyfG1ITatK6SFKVOmfP/994WFhVFRUSKR6Pz585Y2zCwTFgYKRfvPvr6waxeYTFzFQoXBI8Mmx7tme2XjlClT3NzcjEYjt4sqi4th9+47D9Vq2LGDu2gAoLPVRxwuKfPy8po27cv77vvK7s8bB+8uH5YyNzXBzZt3Hmo0UF7OXTR/YLUUisOVUQKB4MKFZ06cSLC7cw6ExfnaTt7S6VpF7hagAzjgq8pejUXBk6XMJSXw17+2/3zlCnB9CQHAs2X7DvqqciYszjOWvz/Mm9f+8+HDwOl69HY69dXhzosFoG8JiydD4YAB8Oij7T/X1fFIWDyxP3FwKOSseOd8KOQhvHICc3Ao5Kx459rxB/64BRcAwMcHhg7lLpo7YXTiq0OGQlvhQ401fTpMn37nYXw8xMdzFgyF1djX1fZYbAUD0LeGQp7UWDzEauwTCoVeXl5ms7mxsZGLYAD6lrBIjdUVvHL57ns1Fh+GQn7SMZdzmN2HDYMlS+CPtQq9hgyFPII/GSstDfbtg//8B9LSwGCAuDhoaIDExDsnVFXBX/7SXQtkKOQR/NmX4Oef4f33AW/pYjbDwYOg00Fe3p0TWlshP7+7FjgQlqenp0gk0mg0RqOR/d75jI+Pj0AgwEsE8JHg4OCBAweazWb2g3nlFfjrX8HungXUa2ATf3//2trampoaPz8/9nvnM15eXhqNprGxkVoqzQkREfDVV/Dqq/Dkk7B4MUilUFEBISHw1lvtJ9TXw7ZtcPt2ly1wc1MUqd+7gld/mX//G956C+rq2h8KBBAU1P7P37+H3+VgghRI/d41Pj4+169fV6vVQ4YM4SSAqioYMKD951Gj4Jln4O232x+KxfDCC+0/X7sGn3zSXTtcZixSv1M0NTXV1tbCH3+Z48ePcxJGdjaMGwcffHDnyMqV8NNP9jRFhkJe8MMPP3zxxRcA8MYbb4wePfrll1+eOnXqoUOHWAuguhr+8hdITobaWvj1V/D0BCcnAAA3N/jkE/DxAaHwTiYDACcn+MOsswtoWzHUG/7+978DwNq1aznpnc/o9frXX3+dqtwfeeQRFrzjs7ORvz8CQJ6eSKVCtNiRciOst956CwDeeecdTnrnP6zZG9fXI5kMYS+x2Fh04wZtLXMjrDVr1gCAXC7npPe+AtP2xnv3ooEDEQCSSpFSiehdys+NsDIzMwEgHjtyELqFCXvjhoY7iSo6GtHqRd8ON8LKyckBgISEBE5674vQaG+8f//+adPkYjFydaU/UVFwI6wVK1b4+/v7+vpmZmZyEkAfpRt7Y1toaGh47rnn8O8+/3weE4mKgm1h6fX61NRUy8vShISE69evsxxGnwY7dGKXcgAYMmSILVu/HDhwAFsSs+OZy6qw6urqZsyYgV/bV199lZmZOWDAAACQSqXp6em9skYmYIdO7C0NACEhIRkZGZ1uC9Lc3CyXy1k292ZPWKWlpfivEBwcTFmMVlVVpaSk4D9NeHh4V77nhK7ADp33338//hsGBAQolUpLr02uzL1ZElZubi7+fjAiIuJGh9mSQ4cO4cSOPUiZ2xKne0pKStjcxoxGsEPnAw88gOWFd53B+xVQW8WcPn2azZDYEJZKpcJ2yElJSV0Z17a0tKSnp2Mz0uDgYE6Kerlcfv78efb7pQuz2fz9999TBrDu7u4A4Ozs/N5777Fv7s2ssIxGo0KhAACBQKBQKHq00zx37hzePZX9ol6n01VUVLDWHaPk5+fPmDHjpZdeioyM5Mrcm0FhaTQavC2FRCKxPQOZzebMzEz8bYZUKmW6LKiqqsrMzFywYIGXl1dMTExUVNTvv//OXHdswvJeKVYwJayrV6+OHj0aAPz8/Oxw0aysrKSK+oiIiBMnTtAYm06nO3jw4LJly/AO6hT4EnXIkCFXsft7XyY6Orq5uXnRokVc7ZvCiLCOHTsWEBCAv3+4du2a3e3s3bsX3++Gi3qNRuNIVJbJiRKTm5tbQkKCSqUqKytraGjAe9MFBQUVFxc70hfn3Lp1CyFUXl7OiZs3YkJYn3/+Oa7B4+PjHb++a25upor6gQMHZmdn9+rXjUZjfn6+QqGIjIzEEznUnLVcLs/NzbWaPNNqtTNnzgSAwMDAc+fOORj83QydwjKbzenp6fidk8vlNH5Wzp49S21HkJCQ0HHCwooek1M3v9vc3BwXFwcAPj4+9G7pc1dBm7Camprmzp2Lr2+3bNlCV7MUJpNJpVLhO+A6Lep7m5y6QafT4X3VvL29CwsLaX8tdwP0COvmzZt4T4ABAwYcPnyYljY7paKigirqx48ff/LkSbuTk9lsLioqevfdd6Oios6ePWv1rF6vT0pKwrNBLNzD2f+gQVjHjx8PDAwEgBEjRtC+G3an7N69OyQkBGdHy8u68PBwhUKRl5fX1dbRCKG6urqsrCyZTEbtQQwAH3zwQcczjUYj3gZbKpXm5uYy+YL6IY4Ka8eOHa6urgAQFxdH7/bx3dPU1BQbGyuVSp2dnW2pnIqLi5VKZUxMDP4OABMUFJSSkpKVldXVRYbRaMRbQkokkt27dzPzUvonvRbW/v378e7OuFTH1YxMJmP/S4OnnnoKul2R0WlyEolE0dHRSqWyqKjIltt8zWbzyy+/jLPjzp07aX0F/ZleC2vTpk14vNu+fTsAiMXijRs3MhBYz2C5XLhwweq4fcmpG8xm89KlSwHAyclp27ZtNIXfz+m1sEpKSvB+Xa+//rpIJPr4448ZiKpnfvvtNwAICAiwzDparTY4OJgSk0QimTlz5r/+9a+O4rMDvLLIycnpyy+/dLy1fk+vl9hv27Zt/vz5kZGREonEaDSePHmyty3QQl5eHgBMnz7dcmbBzc0tKCgIIRQbG5uYmBgXF2d5qegg77zzjlQq/cc//vHcc89ptdq//e1vdLXcP7FbkhUVFWKx2NnZ+fbt2/QJ3VZwgfXZZ59ZHa+rq2O03w8//BAABAJBRkYGox31dRy6KsQzoqtXr6YrGtvpqsBigQ0bNuC759577z32e+8rOCSsffv2AUBYWBjL33R2WmCxyaZNm7C2FAoFJwHwH4eEZTKZ8N0HBw4coCsgW9i0aRM4thW242zfvl0kEhFtdYVDbjNCoXDJkiUAoFKpHGmntxw5cgQAHn74YTY7tWLRokXbt28Xi8WrV69etmwZ4sIYkdc4KMzKykqxWCwSicrLy+kQuk1wWGBZsXPnTvy1EtYWgcJRf6ygoKA5c+YYjcYvv/zScZXbQmlpaXl5eUBAwKhRo9jpsRvmz5+/a9cuiUSi0+laWlpaW1uHDx/OdVD8wHFtHjhwAABCQkLYucmaDwWWJbW1tUKhUCqV4qVjZNkthgZHv5iYmOXLZ2Vm3tPUlOt4az3CeYFl5SKel5dnNpujoqIkEgl0uOHiroUGYQkEgtdem+7hUVhXx0YJT825s9BXRy5fvuzj4/PMM89QRzgXOj+hx4PUz+8FgUDS2LjHYGB2M3jOC6zDhw9rtVqDwUAd4VbovIUeYYlEft7ecxEy1tZ+TkuDXdHpV4RsYpWf6urqLly4IJVKqeXtBAxtrsn+/mkAUFv7H4RMdLXZEc7HnaNHj4JFfrIqsAgUtAnLw+MRF5cRev0tjWY/XW12hNtxp6SkpKKiIjg4eOTIkfgI50LnLTT6vAv8/GQAUFPDVAnPeYHVUdakwOoKOjcQGDDgWaHQpbFxn15/g8ZmKUiB1YegU1gi0QBv78cBzLW1W2hsloLzcYcUWLZD85YnFiW8oceTewspsPoQNAvL3X2aq+tYqTTSaKR5nxxSYPUt6N9WbtSoIoQMdXXb9PobEskwb+8kkaj77XxsoqsC67fffqP8gxmFFFi9gn5hCQTOJSVTpdIJHh6PtLVdNhpreiUshJBarVar1fX19dT/arX666+/BoCHHnrI8uSdO3c+8cQT6enpb775Js0vowOkwOoV9AvLYLjd2nr6vvsKBII7X8eaza0mk9poVJtM9dT/lg/ffNO5qOiiWq1uaGjoqmVfX9/vvvsuNTWVei/r6urMZvPKlSsBgFFtdSywyDjYPfQLSyTyFYvvuX79+aAghavrOAAoLY3TaHq48aGiIuL3338HAIFA4Ovr6+PjY/V/S0vLli1bDh06lJSU9M0337i4uABAamqqu7v74sWLV65cqdVqlUol7S8HQwqs3sLIUDhyZEF19ZrS0lkuLiPCwr5xcvIUCl2dnHxFIh+L/32dnHyo/zdv9hOJvLCMumo5JSUlLi5u7969s2bN2rNnD3YFXrhwoZOT09NPP7169WqtVrtu3TomZrk6FlgXL14kBVZ3MHerl9lsKC2NLy9/AyHa1vBcunQJ74M1depUy8Xye/bswTksLS2NiSVDuNOSkhL8MDs7GwBiY2Np76jfwISwzGZz+62kZWUv37r1f/S2fvnyZbwJ1sSJEy2Xp+7fvx/73jz11FP03st66dIlAAgODqaO4B1iybrCbqBfWG1tv50/H/b7709duTLv3LnQtrYrtHdx/fr1YcOGAcCECRNqamqo43l5eXh8fPLJJ2l0v9mwYQMALFy4kDoyduxYADh27BhdXfQ/GBkKjUZNU1NBU1OBydTDllR2U1ZWhpctjB492tL4Pz8/H9tJJiYm0rV/yalTp1599VXKw6i6ulogEEilUnJ7ezdws18hLVRVVeHMMXLkSOw+jSkqKsKO7bNnz+5xszU7IAWWLdD8lQ6bBAYGHjx4MCIi4vLly1OnTr127Ro+HhkZmZub6+fnt2/fvnnz5rW2ttLbL/mK0Ca4Vraj1NfXP/jggwAQEhJSarFn6MWLF/Gl3LRp0xzcecAKUmDZQp8XFkLIckcJy+XRJSUl+PoxOjqarq3qKisrSYFlC/1BWKjrHSWuXLkSGhoKAJMmTXJECjU1NdjO1M/Pb/DgwYmJiQihTz/9lDh1d0U/ERbqekeJGzdu3HvvvZ0abneP0Wg8fvz4ypUrJ06ciE2LMLNnz8YnXLp0qba2lrYX0L/oP8JCXe8o0dTUZHsjVHIKCgqixOTq6hoTE6NUKvngRNIn6FfCQgjpdDo7dpQwmUxFRUVKpTI6OtoyOYWFhclksqysrF5Jk4D6n7BQb3aUIMmJOfqhsNCfd5TIycmxfIokJ3bon8JCHXaUIMmJZQSo/3ocIoSWLl366aefisVik8lkNpvx8eHDh8+aNWv27NkPP/wwviGCQDv9WViYFStW6PX69evXR0dHx8TEJCYm4s2qCYzS/4UFAHq93mQykeTEJn34S2jbSUxMbG5u5jqKu4u7ImPdvHlz8ODBXEdxd3FXCIvAPnfFUEhgHyIsAiMQYREYgQiLwAhEWARGIMIiMAIRFoERiLAIjECERWAEIiwCIxBhERiBCIvACERYBEYgwiIwAhEWgRGIsAiMQIRFYAQiLAIjEGERGIEIi8AIRFgERiDCIjACERaBEYiwCIxAhEVghP8HLcppCeP65zUAAAHRelRYdHJka2l0UEtMIHJka2l0IDIwMjEuMDMuNQAAeJx7v2/tPQYg4AFiRgYIkABiaSBuYORg0ADSzExsEJqFnSEDzGdkc4AIsCWsANHMjPgYMLUKC0A0I4RmYhJgUADRZBnFADMSJgE1k50hAUTD+TCam4FRg4mRSYGJWYGZJYOJhTWBlS2DiY09gZ0jg4mDk4GTi4GLm4Gbh4GHN4OJly+Bjz+DiV8gQUAwg4lRSEFIWINJWIRBRJRBVIxBTJyBgzlBkJNBXIhBkCdBhIWNhZWNnYOZlYtTkIebjZePX0CQh01YRFRMXEgcFqTAMOWebP+Lwc8BxCl3XWB/sOyOPYjdUc1gc7wiCcz+X7t6v1XvUTC7dMeO/eY9TmD122YbHVi0JQfM/i3XeKBE3BzM3rWg+sCWxevA6u0TVQ/sXmoCZrMckTuwpsBrP4j9KjrjgFnTAzDbpNLlQJ235wEwO/3kfud1TmB2+by/+zZvawKz36YX2a/hzgazv55fbn/+FS+Y/b0pzy4yfBrYHNPTs/aflToNZpslqTm8Uu0A21v0X8dBberdfSB22fxGB4Vt3WA10wpWOvC+bwSL/1Rc5lDAPx+svoylzME94TOYLQYA+3J9j5Sa0RIAAAIAelRYdE1PTCByZGtpdCAyMDIxLjAzLjUAAHicnVbLjhwhDLzPV/ADi/zi4WO0k9MqGymR8g+55/8VG4inD9vbE1qtoazGRbnAaG7Jnx/3t99/Ujx0v90SSaKWEnz4qmr6RQBw8/mYUXp3xJlwIsj2FdL3dEZxfBcLFcKJGtnyD5bX51k8oy0FvUs7sLw/zfKCmVn71FKE97QYiwjj9AUW3zkLn7BQbgrL3aq97LGIKSgwdjf3CptaOCtjm75wlQtfzisqXXDmNihtz13K0sFzXyAc2qmoMtS5W60IfM5CpyxQrSUGQil0YPn5P+elNC6LT1D3fIEsWnjteZc9XyxDpa6KaqO6x2KnBBHmbhG2vbNrGcSk0yFsstkBdr+A8vK51wtfTty17imqqwOg8t7ZNZYG42bw3WLa3CPb3zI7wLQoXvhycnZTyaTjZjAtVPio5fkb01hQsa57XOjClzMtnLvMHsSsgBf3y8csOD7QDGi4hzMwJBEYKuPXA0M1AkMtAkM9AkMagSY/2ZPNEGIEmJAioIShwJDXNAkMYSgwhKHAEIYCQ/hQYGwabJoI/lVqiEKBIQoFhigUGKKHB7OYtU4/1GNzDuv0UcKY9s3+LHy5DyfcNF/c/RpjW2Of4+h7H/2cuwBZ8cgLJsvGxYCLgVYmrUyXP0ZnYM/8+n6//QVDUVloF4sJyAAAAUt6VFh0U01JTEVTIHJka2l0IDIwMjEuMDMuNQAAeJxVkctKRDEQRH/FpUJP6PfDwdXsdeFSdDO/4cdbiSAIuYR7Ul1d6by93B5f7/Jx//xb+Lt97u/9rv+5Pt3kBQdYr7+bPHw/yhLvKrKl0i10laWhoiSrVK3oyou52mWCeHV7RtD1IstsqiELty0DcTcxOLHNdrroquEKkJwOA3GcBRvp6uSjsTUmOfCx9OOjK9o50aw4Mvwgby6hCx/H1lOYxgmGoIEoB3HOEHbxUDuZosxzI3bpAeLlExa0s7T3vt949vQWZWnMnoGJICYaqxTqIVLT0dMO5KTCpHjMNorOggrRZ8pxGU7LA4qNZwd30yp4o21w6a7iEYwylo7P0WhY4S2AZCQDPuq6fWy1O+9HGRZreqIveXYKSirC8IwEXVGQJENf+ixMiqWk9v0D7QR01cqHXtAAAAAASUVORK5CYII=\" alt=\"Mol\"/></td>\n",
       "      <td>227</td>\n",
       "      <td>227.sdf</td>\n",
       "    </tr>\n",
       "  </tbody>\n",
       "</table>\n",
       "<p>264 rows × 5 columns</p>\n",
       "</div>"
      ],
      "text/plain": [
       "                                               smiles  affinity  \\\n",
       "0   O=C(Nc1[c][c][c][c]c1-c1[c][c][c]c(-c2[c][c][c... -9.454725   \n",
       "0   O=C(Nc1[c][c][c][c]c1-c1[c][c][c]c(-c2[c][c][c... -9.452165   \n",
       "0   O=C(Nc1[c][c][c][c]c1-c1[c][c][c]c(-c2[c][c][c... -9.448174   \n",
       "0   O=C(Nc1[c][c][c][c]c1-c1[c][c][c]c(-c2[c][c][c... -9.434601   \n",
       "0   O=C(Nc1[c][c][c][c]c1-c1[c][c]c2[c][c][c][c]c2... -9.419974   \n",
       "..                                                ...       ...   \n",
       "0   [C]N1[C][C][C](C(=O)Nc2[c][c][c][c]c2-c2[c]c3[... -7.655198   \n",
       "0   [C]N1[C][C][C](C(=O)Nc2[c][c][c][c]c2-c2[c]c3[... -7.638326   \n",
       "0   O=C(Nc1[c][c][c][c]c1-c1[c]c2[c][c][c][c]c2s1)... -7.637133   \n",
       "0   [C]N1[C][C][C](C(=O)Nc2[c][c][c][c]c2-c2[c]c3[... -7.634690   \n",
       "0   O=C(Nc1[c][c][c][c]c1[C]1[C]Sc2[c][c][c][c]c21... -7.597278   \n",
       "\n",
       "                                                  mol  lig_id sdf_file  \n",
       "0   <img data-content=\"rdkit/molecule\" src=\"data:i...     250  250.sdf  \n",
       "0   <img data-content=\"rdkit/molecule\" src=\"data:i...     249  249.sdf  \n",
       "0   <img data-content=\"rdkit/molecule\" src=\"data:i...     251  251.sdf  \n",
       "0   <img data-content=\"rdkit/molecule\" src=\"data:i...     246  246.sdf  \n",
       "0   <img data-content=\"rdkit/molecule\" src=\"data:i...     203  203.sdf  \n",
       "..                                                ...     ...      ...  \n",
       "0   <img data-content=\"rdkit/molecule\" src=\"data:i...      19   19.sdf  \n",
       "0   <img data-content=\"rdkit/molecule\" src=\"data:i...      21   21.sdf  \n",
       "0   <img data-content=\"rdkit/molecule\" src=\"data:i...      89   89.sdf  \n",
       "0   <img data-content=\"rdkit/molecule\" src=\"data:i...      23   23.sdf  \n",
       "0   <img data-content=\"rdkit/molecule\" src=\"data:i...     227  227.sdf  \n",
       "\n",
       "[264 rows x 5 columns]"
      ]
     },
     "execution_count": 73,
     "metadata": {},
     "output_type": "execute_result"
    }
   ],
   "source": [
    "outputs.sort_values('affinity')"
   ]
  },
  {
   "cell_type": "code",
   "execution_count": null,
   "id": "056c82fa",
   "metadata": {},
   "outputs": [],
   "source": []
  }
 ],
 "metadata": {
  "kernelspec": {
   "display_name": "Python 3 (ipykernel)",
   "language": "python",
   "name": "python3"
  },
  "language_info": {
   "codemirror_mode": {
    "name": "ipython",
    "version": 3
   },
   "file_extension": ".py",
   "mimetype": "text/x-python",
   "name": "python",
   "nbconvert_exporter": "python",
   "pygments_lexer": "ipython3",
   "version": "3.8.13"
  }
 },
 "nbformat": 4,
 "nbformat_minor": 5
}
